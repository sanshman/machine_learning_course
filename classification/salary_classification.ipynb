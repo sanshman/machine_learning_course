{
  "nbformat": 4,
  "nbformat_minor": 0,
  "metadata": {
    "colab": {
      "provenance": []
    },
    "kernelspec": {
      "name": "python3",
      "display_name": "Python 3"
    },
    "language_info": {
      "name": "python"
    }
  },
  "cells": [
    {
      "cell_type": "markdown",
      "source": [
        "# Уровень заработной платы"
      ],
      "metadata": {
        "id": "PlL4nSTMR6Ov"
      }
    },
    {
      "cell_type": "markdown",
      "source": [
        "#### **Информация о данных**\n",
        "\n",
        "Используемый набор данных является выборкой из базы данных переписи населения 1994 года, сделанной Барри Беккером. Датасет содержит следующие признаки:\n",
        "\n",
        "1. **Возраст** (`age`): отражает возраст респондента (от 17 до 90 лет).\n",
        "2. **Рабочий класс** (`workclass`): отражает статус занятости респондента.\n",
        "3. **Оценка уникальности** (`fnlwgt`): отражает примерную оценку количества людей, которое представляет каждая строка данных.\n",
        "4. **Образование** (`education`): отражает уровень образования респондента.\n",
        "5. **Ступень образования** (`education-num`): отражает статус образования от дошкольного до докторантуры (от 1 до 16).\n",
        "6. **Семейное положение** (`marital-status`): отражает семейное положение респондента.\n",
        "7. **Сфера занятости** (`occupation`): отражает сферу занятости респондента.\n",
        "8. **Семейная роль** (`relationship`): отражает роль в семье респондента.\n",
        "9. **Раса** (`race`): отражает расовую принадлежность респондента.\n",
        "10. **Пол** (`sex`): отражает пол респондента (мужчина, женщина).\n",
        "11. **Прирост капитала** (`capital-gain`): отражает увеличение капитала у респондента.\n",
        "12. **Потеря капитала** (`capital-loss`): отражает уменьшение капитала у респондента.\n",
        "13. **Трудоспособность** (`hours-per-week`): отражает количество отработанных часов за неделю (от 1 до 99).\n",
        "14. **Страна рождения** (`native-country`): отражает страну, в которой родился респондент.\n",
        "15. **Зарплата** (`salary`): отражает уровень заработной платы респондента (<=50K, >50K).\n",
        "\n",
        "#### **Описание задачи**\n",
        "\n",
        "*Задача заключается в прогнозировании уровеня заработной платы.*\n",
        "\n",
        "В данной работе требуется проанализировать исходные данные, выяснить какие признаки оказывают наиболее сильное влияние на уровень заработной платы, применить различные алгоритмы классификации, которые смогут предсказывать уровень заработной платы по входным в данным.\n",
        "\n",
        "> Источник данных: https://www.kaggle.com/datasets/ayessa/salary-prediction-classification\n"
      ],
      "metadata": {
        "id": "qyXKquHNSGwy"
      }
    },
    {
      "cell_type": "markdown",
      "source": [
        "## **1. Чтение данных**"
      ],
      "metadata": {
        "id": "uoy1eJcZPEcs"
      }
    },
    {
      "cell_type": "markdown",
      "source": [
        "\n",
        "\n",
        "> В данном разделе мы подключим необходимые библиотеки и загрузим датасет\n",
        "\n",
        "\n",
        "\n"
      ],
      "metadata": {
        "id": "ijbwm3ljIKVh"
      }
    },
    {
      "cell_type": "markdown",
      "source": [
        "Подключаем необходимые для работы библиотеки"
      ],
      "metadata": {
        "id": "dH9W3rG1bpYO"
      }
    },
    {
      "cell_type": "code",
      "execution_count": 1,
      "metadata": {
        "id": "2JlWCrl5v7HV"
      },
      "outputs": [],
      "source": [
        "import numpy as np\n",
        "import pandas as pd\n",
        "import matplotlib.pyplot as plt\n",
        "import seaborn as sb"
      ]
    },
    {
      "cell_type": "markdown",
      "source": [
        "Загружаем исходный набор данных"
      ],
      "metadata": {
        "id": "bKiczlLocbUZ"
      }
    },
    {
      "cell_type": "code",
      "source": [
        "data_url = \"https://raw.githubusercontent.com/sanshman/machine_learning_course/main/salary.csv\"\n",
        "raw_df = pd.read_csv(data_url)\n",
        "raw_df.head(10)"
      ],
      "metadata": {
        "colab": {
          "base_uri": "https://localhost:8080/",
          "height": 563
        },
        "id": "rrsYUHgGxg5r",
        "outputId": "2777f55f-fb01-4d7c-cec5-c28e11876727"
      },
      "execution_count": 2,
      "outputs": [
        {
          "output_type": "execute_result",
          "data": {
            "text/plain": [
              "   age          workclass  fnlwgt   education  education-num  \\\n",
              "0   39          State-gov   77516   Bachelors             13   \n",
              "1   50   Self-emp-not-inc   83311   Bachelors             13   \n",
              "2   38            Private  215646     HS-grad              9   \n",
              "3   53            Private  234721        11th              7   \n",
              "4   28            Private  338409   Bachelors             13   \n",
              "5   37            Private  284582     Masters             14   \n",
              "6   49            Private  160187         9th              5   \n",
              "7   52   Self-emp-not-inc  209642     HS-grad              9   \n",
              "8   31            Private   45781     Masters             14   \n",
              "9   42            Private  159449   Bachelors             13   \n",
              "\n",
              "           marital-status          occupation    relationship    race  \\\n",
              "0           Never-married        Adm-clerical   Not-in-family   White   \n",
              "1      Married-civ-spouse     Exec-managerial         Husband   White   \n",
              "2                Divorced   Handlers-cleaners   Not-in-family   White   \n",
              "3      Married-civ-spouse   Handlers-cleaners         Husband   Black   \n",
              "4      Married-civ-spouse      Prof-specialty            Wife   Black   \n",
              "5      Married-civ-spouse     Exec-managerial            Wife   White   \n",
              "6   Married-spouse-absent       Other-service   Not-in-family   Black   \n",
              "7      Married-civ-spouse     Exec-managerial         Husband   White   \n",
              "8           Never-married      Prof-specialty   Not-in-family   White   \n",
              "9      Married-civ-spouse     Exec-managerial         Husband   White   \n",
              "\n",
              "       sex  capital-gain  capital-loss  hours-per-week  native-country  salary  \n",
              "0     Male          2174             0              40   United-States   <=50K  \n",
              "1     Male             0             0              13   United-States   <=50K  \n",
              "2     Male             0             0              40   United-States   <=50K  \n",
              "3     Male             0             0              40   United-States   <=50K  \n",
              "4   Female             0             0              40            Cuba   <=50K  \n",
              "5   Female             0             0              40   United-States   <=50K  \n",
              "6   Female             0             0              16         Jamaica   <=50K  \n",
              "7     Male             0             0              45   United-States    >50K  \n",
              "8   Female         14084             0              50   United-States    >50K  \n",
              "9     Male          5178             0              40   United-States    >50K  "
            ],
            "text/html": [
              "\n",
              "  <div id=\"df-78acf4d6-5911-4590-a431-8f946378533f\">\n",
              "    <div class=\"colab-df-container\">\n",
              "      <div>\n",
              "<style scoped>\n",
              "    .dataframe tbody tr th:only-of-type {\n",
              "        vertical-align: middle;\n",
              "    }\n",
              "\n",
              "    .dataframe tbody tr th {\n",
              "        vertical-align: top;\n",
              "    }\n",
              "\n",
              "    .dataframe thead th {\n",
              "        text-align: right;\n",
              "    }\n",
              "</style>\n",
              "<table border=\"1\" class=\"dataframe\">\n",
              "  <thead>\n",
              "    <tr style=\"text-align: right;\">\n",
              "      <th></th>\n",
              "      <th>age</th>\n",
              "      <th>workclass</th>\n",
              "      <th>fnlwgt</th>\n",
              "      <th>education</th>\n",
              "      <th>education-num</th>\n",
              "      <th>marital-status</th>\n",
              "      <th>occupation</th>\n",
              "      <th>relationship</th>\n",
              "      <th>race</th>\n",
              "      <th>sex</th>\n",
              "      <th>capital-gain</th>\n",
              "      <th>capital-loss</th>\n",
              "      <th>hours-per-week</th>\n",
              "      <th>native-country</th>\n",
              "      <th>salary</th>\n",
              "    </tr>\n",
              "  </thead>\n",
              "  <tbody>\n",
              "    <tr>\n",
              "      <th>0</th>\n",
              "      <td>39</td>\n",
              "      <td>State-gov</td>\n",
              "      <td>77516</td>\n",
              "      <td>Bachelors</td>\n",
              "      <td>13</td>\n",
              "      <td>Never-married</td>\n",
              "      <td>Adm-clerical</td>\n",
              "      <td>Not-in-family</td>\n",
              "      <td>White</td>\n",
              "      <td>Male</td>\n",
              "      <td>2174</td>\n",
              "      <td>0</td>\n",
              "      <td>40</td>\n",
              "      <td>United-States</td>\n",
              "      <td>&lt;=50K</td>\n",
              "    </tr>\n",
              "    <tr>\n",
              "      <th>1</th>\n",
              "      <td>50</td>\n",
              "      <td>Self-emp-not-inc</td>\n",
              "      <td>83311</td>\n",
              "      <td>Bachelors</td>\n",
              "      <td>13</td>\n",
              "      <td>Married-civ-spouse</td>\n",
              "      <td>Exec-managerial</td>\n",
              "      <td>Husband</td>\n",
              "      <td>White</td>\n",
              "      <td>Male</td>\n",
              "      <td>0</td>\n",
              "      <td>0</td>\n",
              "      <td>13</td>\n",
              "      <td>United-States</td>\n",
              "      <td>&lt;=50K</td>\n",
              "    </tr>\n",
              "    <tr>\n",
              "      <th>2</th>\n",
              "      <td>38</td>\n",
              "      <td>Private</td>\n",
              "      <td>215646</td>\n",
              "      <td>HS-grad</td>\n",
              "      <td>9</td>\n",
              "      <td>Divorced</td>\n",
              "      <td>Handlers-cleaners</td>\n",
              "      <td>Not-in-family</td>\n",
              "      <td>White</td>\n",
              "      <td>Male</td>\n",
              "      <td>0</td>\n",
              "      <td>0</td>\n",
              "      <td>40</td>\n",
              "      <td>United-States</td>\n",
              "      <td>&lt;=50K</td>\n",
              "    </tr>\n",
              "    <tr>\n",
              "      <th>3</th>\n",
              "      <td>53</td>\n",
              "      <td>Private</td>\n",
              "      <td>234721</td>\n",
              "      <td>11th</td>\n",
              "      <td>7</td>\n",
              "      <td>Married-civ-spouse</td>\n",
              "      <td>Handlers-cleaners</td>\n",
              "      <td>Husband</td>\n",
              "      <td>Black</td>\n",
              "      <td>Male</td>\n",
              "      <td>0</td>\n",
              "      <td>0</td>\n",
              "      <td>40</td>\n",
              "      <td>United-States</td>\n",
              "      <td>&lt;=50K</td>\n",
              "    </tr>\n",
              "    <tr>\n",
              "      <th>4</th>\n",
              "      <td>28</td>\n",
              "      <td>Private</td>\n",
              "      <td>338409</td>\n",
              "      <td>Bachelors</td>\n",
              "      <td>13</td>\n",
              "      <td>Married-civ-spouse</td>\n",
              "      <td>Prof-specialty</td>\n",
              "      <td>Wife</td>\n",
              "      <td>Black</td>\n",
              "      <td>Female</td>\n",
              "      <td>0</td>\n",
              "      <td>0</td>\n",
              "      <td>40</td>\n",
              "      <td>Cuba</td>\n",
              "      <td>&lt;=50K</td>\n",
              "    </tr>\n",
              "    <tr>\n",
              "      <th>5</th>\n",
              "      <td>37</td>\n",
              "      <td>Private</td>\n",
              "      <td>284582</td>\n",
              "      <td>Masters</td>\n",
              "      <td>14</td>\n",
              "      <td>Married-civ-spouse</td>\n",
              "      <td>Exec-managerial</td>\n",
              "      <td>Wife</td>\n",
              "      <td>White</td>\n",
              "      <td>Female</td>\n",
              "      <td>0</td>\n",
              "      <td>0</td>\n",
              "      <td>40</td>\n",
              "      <td>United-States</td>\n",
              "      <td>&lt;=50K</td>\n",
              "    </tr>\n",
              "    <tr>\n",
              "      <th>6</th>\n",
              "      <td>49</td>\n",
              "      <td>Private</td>\n",
              "      <td>160187</td>\n",
              "      <td>9th</td>\n",
              "      <td>5</td>\n",
              "      <td>Married-spouse-absent</td>\n",
              "      <td>Other-service</td>\n",
              "      <td>Not-in-family</td>\n",
              "      <td>Black</td>\n",
              "      <td>Female</td>\n",
              "      <td>0</td>\n",
              "      <td>0</td>\n",
              "      <td>16</td>\n",
              "      <td>Jamaica</td>\n",
              "      <td>&lt;=50K</td>\n",
              "    </tr>\n",
              "    <tr>\n",
              "      <th>7</th>\n",
              "      <td>52</td>\n",
              "      <td>Self-emp-not-inc</td>\n",
              "      <td>209642</td>\n",
              "      <td>HS-grad</td>\n",
              "      <td>9</td>\n",
              "      <td>Married-civ-spouse</td>\n",
              "      <td>Exec-managerial</td>\n",
              "      <td>Husband</td>\n",
              "      <td>White</td>\n",
              "      <td>Male</td>\n",
              "      <td>0</td>\n",
              "      <td>0</td>\n",
              "      <td>45</td>\n",
              "      <td>United-States</td>\n",
              "      <td>&gt;50K</td>\n",
              "    </tr>\n",
              "    <tr>\n",
              "      <th>8</th>\n",
              "      <td>31</td>\n",
              "      <td>Private</td>\n",
              "      <td>45781</td>\n",
              "      <td>Masters</td>\n",
              "      <td>14</td>\n",
              "      <td>Never-married</td>\n",
              "      <td>Prof-specialty</td>\n",
              "      <td>Not-in-family</td>\n",
              "      <td>White</td>\n",
              "      <td>Female</td>\n",
              "      <td>14084</td>\n",
              "      <td>0</td>\n",
              "      <td>50</td>\n",
              "      <td>United-States</td>\n",
              "      <td>&gt;50K</td>\n",
              "    </tr>\n",
              "    <tr>\n",
              "      <th>9</th>\n",
              "      <td>42</td>\n",
              "      <td>Private</td>\n",
              "      <td>159449</td>\n",
              "      <td>Bachelors</td>\n",
              "      <td>13</td>\n",
              "      <td>Married-civ-spouse</td>\n",
              "      <td>Exec-managerial</td>\n",
              "      <td>Husband</td>\n",
              "      <td>White</td>\n",
              "      <td>Male</td>\n",
              "      <td>5178</td>\n",
              "      <td>0</td>\n",
              "      <td>40</td>\n",
              "      <td>United-States</td>\n",
              "      <td>&gt;50K</td>\n",
              "    </tr>\n",
              "  </tbody>\n",
              "</table>\n",
              "</div>\n",
              "      <button class=\"colab-df-convert\" onclick=\"convertToInteractive('df-78acf4d6-5911-4590-a431-8f946378533f')\"\n",
              "              title=\"Convert this dataframe to an interactive table.\"\n",
              "              style=\"display:none;\">\n",
              "        \n",
              "  <svg xmlns=\"http://www.w3.org/2000/svg\" height=\"24px\"viewBox=\"0 0 24 24\"\n",
              "       width=\"24px\">\n",
              "    <path d=\"M0 0h24v24H0V0z\" fill=\"none\"/>\n",
              "    <path d=\"M18.56 5.44l.94 2.06.94-2.06 2.06-.94-2.06-.94-.94-2.06-.94 2.06-2.06.94zm-11 1L8.5 8.5l.94-2.06 2.06-.94-2.06-.94L8.5 2.5l-.94 2.06-2.06.94zm10 10l.94 2.06.94-2.06 2.06-.94-2.06-.94-.94-2.06-.94 2.06-2.06.94z\"/><path d=\"M17.41 7.96l-1.37-1.37c-.4-.4-.92-.59-1.43-.59-.52 0-1.04.2-1.43.59L10.3 9.45l-7.72 7.72c-.78.78-.78 2.05 0 2.83L4 21.41c.39.39.9.59 1.41.59.51 0 1.02-.2 1.41-.59l7.78-7.78 2.81-2.81c.8-.78.8-2.07 0-2.86zM5.41 20L4 18.59l7.72-7.72 1.47 1.35L5.41 20z\"/>\n",
              "  </svg>\n",
              "      </button>\n",
              "      \n",
              "  <style>\n",
              "    .colab-df-container {\n",
              "      display:flex;\n",
              "      flex-wrap:wrap;\n",
              "      gap: 12px;\n",
              "    }\n",
              "\n",
              "    .colab-df-convert {\n",
              "      background-color: #E8F0FE;\n",
              "      border: none;\n",
              "      border-radius: 50%;\n",
              "      cursor: pointer;\n",
              "      display: none;\n",
              "      fill: #1967D2;\n",
              "      height: 32px;\n",
              "      padding: 0 0 0 0;\n",
              "      width: 32px;\n",
              "    }\n",
              "\n",
              "    .colab-df-convert:hover {\n",
              "      background-color: #E2EBFA;\n",
              "      box-shadow: 0px 1px 2px rgba(60, 64, 67, 0.3), 0px 1px 3px 1px rgba(60, 64, 67, 0.15);\n",
              "      fill: #174EA6;\n",
              "    }\n",
              "\n",
              "    [theme=dark] .colab-df-convert {\n",
              "      background-color: #3B4455;\n",
              "      fill: #D2E3FC;\n",
              "    }\n",
              "\n",
              "    [theme=dark] .colab-df-convert:hover {\n",
              "      background-color: #434B5C;\n",
              "      box-shadow: 0px 1px 3px 1px rgba(0, 0, 0, 0.15);\n",
              "      filter: drop-shadow(0px 1px 2px rgba(0, 0, 0, 0.3));\n",
              "      fill: #FFFFFF;\n",
              "    }\n",
              "  </style>\n",
              "\n",
              "      <script>\n",
              "        const buttonEl =\n",
              "          document.querySelector('#df-78acf4d6-5911-4590-a431-8f946378533f button.colab-df-convert');\n",
              "        buttonEl.style.display =\n",
              "          google.colab.kernel.accessAllowed ? 'block' : 'none';\n",
              "\n",
              "        async function convertToInteractive(key) {\n",
              "          const element = document.querySelector('#df-78acf4d6-5911-4590-a431-8f946378533f');\n",
              "          const dataTable =\n",
              "            await google.colab.kernel.invokeFunction('convertToInteractive',\n",
              "                                                     [key], {});\n",
              "          if (!dataTable) return;\n",
              "\n",
              "          const docLinkHtml = 'Like what you see? Visit the ' +\n",
              "            '<a target=\"_blank\" href=https://colab.research.google.com/notebooks/data_table.ipynb>data table notebook</a>'\n",
              "            + ' to learn more about interactive tables.';\n",
              "          element.innerHTML = '';\n",
              "          dataTable['output_type'] = 'display_data';\n",
              "          await google.colab.output.renderOutput(dataTable, element);\n",
              "          const docLink = document.createElement('div');\n",
              "          docLink.innerHTML = docLinkHtml;\n",
              "          element.appendChild(docLink);\n",
              "        }\n",
              "      </script>\n",
              "    </div>\n",
              "  </div>\n",
              "  "
            ]
          },
          "metadata": {},
          "execution_count": 2
        }
      ]
    },
    {
      "cell_type": "markdown",
      "source": [
        "## **2. Анализ данных**"
      ],
      "metadata": {
        "id": "KtsbcOVIekQm"
      }
    },
    {
      "cell_type": "markdown",
      "source": [
        "> В данном разделе мы изучим исходные данные, а также убедимся в отсутствии пропущенных значений\n",
        "\n",
        " \n",
        "\n"
      ],
      "metadata": {
        "id": "87aM0WrvKqUh"
      }
    },
    {
      "cell_type": "code",
      "source": [
        "df = raw_df.copy()\n",
        "df.info()"
      ],
      "metadata": {
        "colab": {
          "base_uri": "https://localhost:8080/"
        },
        "id": "ffqDCZX3hLg9",
        "outputId": "b61498f6-f608-4abf-c7ba-c565334ce2b4"
      },
      "execution_count": 3,
      "outputs": [
        {
          "output_type": "stream",
          "name": "stdout",
          "text": [
            "<class 'pandas.core.frame.DataFrame'>\n",
            "RangeIndex: 32561 entries, 0 to 32560\n",
            "Data columns (total 15 columns):\n",
            " #   Column          Non-Null Count  Dtype \n",
            "---  ------          --------------  ----- \n",
            " 0   age             32561 non-null  int64 \n",
            " 1   workclass       32561 non-null  object\n",
            " 2   fnlwgt          32561 non-null  int64 \n",
            " 3   education       32561 non-null  object\n",
            " 4   education-num   32561 non-null  int64 \n",
            " 5   marital-status  32561 non-null  object\n",
            " 6   occupation      32561 non-null  object\n",
            " 7   relationship    32561 non-null  object\n",
            " 8   race            32561 non-null  object\n",
            " 9   sex             32561 non-null  object\n",
            " 10  capital-gain    32561 non-null  int64 \n",
            " 11  capital-loss    32561 non-null  int64 \n",
            " 12  hours-per-week  32561 non-null  int64 \n",
            " 13  native-country  32561 non-null  object\n",
            " 14  salary          32561 non-null  object\n",
            "dtypes: int64(6), object(9)\n",
            "memory usage: 3.7+ MB\n"
          ]
        }
      ]
    },
    {
      "cell_type": "code",
      "source": [
        "df.isnull().sum()"
      ],
      "metadata": {
        "colab": {
          "base_uri": "https://localhost:8080/"
        },
        "id": "4k-Uw34h0axc",
        "outputId": "276522c5-d7a5-4874-f6d7-af82d6600d72"
      },
      "execution_count": 4,
      "outputs": [
        {
          "output_type": "execute_result",
          "data": {
            "text/plain": [
              "age               0\n",
              "workclass         0\n",
              "fnlwgt            0\n",
              "education         0\n",
              "education-num     0\n",
              "marital-status    0\n",
              "occupation        0\n",
              "relationship      0\n",
              "race              0\n",
              "sex               0\n",
              "capital-gain      0\n",
              "capital-loss      0\n",
              "hours-per-week    0\n",
              "native-country    0\n",
              "salary            0\n",
              "dtype: int64"
            ]
          },
          "metadata": {},
          "execution_count": 4
        }
      ]
    },
    {
      "cell_type": "markdown",
      "source": [
        "*В таблице отсутствуют пропущенные данные!*"
      ],
      "metadata": {
        "id": "Wg36unzMY7-V"
      }
    },
    {
      "cell_type": "markdown",
      "source": [
        "На данном этапе мы можем быть уверены в отсутствии пропусков только для числовых признаков, для категориальных проверим данное утверждение немного позже."
      ],
      "metadata": {
        "id": "zXI_xju9QT2T"
      }
    },
    {
      "cell_type": "code",
      "source": [
        "df.shape"
      ],
      "metadata": {
        "colab": {
          "base_uri": "https://localhost:8080/"
        },
        "id": "jIz2dJKQdDsa",
        "outputId": "c104da3c-814b-49bf-e0d1-9391fa8452d2"
      },
      "execution_count": 5,
      "outputs": [
        {
          "output_type": "execute_result",
          "data": {
            "text/plain": [
              "(32561, 15)"
            ]
          },
          "metadata": {},
          "execution_count": 5
        }
      ]
    },
    {
      "cell_type": "markdown",
      "source": [
        "Для анализа имеем **32561 объекта** и **15 признаков**. Посмотрим на *числовые* и *категориальные* признаки по отдельности."
      ],
      "metadata": {
        "id": "4b6FQraZgA0A"
      }
    },
    {
      "cell_type": "markdown",
      "source": [
        "### **2.1. Числовые признаки**"
      ],
      "metadata": {
        "id": "KTytmQ5ZM34K"
      }
    },
    {
      "cell_type": "markdown",
      "source": [
        "Выделим среди всех признаков — числовые "
      ],
      "metadata": {
        "id": "8nS4erZGOVAK"
      }
    },
    {
      "cell_type": "code",
      "source": [
        "numeric_parameters = [column for column in df.columns if df[column].dtype.name != 'object']\n",
        "numeric_parameters"
      ],
      "metadata": {
        "colab": {
          "base_uri": "https://localhost:8080/"
        },
        "id": "gSF2gxoix5au",
        "outputId": "a88624ca-7c14-4625-b48a-843f6fdba40b"
      },
      "execution_count": 6,
      "outputs": [
        {
          "output_type": "execute_result",
          "data": {
            "text/plain": [
              "['age',\n",
              " 'fnlwgt',\n",
              " 'education-num',\n",
              " 'capital-gain',\n",
              " 'capital-loss',\n",
              " 'hours-per-week']"
            ]
          },
          "metadata": {},
          "execution_count": 6
        }
      ]
    },
    {
      "cell_type": "markdown",
      "source": [
        "Имеем **6** числовых признаков. Посмотрим их основные характеристики"
      ],
      "metadata": {
        "id": "7SG50HwHSRiE"
      }
    },
    {
      "cell_type": "code",
      "source": [
        "df.describe()"
      ],
      "metadata": {
        "colab": {
          "base_uri": "https://localhost:8080/",
          "height": 300
        },
        "id": "DALSyM42yBle",
        "outputId": "21adcfa7-52b3-41db-ca9f-b6a3983373e7"
      },
      "execution_count": 7,
      "outputs": [
        {
          "output_type": "execute_result",
          "data": {
            "text/plain": [
              "                age        fnlwgt  education-num  capital-gain  capital-loss  \\\n",
              "count  32561.000000  3.256100e+04   32561.000000  32561.000000  32561.000000   \n",
              "mean      38.581647  1.897784e+05      10.080679   1077.648844     87.303830   \n",
              "std       13.640433  1.055500e+05       2.572720   7385.292085    402.960219   \n",
              "min       17.000000  1.228500e+04       1.000000      0.000000      0.000000   \n",
              "25%       28.000000  1.178270e+05       9.000000      0.000000      0.000000   \n",
              "50%       37.000000  1.783560e+05      10.000000      0.000000      0.000000   \n",
              "75%       48.000000  2.370510e+05      12.000000      0.000000      0.000000   \n",
              "max       90.000000  1.484705e+06      16.000000  99999.000000   4356.000000   \n",
              "\n",
              "       hours-per-week  \n",
              "count    32561.000000  \n",
              "mean        40.437456  \n",
              "std         12.347429  \n",
              "min          1.000000  \n",
              "25%         40.000000  \n",
              "50%         40.000000  \n",
              "75%         45.000000  \n",
              "max         99.000000  "
            ],
            "text/html": [
              "\n",
              "  <div id=\"df-ff44d13f-2c1e-4f3c-af3b-a90a92f9b062\">\n",
              "    <div class=\"colab-df-container\">\n",
              "      <div>\n",
              "<style scoped>\n",
              "    .dataframe tbody tr th:only-of-type {\n",
              "        vertical-align: middle;\n",
              "    }\n",
              "\n",
              "    .dataframe tbody tr th {\n",
              "        vertical-align: top;\n",
              "    }\n",
              "\n",
              "    .dataframe thead th {\n",
              "        text-align: right;\n",
              "    }\n",
              "</style>\n",
              "<table border=\"1\" class=\"dataframe\">\n",
              "  <thead>\n",
              "    <tr style=\"text-align: right;\">\n",
              "      <th></th>\n",
              "      <th>age</th>\n",
              "      <th>fnlwgt</th>\n",
              "      <th>education-num</th>\n",
              "      <th>capital-gain</th>\n",
              "      <th>capital-loss</th>\n",
              "      <th>hours-per-week</th>\n",
              "    </tr>\n",
              "  </thead>\n",
              "  <tbody>\n",
              "    <tr>\n",
              "      <th>count</th>\n",
              "      <td>32561.000000</td>\n",
              "      <td>3.256100e+04</td>\n",
              "      <td>32561.000000</td>\n",
              "      <td>32561.000000</td>\n",
              "      <td>32561.000000</td>\n",
              "      <td>32561.000000</td>\n",
              "    </tr>\n",
              "    <tr>\n",
              "      <th>mean</th>\n",
              "      <td>38.581647</td>\n",
              "      <td>1.897784e+05</td>\n",
              "      <td>10.080679</td>\n",
              "      <td>1077.648844</td>\n",
              "      <td>87.303830</td>\n",
              "      <td>40.437456</td>\n",
              "    </tr>\n",
              "    <tr>\n",
              "      <th>std</th>\n",
              "      <td>13.640433</td>\n",
              "      <td>1.055500e+05</td>\n",
              "      <td>2.572720</td>\n",
              "      <td>7385.292085</td>\n",
              "      <td>402.960219</td>\n",
              "      <td>12.347429</td>\n",
              "    </tr>\n",
              "    <tr>\n",
              "      <th>min</th>\n",
              "      <td>17.000000</td>\n",
              "      <td>1.228500e+04</td>\n",
              "      <td>1.000000</td>\n",
              "      <td>0.000000</td>\n",
              "      <td>0.000000</td>\n",
              "      <td>1.000000</td>\n",
              "    </tr>\n",
              "    <tr>\n",
              "      <th>25%</th>\n",
              "      <td>28.000000</td>\n",
              "      <td>1.178270e+05</td>\n",
              "      <td>9.000000</td>\n",
              "      <td>0.000000</td>\n",
              "      <td>0.000000</td>\n",
              "      <td>40.000000</td>\n",
              "    </tr>\n",
              "    <tr>\n",
              "      <th>50%</th>\n",
              "      <td>37.000000</td>\n",
              "      <td>1.783560e+05</td>\n",
              "      <td>10.000000</td>\n",
              "      <td>0.000000</td>\n",
              "      <td>0.000000</td>\n",
              "      <td>40.000000</td>\n",
              "    </tr>\n",
              "    <tr>\n",
              "      <th>75%</th>\n",
              "      <td>48.000000</td>\n",
              "      <td>2.370510e+05</td>\n",
              "      <td>12.000000</td>\n",
              "      <td>0.000000</td>\n",
              "      <td>0.000000</td>\n",
              "      <td>45.000000</td>\n",
              "    </tr>\n",
              "    <tr>\n",
              "      <th>max</th>\n",
              "      <td>90.000000</td>\n",
              "      <td>1.484705e+06</td>\n",
              "      <td>16.000000</td>\n",
              "      <td>99999.000000</td>\n",
              "      <td>4356.000000</td>\n",
              "      <td>99.000000</td>\n",
              "    </tr>\n",
              "  </tbody>\n",
              "</table>\n",
              "</div>\n",
              "      <button class=\"colab-df-convert\" onclick=\"convertToInteractive('df-ff44d13f-2c1e-4f3c-af3b-a90a92f9b062')\"\n",
              "              title=\"Convert this dataframe to an interactive table.\"\n",
              "              style=\"display:none;\">\n",
              "        \n",
              "  <svg xmlns=\"http://www.w3.org/2000/svg\" height=\"24px\"viewBox=\"0 0 24 24\"\n",
              "       width=\"24px\">\n",
              "    <path d=\"M0 0h24v24H0V0z\" fill=\"none\"/>\n",
              "    <path d=\"M18.56 5.44l.94 2.06.94-2.06 2.06-.94-2.06-.94-.94-2.06-.94 2.06-2.06.94zm-11 1L8.5 8.5l.94-2.06 2.06-.94-2.06-.94L8.5 2.5l-.94 2.06-2.06.94zm10 10l.94 2.06.94-2.06 2.06-.94-2.06-.94-.94-2.06-.94 2.06-2.06.94z\"/><path d=\"M17.41 7.96l-1.37-1.37c-.4-.4-.92-.59-1.43-.59-.52 0-1.04.2-1.43.59L10.3 9.45l-7.72 7.72c-.78.78-.78 2.05 0 2.83L4 21.41c.39.39.9.59 1.41.59.51 0 1.02-.2 1.41-.59l7.78-7.78 2.81-2.81c.8-.78.8-2.07 0-2.86zM5.41 20L4 18.59l7.72-7.72 1.47 1.35L5.41 20z\"/>\n",
              "  </svg>\n",
              "      </button>\n",
              "      \n",
              "  <style>\n",
              "    .colab-df-container {\n",
              "      display:flex;\n",
              "      flex-wrap:wrap;\n",
              "      gap: 12px;\n",
              "    }\n",
              "\n",
              "    .colab-df-convert {\n",
              "      background-color: #E8F0FE;\n",
              "      border: none;\n",
              "      border-radius: 50%;\n",
              "      cursor: pointer;\n",
              "      display: none;\n",
              "      fill: #1967D2;\n",
              "      height: 32px;\n",
              "      padding: 0 0 0 0;\n",
              "      width: 32px;\n",
              "    }\n",
              "\n",
              "    .colab-df-convert:hover {\n",
              "      background-color: #E2EBFA;\n",
              "      box-shadow: 0px 1px 2px rgba(60, 64, 67, 0.3), 0px 1px 3px 1px rgba(60, 64, 67, 0.15);\n",
              "      fill: #174EA6;\n",
              "    }\n",
              "\n",
              "    [theme=dark] .colab-df-convert {\n",
              "      background-color: #3B4455;\n",
              "      fill: #D2E3FC;\n",
              "    }\n",
              "\n",
              "    [theme=dark] .colab-df-convert:hover {\n",
              "      background-color: #434B5C;\n",
              "      box-shadow: 0px 1px 3px 1px rgba(0, 0, 0, 0.15);\n",
              "      filter: drop-shadow(0px 1px 2px rgba(0, 0, 0, 0.3));\n",
              "      fill: #FFFFFF;\n",
              "    }\n",
              "  </style>\n",
              "\n",
              "      <script>\n",
              "        const buttonEl =\n",
              "          document.querySelector('#df-ff44d13f-2c1e-4f3c-af3b-a90a92f9b062 button.colab-df-convert');\n",
              "        buttonEl.style.display =\n",
              "          google.colab.kernel.accessAllowed ? 'block' : 'none';\n",
              "\n",
              "        async function convertToInteractive(key) {\n",
              "          const element = document.querySelector('#df-ff44d13f-2c1e-4f3c-af3b-a90a92f9b062');\n",
              "          const dataTable =\n",
              "            await google.colab.kernel.invokeFunction('convertToInteractive',\n",
              "                                                     [key], {});\n",
              "          if (!dataTable) return;\n",
              "\n",
              "          const docLinkHtml = 'Like what you see? Visit the ' +\n",
              "            '<a target=\"_blank\" href=https://colab.research.google.com/notebooks/data_table.ipynb>data table notebook</a>'\n",
              "            + ' to learn more about interactive tables.';\n",
              "          element.innerHTML = '';\n",
              "          dataTable['output_type'] = 'display_data';\n",
              "          await google.colab.output.renderOutput(dataTable, element);\n",
              "          const docLink = document.createElement('div');\n",
              "          docLink.innerHTML = docLinkHtml;\n",
              "          element.appendChild(docLink);\n",
              "        }\n",
              "      </script>\n",
              "    </div>\n",
              "  </div>\n",
              "  "
            ]
          },
          "metadata": {},
          "execution_count": 7
        }
      ]
    },
    {
      "cell_type": "markdown",
      "source": [
        "В таблице представлены основые статистические характеристики:\n",
        "\n",
        "* Количество (`count`)\n",
        "* Медиана (`mean`)\n",
        "* Среднеквадратическое отклонение (`std`)\n",
        "* Минимум (`min`)\n",
        "* Квантиль 25%\n",
        "* Квантиль 50% \n",
        "* Квантиль 75% \n",
        "* Максимум (`max`)\n",
        "\n",
        "На данном этапе можно заметить странное распределение в признаках *capital-gain* и *capital-loss*. Скорее всего это связано с тем, что данные признаки равняются нулю для большиства опрошенных. Все остальные характеристики выглядят достаточно правдоподобно.\n"
      ],
      "metadata": {
        "id": "ZbgEa60RS-yx"
      }
    },
    {
      "cell_type": "markdown",
      "source": [
        "### **2.2. Категориальные признаки**"
      ],
      "metadata": {
        "id": "B8ZwhbUzM_4a"
      }
    },
    {
      "cell_type": "markdown",
      "source": [
        "Выделим среди всех признаков — категориальные"
      ],
      "metadata": {
        "id": "BvwUS1f4PCul"
      }
    },
    {
      "cell_type": "code",
      "source": [
        "category_parameters = [column for column in df.columns if df[column].dtype.name == 'object']\n",
        "category_parameters"
      ],
      "metadata": {
        "colab": {
          "base_uri": "https://localhost:8080/"
        },
        "id": "tyIEwXncK06C",
        "outputId": "3bb35433-d774-4421-9d66-55b07d97a00b"
      },
      "execution_count": 8,
      "outputs": [
        {
          "output_type": "execute_result",
          "data": {
            "text/plain": [
              "['workclass',\n",
              " 'education',\n",
              " 'marital-status',\n",
              " 'occupation',\n",
              " 'relationship',\n",
              " 'race',\n",
              " 'sex',\n",
              " 'native-country',\n",
              " 'salary']"
            ]
          },
          "metadata": {},
          "execution_count": 8
        }
      ]
    },
    {
      "cell_type": "markdown",
      "source": [
        "Имеем **9** категориальных признаков. Рассмотрим распределение каждого из данных признаков по отдельности."
      ],
      "metadata": {
        "id": "sRjwe8hTPOPC"
      }
    },
    {
      "cell_type": "code",
      "source": [
        "df['workclass'].value_counts()"
      ],
      "metadata": {
        "colab": {
          "base_uri": "https://localhost:8080/"
        },
        "id": "flRN1DkjW4xl",
        "outputId": "e4eec57d-170a-4d84-8127-077d43afc4d7"
      },
      "execution_count": 9,
      "outputs": [
        {
          "output_type": "execute_result",
          "data": {
            "text/plain": [
              " Private             22696\n",
              " Self-emp-not-inc     2541\n",
              " Local-gov            2093\n",
              " ?                    1836\n",
              " State-gov            1298\n",
              " Self-emp-inc         1116\n",
              " Federal-gov           960\n",
              " Without-pay            14\n",
              " Never-worked            7\n",
              "Name: workclass, dtype: int64"
            ]
          },
          "metadata": {},
          "execution_count": 9
        }
      ]
    },
    {
      "cell_type": "code",
      "source": [
        "df['education'].value_counts()"
      ],
      "metadata": {
        "colab": {
          "base_uri": "https://localhost:8080/"
        },
        "id": "FgGwTN_wXT1F",
        "outputId": "4f0d13dc-c686-471a-a8c6-f7e1c3ac1745"
      },
      "execution_count": 10,
      "outputs": [
        {
          "output_type": "execute_result",
          "data": {
            "text/plain": [
              " HS-grad         10501\n",
              " Some-college     7291\n",
              " Bachelors        5355\n",
              " Masters          1723\n",
              " Assoc-voc        1382\n",
              " 11th             1175\n",
              " Assoc-acdm       1067\n",
              " 10th              933\n",
              " 7th-8th           646\n",
              " Prof-school       576\n",
              " 9th               514\n",
              " 12th              433\n",
              " Doctorate         413\n",
              " 5th-6th           333\n",
              " 1st-4th           168\n",
              " Preschool          51\n",
              "Name: education, dtype: int64"
            ]
          },
          "metadata": {},
          "execution_count": 10
        }
      ]
    },
    {
      "cell_type": "code",
      "source": [
        "df['marital-status'].value_counts()"
      ],
      "metadata": {
        "colab": {
          "base_uri": "https://localhost:8080/"
        },
        "outputId": "e4f964ed-82ad-4e3d-c0a6-3c909222604d",
        "id": "OHI5nzzXXesV"
      },
      "execution_count": 11,
      "outputs": [
        {
          "output_type": "execute_result",
          "data": {
            "text/plain": [
              " Married-civ-spouse       14976\n",
              " Never-married            10683\n",
              " Divorced                  4443\n",
              " Separated                 1025\n",
              " Widowed                    993\n",
              " Married-spouse-absent      418\n",
              " Married-AF-spouse           23\n",
              "Name: marital-status, dtype: int64"
            ]
          },
          "metadata": {},
          "execution_count": 11
        }
      ]
    },
    {
      "cell_type": "code",
      "source": [
        "df['occupation'].value_counts()"
      ],
      "metadata": {
        "colab": {
          "base_uri": "https://localhost:8080/"
        },
        "outputId": "ac66bf93-d2ba-42e0-b8c8-052175f4e1bb",
        "id": "0dF3iacIXgFS"
      },
      "execution_count": 12,
      "outputs": [
        {
          "output_type": "execute_result",
          "data": {
            "text/plain": [
              " Prof-specialty       4140\n",
              " Craft-repair         4099\n",
              " Exec-managerial      4066\n",
              " Adm-clerical         3770\n",
              " Sales                3650\n",
              " Other-service        3295\n",
              " Machine-op-inspct    2002\n",
              " ?                    1843\n",
              " Transport-moving     1597\n",
              " Handlers-cleaners    1370\n",
              " Farming-fishing       994\n",
              " Tech-support          928\n",
              " Protective-serv       649\n",
              " Priv-house-serv       149\n",
              " Armed-Forces            9\n",
              "Name: occupation, dtype: int64"
            ]
          },
          "metadata": {},
          "execution_count": 12
        }
      ]
    },
    {
      "cell_type": "code",
      "source": [
        "df['education'].value_counts()"
      ],
      "metadata": {
        "colab": {
          "base_uri": "https://localhost:8080/"
        },
        "outputId": "f5efa578-9409-47dc-8cca-5c8423554da9",
        "id": "R0xGHV-vXgeR"
      },
      "execution_count": 13,
      "outputs": [
        {
          "output_type": "execute_result",
          "data": {
            "text/plain": [
              " HS-grad         10501\n",
              " Some-college     7291\n",
              " Bachelors        5355\n",
              " Masters          1723\n",
              " Assoc-voc        1382\n",
              " 11th             1175\n",
              " Assoc-acdm       1067\n",
              " 10th              933\n",
              " 7th-8th           646\n",
              " Prof-school       576\n",
              " 9th               514\n",
              " 12th              433\n",
              " Doctorate         413\n",
              " 5th-6th           333\n",
              " 1st-4th           168\n",
              " Preschool          51\n",
              "Name: education, dtype: int64"
            ]
          },
          "metadata": {},
          "execution_count": 13
        }
      ]
    },
    {
      "cell_type": "code",
      "source": [
        "df['relationship'].value_counts()"
      ],
      "metadata": {
        "colab": {
          "base_uri": "https://localhost:8080/"
        },
        "outputId": "86f2fc7c-0e82-42c5-d7f9-645c16099569",
        "id": "6dTAYNVcXgzB"
      },
      "execution_count": 14,
      "outputs": [
        {
          "output_type": "execute_result",
          "data": {
            "text/plain": [
              " Husband           13193\n",
              " Not-in-family      8305\n",
              " Own-child          5068\n",
              " Unmarried          3446\n",
              " Wife               1568\n",
              " Other-relative      981\n",
              "Name: relationship, dtype: int64"
            ]
          },
          "metadata": {},
          "execution_count": 14
        }
      ]
    },
    {
      "cell_type": "code",
      "source": [
        "df['race'].value_counts()"
      ],
      "metadata": {
        "colab": {
          "base_uri": "https://localhost:8080/"
        },
        "outputId": "3928a834-256c-41e9-deed-f493914e7b2c",
        "id": "a5HYrMXSXg97"
      },
      "execution_count": 15,
      "outputs": [
        {
          "output_type": "execute_result",
          "data": {
            "text/plain": [
              " White                 27816\n",
              " Black                  3124\n",
              " Asian-Pac-Islander     1039\n",
              " Amer-Indian-Eskimo      311\n",
              " Other                   271\n",
              "Name: race, dtype: int64"
            ]
          },
          "metadata": {},
          "execution_count": 15
        }
      ]
    },
    {
      "cell_type": "code",
      "source": [
        "df['sex'].value_counts()"
      ],
      "metadata": {
        "colab": {
          "base_uri": "https://localhost:8080/"
        },
        "outputId": "996c2078-e2ea-4476-9aaf-05c925bfd7ec",
        "id": "xhkBub1UXhNS"
      },
      "execution_count": 16,
      "outputs": [
        {
          "output_type": "execute_result",
          "data": {
            "text/plain": [
              " Male      21790\n",
              " Female    10771\n",
              "Name: sex, dtype: int64"
            ]
          },
          "metadata": {},
          "execution_count": 16
        }
      ]
    },
    {
      "cell_type": "code",
      "source": [
        "df['native-country'].value_counts()"
      ],
      "metadata": {
        "colab": {
          "base_uri": "https://localhost:8080/"
        },
        "outputId": "de58a749-ac8e-4d7a-9660-01a3322a83d4",
        "id": "6s4AsR3qXhWV"
      },
      "execution_count": 17,
      "outputs": [
        {
          "output_type": "execute_result",
          "data": {
            "text/plain": [
              " United-States                 29170\n",
              " Mexico                          643\n",
              " ?                               583\n",
              " Philippines                     198\n",
              " Germany                         137\n",
              " Canada                          121\n",
              " Puerto-Rico                     114\n",
              " El-Salvador                     106\n",
              " India                           100\n",
              " Cuba                             95\n",
              " England                          90\n",
              " Jamaica                          81\n",
              " South                            80\n",
              " China                            75\n",
              " Italy                            73\n",
              " Dominican-Republic               70\n",
              " Vietnam                          67\n",
              " Guatemala                        64\n",
              " Japan                            62\n",
              " Poland                           60\n",
              " Columbia                         59\n",
              " Taiwan                           51\n",
              " Haiti                            44\n",
              " Iran                             43\n",
              " Portugal                         37\n",
              " Nicaragua                        34\n",
              " Peru                             31\n",
              " France                           29\n",
              " Greece                           29\n",
              " Ecuador                          28\n",
              " Ireland                          24\n",
              " Hong                             20\n",
              " Cambodia                         19\n",
              " Trinadad&Tobago                  19\n",
              " Laos                             18\n",
              " Thailand                         18\n",
              " Yugoslavia                       16\n",
              " Outlying-US(Guam-USVI-etc)       14\n",
              " Honduras                         13\n",
              " Hungary                          13\n",
              " Scotland                         12\n",
              " Holand-Netherlands                1\n",
              "Name: native-country, dtype: int64"
            ]
          },
          "metadata": {},
          "execution_count": 17
        }
      ]
    },
    {
      "cell_type": "code",
      "source": [
        "df['salary'].value_counts()"
      ],
      "metadata": {
        "colab": {
          "base_uri": "https://localhost:8080/"
        },
        "id": "HrxuQPJUX_SV",
        "outputId": "6eb15f0d-f047-45c8-8dbc-5b2e1bbe5bdd"
      },
      "execution_count": 18,
      "outputs": [
        {
          "output_type": "execute_result",
          "data": {
            "text/plain": [
              " <=50K    24720\n",
              " >50K      7841\n",
              "Name: salary, dtype: int64"
            ]
          },
          "metadata": {},
          "execution_count": 18
        }
      ]
    },
    {
      "cell_type": "markdown",
      "source": [
        "Просматривая полученные значения, можно заметить, что среди категориальных признаков **workclass**, **occupation**, **native-country** имеются пропущенные данные, которые обозначаются **' ?'**. Произведем замену данных значений на NaN (Not a Number)."
      ],
      "metadata": {
        "id": "laqJEAdh4FxA"
      }
    },
    {
      "cell_type": "code",
      "source": [
        "df['workclass'].replace(' ?', np.nan, inplace=True)\n",
        "df['occupation'].replace(' ?', np.nan, inplace=True)\n",
        "df['native-country'].replace(' ?', np.nan, inplace=True)"
      ],
      "metadata": {
        "id": "leAjmLKqhqMk"
      },
      "execution_count": 19,
      "outputs": []
    },
    {
      "cell_type": "markdown",
      "source": [
        "##  **3. Борьба с пропущенными значениями**"
      ],
      "metadata": {
        "id": "IzwQwn45iMhe"
      }
    },
    {
      "cell_type": "markdown",
      "source": [
        "> В данном разделе мы выполним обработку пропущенных значений\n",
        "\n",
        "\n",
        "\n"
      ],
      "metadata": {
        "id": "MEaOH_PPZqd1"
      }
    },
    {
      "cell_type": "markdown",
      "source": [
        "Из анализа данных, содержащихся в категориальных признаках, обнаружилось, что в датасете присутствуют пропуски, с которыми нужно как-то побороться. Рассмотрим какие признаки имеют пропущенные значения:"
      ],
      "metadata": {
        "id": "IrrlV1S2w829"
      }
    },
    {
      "cell_type": "code",
      "source": [
        "df.isnull().sum()"
      ],
      "metadata": {
        "colab": {
          "base_uri": "https://localhost:8080/"
        },
        "id": "885o38SkiPvp",
        "outputId": "970813f2-c9c2-4fe5-fadb-9eb4691af1e2"
      },
      "execution_count": 20,
      "outputs": [
        {
          "output_type": "execute_result",
          "data": {
            "text/plain": [
              "age                  0\n",
              "workclass         1836\n",
              "fnlwgt               0\n",
              "education            0\n",
              "education-num        0\n",
              "marital-status       0\n",
              "occupation        1843\n",
              "relationship         0\n",
              "race                 0\n",
              "sex                  0\n",
              "capital-gain         0\n",
              "capital-loss         0\n",
              "hours-per-week       0\n",
              "native-country     583\n",
              "salary               0\n",
              "dtype: int64"
            ]
          },
          "metadata": {},
          "execution_count": 20
        }
      ]
    },
    {
      "cell_type": "markdown",
      "source": [
        "Существуют различные способы борьбы с пропусками. Самый примитивный — просто удалить те строки, в которых встречаются пропущенные значения. Так как датасет содержит не особо большое количество строк, то удаление пропущенных данных может привести к неточности дальнейшего исследования, поэтому способом заполнения пропусков будет *поиск наиболее популярных значений среди данного признака.* Посмотрим на часть датасета с пропусками:"
      ],
      "metadata": {
        "id": "1xdGKo2LFETh"
      }
    },
    {
      "cell_type": "code",
      "source": [
        "df_with_nan = df[df['workclass'].isnull()]\n",
        "df_with_nan.head(10)"
      ],
      "metadata": {
        "colab": {
          "base_uri": "https://localhost:8080/",
          "height": 598
        },
        "id": "GUlG-qH0y5Gl",
        "outputId": "108aa0e9-77ce-434e-d41b-7945ce1eabb0"
      },
      "execution_count": 21,
      "outputs": [
        {
          "output_type": "execute_result",
          "data": {
            "text/plain": [
              "     age workclass  fnlwgt      education  education-num  \\\n",
              "27    54       NaN  180211   Some-college             10   \n",
              "61    32       NaN  293936        7th-8th              4   \n",
              "69    25       NaN  200681   Some-college             10   \n",
              "77    67       NaN  212759           10th              6   \n",
              "106   17       NaN  304873           10th              6   \n",
              "128   35       NaN  129305        HS-grad              9   \n",
              "149   43       NaN  174662   Some-college             10   \n",
              "154   52       NaN  252903        HS-grad              9   \n",
              "160   68       NaN   38317        1st-4th              2   \n",
              "187   53       NaN  135105      Bachelors             13   \n",
              "\n",
              "             marital-status occupation    relationship                 race  \\\n",
              "27       Married-civ-spouse        NaN         Husband   Asian-Pac-Islander   \n",
              "61    Married-spouse-absent        NaN   Not-in-family                White   \n",
              "69            Never-married        NaN       Own-child                White   \n",
              "77       Married-civ-spouse        NaN         Husband                White   \n",
              "106           Never-married        NaN       Own-child                White   \n",
              "128      Married-civ-spouse        NaN         Husband                White   \n",
              "149                Divorced        NaN   Not-in-family                White   \n",
              "154                Divorced        NaN   Not-in-family                White   \n",
              "160                Divorced        NaN   Not-in-family                White   \n",
              "187                Divorced        NaN   Not-in-family                White   \n",
              "\n",
              "         sex  capital-gain  capital-loss  hours-per-week  native-country  \\\n",
              "27      Male             0             0              60           South   \n",
              "61      Male             0             0              40             NaN   \n",
              "69      Male             0             0              40   United-States   \n",
              "77      Male             0             0               2   United-States   \n",
              "106   Female         34095             0              32   United-States   \n",
              "128     Male             0             0              40   United-States   \n",
              "149   Female             0             0              40   United-States   \n",
              "154     Male             0             0              45   United-States   \n",
              "160   Female             0             0              20   United-States   \n",
              "187   Female             0             0              50   United-States   \n",
              "\n",
              "     salary  \n",
              "27     >50K  \n",
              "61    <=50K  \n",
              "69    <=50K  \n",
              "77    <=50K  \n",
              "106   <=50K  \n",
              "128   <=50K  \n",
              "149   <=50K  \n",
              "154    >50K  \n",
              "160   <=50K  \n",
              "187   <=50K  "
            ],
            "text/html": [
              "\n",
              "  <div id=\"df-28fa4dae-460a-4ceb-8cb1-575d121b2df1\">\n",
              "    <div class=\"colab-df-container\">\n",
              "      <div>\n",
              "<style scoped>\n",
              "    .dataframe tbody tr th:only-of-type {\n",
              "        vertical-align: middle;\n",
              "    }\n",
              "\n",
              "    .dataframe tbody tr th {\n",
              "        vertical-align: top;\n",
              "    }\n",
              "\n",
              "    .dataframe thead th {\n",
              "        text-align: right;\n",
              "    }\n",
              "</style>\n",
              "<table border=\"1\" class=\"dataframe\">\n",
              "  <thead>\n",
              "    <tr style=\"text-align: right;\">\n",
              "      <th></th>\n",
              "      <th>age</th>\n",
              "      <th>workclass</th>\n",
              "      <th>fnlwgt</th>\n",
              "      <th>education</th>\n",
              "      <th>education-num</th>\n",
              "      <th>marital-status</th>\n",
              "      <th>occupation</th>\n",
              "      <th>relationship</th>\n",
              "      <th>race</th>\n",
              "      <th>sex</th>\n",
              "      <th>capital-gain</th>\n",
              "      <th>capital-loss</th>\n",
              "      <th>hours-per-week</th>\n",
              "      <th>native-country</th>\n",
              "      <th>salary</th>\n",
              "    </tr>\n",
              "  </thead>\n",
              "  <tbody>\n",
              "    <tr>\n",
              "      <th>27</th>\n",
              "      <td>54</td>\n",
              "      <td>NaN</td>\n",
              "      <td>180211</td>\n",
              "      <td>Some-college</td>\n",
              "      <td>10</td>\n",
              "      <td>Married-civ-spouse</td>\n",
              "      <td>NaN</td>\n",
              "      <td>Husband</td>\n",
              "      <td>Asian-Pac-Islander</td>\n",
              "      <td>Male</td>\n",
              "      <td>0</td>\n",
              "      <td>0</td>\n",
              "      <td>60</td>\n",
              "      <td>South</td>\n",
              "      <td>&gt;50K</td>\n",
              "    </tr>\n",
              "    <tr>\n",
              "      <th>61</th>\n",
              "      <td>32</td>\n",
              "      <td>NaN</td>\n",
              "      <td>293936</td>\n",
              "      <td>7th-8th</td>\n",
              "      <td>4</td>\n",
              "      <td>Married-spouse-absent</td>\n",
              "      <td>NaN</td>\n",
              "      <td>Not-in-family</td>\n",
              "      <td>White</td>\n",
              "      <td>Male</td>\n",
              "      <td>0</td>\n",
              "      <td>0</td>\n",
              "      <td>40</td>\n",
              "      <td>NaN</td>\n",
              "      <td>&lt;=50K</td>\n",
              "    </tr>\n",
              "    <tr>\n",
              "      <th>69</th>\n",
              "      <td>25</td>\n",
              "      <td>NaN</td>\n",
              "      <td>200681</td>\n",
              "      <td>Some-college</td>\n",
              "      <td>10</td>\n",
              "      <td>Never-married</td>\n",
              "      <td>NaN</td>\n",
              "      <td>Own-child</td>\n",
              "      <td>White</td>\n",
              "      <td>Male</td>\n",
              "      <td>0</td>\n",
              "      <td>0</td>\n",
              "      <td>40</td>\n",
              "      <td>United-States</td>\n",
              "      <td>&lt;=50K</td>\n",
              "    </tr>\n",
              "    <tr>\n",
              "      <th>77</th>\n",
              "      <td>67</td>\n",
              "      <td>NaN</td>\n",
              "      <td>212759</td>\n",
              "      <td>10th</td>\n",
              "      <td>6</td>\n",
              "      <td>Married-civ-spouse</td>\n",
              "      <td>NaN</td>\n",
              "      <td>Husband</td>\n",
              "      <td>White</td>\n",
              "      <td>Male</td>\n",
              "      <td>0</td>\n",
              "      <td>0</td>\n",
              "      <td>2</td>\n",
              "      <td>United-States</td>\n",
              "      <td>&lt;=50K</td>\n",
              "    </tr>\n",
              "    <tr>\n",
              "      <th>106</th>\n",
              "      <td>17</td>\n",
              "      <td>NaN</td>\n",
              "      <td>304873</td>\n",
              "      <td>10th</td>\n",
              "      <td>6</td>\n",
              "      <td>Never-married</td>\n",
              "      <td>NaN</td>\n",
              "      <td>Own-child</td>\n",
              "      <td>White</td>\n",
              "      <td>Female</td>\n",
              "      <td>34095</td>\n",
              "      <td>0</td>\n",
              "      <td>32</td>\n",
              "      <td>United-States</td>\n",
              "      <td>&lt;=50K</td>\n",
              "    </tr>\n",
              "    <tr>\n",
              "      <th>128</th>\n",
              "      <td>35</td>\n",
              "      <td>NaN</td>\n",
              "      <td>129305</td>\n",
              "      <td>HS-grad</td>\n",
              "      <td>9</td>\n",
              "      <td>Married-civ-spouse</td>\n",
              "      <td>NaN</td>\n",
              "      <td>Husband</td>\n",
              "      <td>White</td>\n",
              "      <td>Male</td>\n",
              "      <td>0</td>\n",
              "      <td>0</td>\n",
              "      <td>40</td>\n",
              "      <td>United-States</td>\n",
              "      <td>&lt;=50K</td>\n",
              "    </tr>\n",
              "    <tr>\n",
              "      <th>149</th>\n",
              "      <td>43</td>\n",
              "      <td>NaN</td>\n",
              "      <td>174662</td>\n",
              "      <td>Some-college</td>\n",
              "      <td>10</td>\n",
              "      <td>Divorced</td>\n",
              "      <td>NaN</td>\n",
              "      <td>Not-in-family</td>\n",
              "      <td>White</td>\n",
              "      <td>Female</td>\n",
              "      <td>0</td>\n",
              "      <td>0</td>\n",
              "      <td>40</td>\n",
              "      <td>United-States</td>\n",
              "      <td>&lt;=50K</td>\n",
              "    </tr>\n",
              "    <tr>\n",
              "      <th>154</th>\n",
              "      <td>52</td>\n",
              "      <td>NaN</td>\n",
              "      <td>252903</td>\n",
              "      <td>HS-grad</td>\n",
              "      <td>9</td>\n",
              "      <td>Divorced</td>\n",
              "      <td>NaN</td>\n",
              "      <td>Not-in-family</td>\n",
              "      <td>White</td>\n",
              "      <td>Male</td>\n",
              "      <td>0</td>\n",
              "      <td>0</td>\n",
              "      <td>45</td>\n",
              "      <td>United-States</td>\n",
              "      <td>&gt;50K</td>\n",
              "    </tr>\n",
              "    <tr>\n",
              "      <th>160</th>\n",
              "      <td>68</td>\n",
              "      <td>NaN</td>\n",
              "      <td>38317</td>\n",
              "      <td>1st-4th</td>\n",
              "      <td>2</td>\n",
              "      <td>Divorced</td>\n",
              "      <td>NaN</td>\n",
              "      <td>Not-in-family</td>\n",
              "      <td>White</td>\n",
              "      <td>Female</td>\n",
              "      <td>0</td>\n",
              "      <td>0</td>\n",
              "      <td>20</td>\n",
              "      <td>United-States</td>\n",
              "      <td>&lt;=50K</td>\n",
              "    </tr>\n",
              "    <tr>\n",
              "      <th>187</th>\n",
              "      <td>53</td>\n",
              "      <td>NaN</td>\n",
              "      <td>135105</td>\n",
              "      <td>Bachelors</td>\n",
              "      <td>13</td>\n",
              "      <td>Divorced</td>\n",
              "      <td>NaN</td>\n",
              "      <td>Not-in-family</td>\n",
              "      <td>White</td>\n",
              "      <td>Female</td>\n",
              "      <td>0</td>\n",
              "      <td>0</td>\n",
              "      <td>50</td>\n",
              "      <td>United-States</td>\n",
              "      <td>&lt;=50K</td>\n",
              "    </tr>\n",
              "  </tbody>\n",
              "</table>\n",
              "</div>\n",
              "      <button class=\"colab-df-convert\" onclick=\"convertToInteractive('df-28fa4dae-460a-4ceb-8cb1-575d121b2df1')\"\n",
              "              title=\"Convert this dataframe to an interactive table.\"\n",
              "              style=\"display:none;\">\n",
              "        \n",
              "  <svg xmlns=\"http://www.w3.org/2000/svg\" height=\"24px\"viewBox=\"0 0 24 24\"\n",
              "       width=\"24px\">\n",
              "    <path d=\"M0 0h24v24H0V0z\" fill=\"none\"/>\n",
              "    <path d=\"M18.56 5.44l.94 2.06.94-2.06 2.06-.94-2.06-.94-.94-2.06-.94 2.06-2.06.94zm-11 1L8.5 8.5l.94-2.06 2.06-.94-2.06-.94L8.5 2.5l-.94 2.06-2.06.94zm10 10l.94 2.06.94-2.06 2.06-.94-2.06-.94-.94-2.06-.94 2.06-2.06.94z\"/><path d=\"M17.41 7.96l-1.37-1.37c-.4-.4-.92-.59-1.43-.59-.52 0-1.04.2-1.43.59L10.3 9.45l-7.72 7.72c-.78.78-.78 2.05 0 2.83L4 21.41c.39.39.9.59 1.41.59.51 0 1.02-.2 1.41-.59l7.78-7.78 2.81-2.81c.8-.78.8-2.07 0-2.86zM5.41 20L4 18.59l7.72-7.72 1.47 1.35L5.41 20z\"/>\n",
              "  </svg>\n",
              "      </button>\n",
              "      \n",
              "  <style>\n",
              "    .colab-df-container {\n",
              "      display:flex;\n",
              "      flex-wrap:wrap;\n",
              "      gap: 12px;\n",
              "    }\n",
              "\n",
              "    .colab-df-convert {\n",
              "      background-color: #E8F0FE;\n",
              "      border: none;\n",
              "      border-radius: 50%;\n",
              "      cursor: pointer;\n",
              "      display: none;\n",
              "      fill: #1967D2;\n",
              "      height: 32px;\n",
              "      padding: 0 0 0 0;\n",
              "      width: 32px;\n",
              "    }\n",
              "\n",
              "    .colab-df-convert:hover {\n",
              "      background-color: #E2EBFA;\n",
              "      box-shadow: 0px 1px 2px rgba(60, 64, 67, 0.3), 0px 1px 3px 1px rgba(60, 64, 67, 0.15);\n",
              "      fill: #174EA6;\n",
              "    }\n",
              "\n",
              "    [theme=dark] .colab-df-convert {\n",
              "      background-color: #3B4455;\n",
              "      fill: #D2E3FC;\n",
              "    }\n",
              "\n",
              "    [theme=dark] .colab-df-convert:hover {\n",
              "      background-color: #434B5C;\n",
              "      box-shadow: 0px 1px 3px 1px rgba(0, 0, 0, 0.15);\n",
              "      filter: drop-shadow(0px 1px 2px rgba(0, 0, 0, 0.3));\n",
              "      fill: #FFFFFF;\n",
              "    }\n",
              "  </style>\n",
              "\n",
              "      <script>\n",
              "        const buttonEl =\n",
              "          document.querySelector('#df-28fa4dae-460a-4ceb-8cb1-575d121b2df1 button.colab-df-convert');\n",
              "        buttonEl.style.display =\n",
              "          google.colab.kernel.accessAllowed ? 'block' : 'none';\n",
              "\n",
              "        async function convertToInteractive(key) {\n",
              "          const element = document.querySelector('#df-28fa4dae-460a-4ceb-8cb1-575d121b2df1');\n",
              "          const dataTable =\n",
              "            await google.colab.kernel.invokeFunction('convertToInteractive',\n",
              "                                                     [key], {});\n",
              "          if (!dataTable) return;\n",
              "\n",
              "          const docLinkHtml = 'Like what you see? Visit the ' +\n",
              "            '<a target=\"_blank\" href=https://colab.research.google.com/notebooks/data_table.ipynb>data table notebook</a>'\n",
              "            + ' to learn more about interactive tables.';\n",
              "          element.innerHTML = '';\n",
              "          dataTable['output_type'] = 'display_data';\n",
              "          await google.colab.output.renderOutput(dataTable, element);\n",
              "          const docLink = document.createElement('div');\n",
              "          docLink.innerHTML = docLinkHtml;\n",
              "          element.appendChild(docLink);\n",
              "        }\n",
              "      </script>\n",
              "    </div>\n",
              "  </div>\n",
              "  "
            ]
          },
          "metadata": {},
          "execution_count": 21
        }
      ]
    },
    {
      "cell_type": "markdown",
      "source": [
        "В данной выборке можно разглядеть, что везде, где отсутствует признак workclass, также отсутствует и признак occupation. Возможно между ними имеется некая связь. Поэтому найдем наиболее популярное значение признака **workclass** и затем по найденному значению выберем самое популярное среди **occupation**. Значения для признака **native-country**\tзаполним аналогично — наиболее популярным."
      ],
      "metadata": {
        "id": "iV_NGjVGEhWQ"
      }
    },
    {
      "cell_type": "markdown",
      "source": [
        "Найдем самое популярное значение среди признака **workclass**"
      ],
      "metadata": {
        "id": "uxnacRPMCZJI"
      }
    },
    {
      "cell_type": "code",
      "source": [
        "df['workclass'].mode()[0]"
      ],
      "metadata": {
        "colab": {
          "base_uri": "https://localhost:8080/",
          "height": 35
        },
        "id": "mVqaI8rRQNWX",
        "outputId": "6f2ab772-4c60-46a1-c0af-e5e702beb6b5"
      },
      "execution_count": 22,
      "outputs": [
        {
          "output_type": "execute_result",
          "data": {
            "text/plain": [
              "' Private'"
            ],
            "application/vnd.google.colaboratory.intrinsic+json": {
              "type": "string"
            }
          },
          "metadata": {},
          "execution_count": 22
        }
      ]
    },
    {
      "cell_type": "markdown",
      "source": [
        "Найдем самое популярное значение среди признака **occupation**, учитывая что *workclass* = *'Private'*"
      ],
      "metadata": {
        "id": "LShoP439Cksw"
      }
    },
    {
      "cell_type": "code",
      "source": [
        "df['occupation'][df['workclass'] == df['workclass'].mode()[0]].mode()[0]"
      ],
      "metadata": {
        "colab": {
          "base_uri": "https://localhost:8080/",
          "height": 35
        },
        "id": "6qMt0xbYRpPd",
        "outputId": "bc87e5ce-30f0-4d74-8744-56b76fe6dbe1"
      },
      "execution_count": 23,
      "outputs": [
        {
          "output_type": "execute_result",
          "data": {
            "text/plain": [
              "' Craft-repair'"
            ],
            "application/vnd.google.colaboratory.intrinsic+json": {
              "type": "string"
            }
          },
          "metadata": {},
          "execution_count": 23
        }
      ]
    },
    {
      "cell_type": "markdown",
      "source": [
        "Найдем самое популярное значение среди признака **native-country**"
      ],
      "metadata": {
        "id": "vcsBSilhDCIg"
      }
    },
    {
      "cell_type": "code",
      "source": [
        "df['native-country'].mode()[0]"
      ],
      "metadata": {
        "colab": {
          "base_uri": "https://localhost:8080/",
          "height": 35
        },
        "id": "2iA9kZd8QEXV",
        "outputId": "7d0cc805-6deb-40a3-9d6f-9bae64c39cb4"
      },
      "execution_count": 24,
      "outputs": [
        {
          "output_type": "execute_result",
          "data": {
            "text/plain": [
              "' United-States'"
            ],
            "application/vnd.google.colaboratory.intrinsic+json": {
              "type": "string"
            }
          },
          "metadata": {},
          "execution_count": 24
        }
      ]
    },
    {
      "cell_type": "markdown",
      "source": [
        "Заменим соответствующие пропуски найденными значениями"
      ],
      "metadata": {
        "id": "YwKKiDu-CJgY"
      }
    },
    {
      "cell_type": "code",
      "source": [
        "df['workclass'].fillna(df['workclass'].mode()[0], inplace=True)\n",
        "df['occupation'].fillna(df['occupation'][df['workclass'] == df['workclass'].mode()[0]].mode()[0], inplace=True)\n",
        "df['native-country'].fillna(df['native-country'].mode()[0], inplace=True)"
      ],
      "metadata": {
        "id": "PHti9wOWXmyA"
      },
      "execution_count": 25,
      "outputs": []
    },
    {
      "cell_type": "code",
      "source": [
        "df.isnull().sum()"
      ],
      "metadata": {
        "colab": {
          "base_uri": "https://localhost:8080/"
        },
        "id": "xJ-lXjtcX7IE",
        "outputId": "6df46f51-607c-472b-99f6-97b8edf5424f"
      },
      "execution_count": 26,
      "outputs": [
        {
          "output_type": "execute_result",
          "data": {
            "text/plain": [
              "age               0\n",
              "workclass         0\n",
              "fnlwgt            0\n",
              "education         0\n",
              "education-num     0\n",
              "marital-status    0\n",
              "occupation        0\n",
              "relationship      0\n",
              "race              0\n",
              "sex               0\n",
              "capital-gain      0\n",
              "capital-loss      0\n",
              "hours-per-week    0\n",
              "native-country    0\n",
              "salary            0\n",
              "dtype: int64"
            ]
          },
          "metadata": {},
          "execution_count": 26
        }
      ]
    },
    {
      "cell_type": "markdown",
      "source": [
        "Мы успешно поборолись с пропущенными значениями, можно переходить к дальнейшему исследованию."
      ],
      "metadata": {
        "id": "NRSe9tVYxe0d"
      }
    },
    {
      "cell_type": "markdown",
      "source": [
        "##  **4. Визуализация данных**"
      ],
      "metadata": {
        "id": "205hWa6bEP3h"
      }
    },
    {
      "cell_type": "markdown",
      "source": [
        "\n",
        "\n",
        "> В данном разделе мы выполним визуализацию данных, чтобы понять зависимость уровня заработной платы от различных признаков, а также убедиться в наличии или отсутствии выбросов\n",
        "\n"
      ],
      "metadata": {
        "id": "B-5zcw6BKotB"
      }
    },
    {
      "cell_type": "code",
      "source": [
        "df.info()"
      ],
      "metadata": {
        "colab": {
          "base_uri": "https://localhost:8080/"
        },
        "id": "EsjqLYV6diJ5",
        "outputId": "6390f2d3-6d48-4a71-c35f-031fefb351dd"
      },
      "execution_count": 27,
      "outputs": [
        {
          "output_type": "stream",
          "name": "stdout",
          "text": [
            "<class 'pandas.core.frame.DataFrame'>\n",
            "RangeIndex: 32561 entries, 0 to 32560\n",
            "Data columns (total 15 columns):\n",
            " #   Column          Non-Null Count  Dtype \n",
            "---  ------          --------------  ----- \n",
            " 0   age             32561 non-null  int64 \n",
            " 1   workclass       32561 non-null  object\n",
            " 2   fnlwgt          32561 non-null  int64 \n",
            " 3   education       32561 non-null  object\n",
            " 4   education-num   32561 non-null  int64 \n",
            " 5   marital-status  32561 non-null  object\n",
            " 6   occupation      32561 non-null  object\n",
            " 7   relationship    32561 non-null  object\n",
            " 8   race            32561 non-null  object\n",
            " 9   sex             32561 non-null  object\n",
            " 10  capital-gain    32561 non-null  int64 \n",
            " 11  capital-loss    32561 non-null  int64 \n",
            " 12  hours-per-week  32561 non-null  int64 \n",
            " 13  native-country  32561 non-null  object\n",
            " 14  salary          32561 non-null  object\n",
            "dtypes: int64(6), object(9)\n",
            "memory usage: 3.7+ MB\n"
          ]
        }
      ]
    },
    {
      "cell_type": "markdown",
      "source": [
        "*Простроим графическое представление матрицы корреляции*"
      ],
      "metadata": {
        "id": "OOm0puAUaj8d"
      }
    },
    {
      "cell_type": "code",
      "source": [
        "plt.figure(figsize = (12,8))\n",
        "sb.heatmap(df.corr(), annot=True, cmap='Blues')\n",
        "plt.show()"
      ],
      "metadata": {
        "colab": {
          "base_uri": "https://localhost:8080/",
          "height": 487
        },
        "id": "8sdnr9RLNeWQ",
        "outputId": "e7e867b6-4807-4702-f988-d5ec30af4062"
      },
      "execution_count": 28,
      "outputs": [
        {
          "output_type": "display_data",
          "data": {
            "text/plain": [
              "<Figure size 864x576 with 2 Axes>"
            ],
            "image/png": "[encoded data removed]"
          },
          "metadata": {
            "needs_background": "light"
          }
        }
      ]
    },
    {
      "cell_type": "markdown",
      "source": [
        "Как результат, признаки практически не коррелируют друг с другом.\n",
        "\n",
        " \n",
        "\n"
      ],
      "metadata": {
        "id": "fJtWp-z0a86P"
      }
    },
    {
      "cell_type": "code",
      "source": [
        "color = [\"#3498db\",\"#34495e\"]\n",
        "sb.set_palette(color)"
      ],
      "metadata": {
        "id": "UK_GDB4efWGd"
      },
      "execution_count": 29,
      "outputs": []
    },
    {
      "cell_type": "markdown",
      "source": [
        "*Посмотрим на какой возраст приходится наибольший заработок*"
      ],
      "metadata": {
        "id": "UQ_XuhGNbP1l"
      }
    },
    {
      "cell_type": "code",
      "source": [
        "plt.figure(figsize=(12, 8))\n",
        "sb.boxplot(data=df, y='age', x='salary')\n",
        "plt.show()"
      ],
      "metadata": {
        "colab": {
          "base_uri": "https://localhost:8080/",
          "height": 497
        },
        "id": "sg6Y0O3sdXkS",
        "outputId": "fee3d0a1-b5af-42de-cace-11867b931281"
      },
      "execution_count": 30,
      "outputs": [
        {
          "output_type": "display_data",
          "data": {
            "text/plain": [
              "<Figure size 864x576 with 1 Axes>"
            ],
            "image/png": "[encoded data removed]"
          },
          "metadata": {
            "needs_background": "light"
          }
        }
      ]
    },
    {
      "cell_type": "markdown",
      "source": [
        "Можно увидеть, что среди опрошенных, у которых зарплата более 50К, преобладают люди в возрасте примерно от 35 до 50. Зарплату менее 50К получают люди примерно от 25 до 45."
      ],
      "metadata": {
        "id": "jMUCUyjqlcN1"
      }
    },
    {
      "cell_type": "markdown",
      "source": [
        "*Посмотрим зависимость заработной платы от характеристики, которая обозначает количество людей со схожими признаками*"
      ],
      "metadata": {
        "id": "V43LkWYZwHsT"
      }
    },
    {
      "cell_type": "code",
      "source": [
        "plt.figure(figsize=(12, 8))\n",
        "sb.boxplot(data=df, y='fnlwgt', x='salary')\n",
        "plt.show()"
      ],
      "metadata": {
        "colab": {
          "base_uri": "https://localhost:8080/",
          "height": 508
        },
        "id": "dDaIyecEsUlD",
        "outputId": "93018597-af22-4625-abac-6e7630cb44da"
      },
      "execution_count": 31,
      "outputs": [
        {
          "output_type": "display_data",
          "data": {
            "text/plain": [
              "<Figure size 864x576 with 1 Axes>"
            ],
            "image/png": "[encoded data removed]"
          },
          "metadata": {
            "needs_background": "light"
          }
        }
      ]
    },
    {
      "cell_type": "code",
      "source": [
        "plt.figure(figsize=(12, 8))\n",
        "sb.kdeplot(data=df, x='fnlwgt', hue='salary')\n",
        "plt.show()"
      ],
      "metadata": {
        "colab": {
          "base_uri": "https://localhost:8080/",
          "height": 508
        },
        "id": "ag4az4DCwoZq",
        "outputId": "f3b8bd3a-ea58-4516-e354-8e0428162468"
      },
      "execution_count": 32,
      "outputs": [
        {
          "output_type": "display_data",
          "data": {
            "text/plain": [
              "<Figure size 864x576 with 1 Axes>"
            ],
            "image/png": "[encoded data removed]"
          },
          "metadata": {
            "needs_background": "light"
          }
        }
      ]
    },
    {
      "cell_type": "markdown",
      "source": [
        "Трудно разглядеть зависимость зарплаты от данного признака. Попробуем отбросить его при дальнейшей обработке данных."
      ],
      "metadata": {
        "id": "xdubjCTDxJUy"
      }
    },
    {
      "cell_type": "markdown",
      "source": [
        "*Посмотрим распределение заработной платы по принадлежности к рабочему классу*"
      ],
      "metadata": {
        "id": "jaliLkE_ailF"
      }
    },
    {
      "cell_type": "code",
      "source": [
        "plt.figure(figsize=(12, 8))\n",
        "sb.countplot(data=df, x='workclass', hue='salary')\n",
        "plt.show()"
      ],
      "metadata": {
        "colab": {
          "base_uri": "https://localhost:8080/",
          "height": 497
        },
        "id": "mvHftGumfp7N",
        "outputId": "e70ff55d-dc3a-48c0-b9d9-f3860d5089b2"
      },
      "execution_count": 33,
      "outputs": [
        {
          "output_type": "display_data",
          "data": {
            "text/plain": [
              "<Figure size 864x576 with 1 Axes>"
            ],
            "image/png": "[encoded data removed]"
          },
          "metadata": {
            "needs_background": "light"
          }
        }
      ]
    },
    {
      "cell_type": "markdown",
      "source": [
        "Среди людей рабочего класса можем наблюдать наибольшее количество людей, которые получают зарплату более 50К, кроме того данный класс преобладает и среди тех, кто пролучает зарплату менее 50К. "
      ],
      "metadata": {
        "id": "j70lcGimf68W"
      }
    },
    {
      "cell_type": "markdown",
      "source": [
        "*Посмотрим распределение заработной платы среди уровня образования*"
      ],
      "metadata": {
        "id": "_ISTEhproCMV"
      }
    },
    {
      "cell_type": "code",
      "source": [
        "plt.figure(figsize=(12, 8))\n",
        "sb.countplot(data=df, y='education', hue='salary')\n",
        "plt.show()"
      ],
      "metadata": {
        "colab": {
          "base_uri": "https://localhost:8080/",
          "height": 497
        },
        "id": "aOpiAXtchS3N",
        "outputId": "81dbc8bd-fb43-4000-be26-a456ed3c06d0"
      },
      "execution_count": 34,
      "outputs": [
        {
          "output_type": "display_data",
          "data": {
            "text/plain": [
              "<Figure size 864x576 with 1 Axes>"
            ],
            "image/png": "[encoded data removed]"
          },
          "metadata": {
            "needs_background": "light"
          }
        }
      ]
    },
    {
      "cell_type": "markdown",
      "source": [
        "Очевидно, что уровень образования играет ключевую роль в формировании заработной платы. По графику видно, что большинство тех, кто получает более 50К имеют образование начиная от высшей школы или колледжа и заканчивая магистратурой."
      ],
      "metadata": {
        "id": "dSOqwOm-phAt"
      }
    },
    {
      "cell_type": "markdown",
      "source": [
        "*Посмотрим зависимость заработной платы от семейного положения*"
      ],
      "metadata": {
        "id": "cE1gprytqCwr"
      }
    },
    {
      "cell_type": "code",
      "source": [
        "plt.figure(figsize=(12, 8))\n",
        "sb.countplot(data=df, x='marital-status', hue='salary')\n",
        "plt.show()"
      ],
      "metadata": {
        "colab": {
          "base_uri": "https://localhost:8080/",
          "height": 497
        },
        "id": "by9WUx7qhiZc",
        "outputId": "dd1810cd-0055-475c-e372-a371954bea9a"
      },
      "execution_count": 35,
      "outputs": [
        {
          "output_type": "display_data",
          "data": {
            "text/plain": [
              "<Figure size 864x576 with 1 Axes>"
            ],
            "image/png": "[encoded data removed]"
          },
          "metadata": {
            "needs_background": "light"
          }
        }
      ]
    },
    {
      "cell_type": "markdown",
      "source": [
        "Большинство тех, кто хорошо зарабатывает, находится в гражданском браке."
      ],
      "metadata": {
        "id": "gujZe2DIqLc7"
      }
    },
    {
      "cell_type": "code",
      "source": [
        "plt.figure(figsize=(12, 8))\n",
        "sb.countplot(data=df, x='relationship', hue='salary')\n",
        "plt.show()"
      ],
      "metadata": {
        "colab": {
          "base_uri": "https://localhost:8080/",
          "height": 497
        },
        "id": "BHBQuLSRiFc-",
        "outputId": "2d1697f4-9050-4aa4-e3ac-0267e2437a5d"
      },
      "execution_count": 36,
      "outputs": [
        {
          "output_type": "display_data",
          "data": {
            "text/plain": [
              "<Figure size 864x576 with 1 Axes>"
            ],
            "image/png": "[encoded data removed]"
          },
          "metadata": {
            "needs_background": "light"
          }
        }
      ]
    },
    {
      "cell_type": "markdown",
      "source": [
        "В основном высоким заработком может похвастаться только мужчина."
      ],
      "metadata": {
        "id": "rV0-bRApqWbj"
      }
    },
    {
      "cell_type": "markdown",
      "source": [
        "*Посмотрим зависимость заработной платы от расы*"
      ],
      "metadata": {
        "id": "HWdgMvnOqj8r"
      }
    },
    {
      "cell_type": "code",
      "source": [
        "plt.figure(figsize=(12, 8))\n",
        "sb.countplot(data=df, x='race', hue='salary')\n",
        "plt.show()"
      ],
      "metadata": {
        "colab": {
          "base_uri": "https://localhost:8080/",
          "height": 497
        },
        "id": "7JIlXlpHiWjE",
        "outputId": "f82e3b43-7036-44f3-f677-6cd0ea478e15"
      },
      "execution_count": 37,
      "outputs": [
        {
          "output_type": "display_data",
          "data": {
            "text/plain": [
              "<Figure size 864x576 with 1 Axes>"
            ],
            "image/png": "[encoded data removed]"
          },
          "metadata": {
            "needs_background": "light"
          }
        }
      ]
    },
    {
      "cell_type": "markdown",
      "source": [
        "Хороший заработок в основном характерен для людей «белой расы»."
      ],
      "metadata": {
        "id": "BZc97tvOqpfU"
      }
    },
    {
      "cell_type": "markdown",
      "source": [
        "*Посмотрим зависимость заработной платы от пола*"
      ],
      "metadata": {
        "id": "2avgg4YLrOq7"
      }
    },
    {
      "cell_type": "code",
      "source": [
        "plt.figure(figsize=(12, 8))\n",
        "sb.countplot(data=df, x='sex', hue='salary')\n",
        "plt.show()"
      ],
      "metadata": {
        "colab": {
          "base_uri": "https://localhost:8080/",
          "height": 497
        },
        "id": "wa6827FdiZhM",
        "outputId": "e234524a-d147-4d08-e73d-c22517429c5f"
      },
      "execution_count": 38,
      "outputs": [
        {
          "output_type": "display_data",
          "data": {
            "text/plain": [
              "<Figure size 864x576 with 1 Axes>"
            ],
            "image/png": "[encoded data removed]"
          },
          "metadata": {
            "needs_background": "light"
          }
        }
      ]
    },
    {
      "cell_type": "markdown",
      "source": [
        "Высокий заработок преобладает среди мужчин."
      ],
      "metadata": {
        "id": "y-1zcpbklYLa"
      }
    },
    {
      "cell_type": "markdown",
      "source": [
        "*Посмотрим зависимость заработной платы от прироста или потери капитала*"
      ],
      "metadata": {
        "id": "4fJuVEMSrhez"
      }
    },
    {
      "cell_type": "code",
      "source": [
        "plt.figure(figsize=(12, 8))\n",
        "sb.kdeplot(data=df, x='capital-gain', hue='salary')\n",
        "plt.show()"
      ],
      "metadata": {
        "colab": {
          "base_uri": "https://localhost:8080/",
          "height": 497
        },
        "id": "SaokvQ4YidN8",
        "outputId": "165853e7-acb9-4f49-f257-41d49b49e992"
      },
      "execution_count": 39,
      "outputs": [
        {
          "output_type": "display_data",
          "data": {
            "text/plain": [
              "<Figure size 864x576 with 1 Axes>"
            ],
            "image/png": "[encoded data removed]"
          },
          "metadata": {
            "needs_background": "light"
          }
        }
      ]
    },
    {
      "cell_type": "code",
      "source": [
        "plt.figure(figsize=(12, 8))\n",
        "sb.kdeplot(data=df, x='capital-loss', hue='salary')\n",
        "plt.show()"
      ],
      "metadata": {
        "colab": {
          "base_uri": "https://localhost:8080/",
          "height": 497
        },
        "id": "E2AJ3Vf8iknF",
        "outputId": "05ce2eda-103e-4b70-c6a9-f4e384170364"
      },
      "execution_count": 40,
      "outputs": [
        {
          "output_type": "display_data",
          "data": {
            "text/plain": [
              "<Figure size 864x576 with 1 Axes>"
            ],
            "image/png": "[encoded data removed]"
          },
          "metadata": {
            "needs_background": "light"
          }
        }
      ]
    },
    {
      "cell_type": "markdown",
      "source": [
        "По графикам можно увидеть, что данные характеристики не оказывают никакого влияния на уровень заработной платы, скорее всего потому что для большинства объектов являются нулём, и не смогут быть полезны при обучении модели. В дальнейшем мы удалим эти признаки."
      ],
      "metadata": {
        "id": "EeGEsP6EkDzW"
      }
    },
    {
      "cell_type": "markdown",
      "source": [
        "*Посмотрим зависимость заработной платы от количества отработанных часов в неделю*"
      ],
      "metadata": {
        "id": "KFKoLqURrw2E"
      }
    },
    {
      "cell_type": "code",
      "source": [
        "plt.figure(figsize=(12, 8))\n",
        "sb.boxplot(data=df, x='salary', y='hours-per-week')\n",
        "plt.show()"
      ],
      "metadata": {
        "colab": {
          "base_uri": "https://localhost:8080/",
          "height": 497
        },
        "id": "2XMtaFT2iqd8",
        "outputId": "2ed5591c-ca23-4c92-c4ae-3d8b65f29c7e"
      },
      "execution_count": 41,
      "outputs": [
        {
          "output_type": "display_data",
          "data": {
            "text/plain": [
              "<Figure size 864x576 with 1 Axes>"
            ],
            "image/png": "[encoded data removed]"
          },
          "metadata": {
            "needs_background": "light"
          }
        }
      ]
    },
    {
      "cell_type": "markdown",
      "source": [
        "По графикам видно, что работники, которые трудятся более 40 часов в неделю получают зарплату выше, чем те, которые работают менее 40 часов."
      ],
      "metadata": {
        "id": "DrZfZJ-PmA0E"
      }
    },
    {
      "cell_type": "markdown",
      "source": [
        "##  **5. Обработка данных**"
      ],
      "metadata": {
        "id": "MYF3mObggUmI"
      }
    },
    {
      "cell_type": "markdown",
      "source": [
        "> В данном разделе мы выполним предварительную обработку данных, чтобы они стали пригодны для алгоритмов машинного обучения\n",
        "\n"
      ],
      "metadata": {
        "id": "QL1OO0DlK3CO"
      }
    },
    {
      "cell_type": "markdown",
      "source": [
        "#### **5.1. Обработка числовых признаков**"
      ],
      "metadata": {
        "id": "DtSUCNhHklLY"
      }
    },
    {
      "cell_type": "code",
      "source": [
        "numeric_parameters"
      ],
      "metadata": {
        "colab": {
          "base_uri": "https://localhost:8080/"
        },
        "id": "bwu3Z9yZpd9d",
        "outputId": "4605335a-a0b7-434d-f5d0-749b7360bfdf"
      },
      "execution_count": 42,
      "outputs": [
        {
          "output_type": "execute_result",
          "data": {
            "text/plain": [
              "['age',\n",
              " 'fnlwgt',\n",
              " 'education-num',\n",
              " 'capital-gain',\n",
              " 'capital-loss',\n",
              " 'hours-per-week']"
            ]
          },
          "metadata": {},
          "execution_count": 42
        }
      ]
    },
    {
      "cell_type": "markdown",
      "source": [
        "Отбросим числовые признаки, которые имеют слишком большое число выбросов (*capital-gain*, *capital-gain*) или дублируют друг друга (*education-num*)"
      ],
      "metadata": {
        "id": "Esoo7VISnw9V"
      }
    },
    {
      "cell_type": "code",
      "source": [
        "df.drop('fnlwgt', axis=1, inplace=True)\n",
        "df.drop('education-num', axis=1, inplace=True)\n",
        "df.drop('capital-gain', axis=1, inplace=True)\n",
        "df.drop('capital-loss', axis=1, inplace=True)"
      ],
      "metadata": {
        "id": "i3ZlBDzHo5l4"
      },
      "execution_count": 43,
      "outputs": []
    },
    {
      "cell_type": "markdown",
      "source": [
        "К оставшимся числовым признакам применим **нормализацию**. В данном случае воспользуемся методом `MinMaxScaler()` из библиотеки scikit-learn, который нормализует значения, приводя их к диапазону от 0 до 1"
      ],
      "metadata": {
        "id": "xhXcxWa4tAA7"
      }
    },
    {
      "cell_type": "code",
      "source": [
        "remaining_numeric_parameters = [column for column in df.columns if df[column].dtype.name != 'object']\n",
        "remaining_numeric_parameters"
      ],
      "metadata": {
        "colab": {
          "base_uri": "https://localhost:8080/"
        },
        "id": "P0N69e7U8Q0o",
        "outputId": "ae3f2409-a5fd-4f94-f5b1-3cbac9982176"
      },
      "execution_count": 44,
      "outputs": [
        {
          "output_type": "execute_result",
          "data": {
            "text/plain": [
              "['age', 'hours-per-week']"
            ]
          },
          "metadata": {},
          "execution_count": 44
        }
      ]
    },
    {
      "cell_type": "code",
      "source": [
        "from sklearn.preprocessing import MinMaxScaler\n",
        "\n",
        "scaler = MinMaxScaler()\n",
        "df[remaining_numeric_parameters] = scaler.fit_transform(df[remaining_numeric_parameters])"
      ],
      "metadata": {
        "id": "MqBGItza7S5-"
      },
      "execution_count": 45,
      "outputs": []
    },
    {
      "cell_type": "code",
      "source": [
        "df.describe()"
      ],
      "metadata": {
        "colab": {
          "base_uri": "https://localhost:8080/",
          "height": 300
        },
        "id": "bcNxyoyOud1Q",
        "outputId": "e6c26884-15a5-4010-8fce-ddf5ee5e992d"
      },
      "execution_count": 46,
      "outputs": [
        {
          "output_type": "execute_result",
          "data": {
            "text/plain": [
              "                age  hours-per-week\n",
              "count  32561.000000    32561.000000\n",
              "mean       0.295639        0.402423\n",
              "std        0.186855        0.125994\n",
              "min        0.000000        0.000000\n",
              "25%        0.150685        0.397959\n",
              "50%        0.273973        0.397959\n",
              "75%        0.424658        0.448980\n",
              "max        1.000000        1.000000"
            ],
            "text/html": [
              "\n",
              "  <div id=\"df-c951d632-54d0-4cf9-89ef-91e9a65b939c\">\n",
              "    <div class=\"colab-df-container\">\n",
              "      <div>\n",
              "<style scoped>\n",
              "    .dataframe tbody tr th:only-of-type {\n",
              "        vertical-align: middle;\n",
              "    }\n",
              "\n",
              "    .dataframe tbody tr th {\n",
              "        vertical-align: top;\n",
              "    }\n",
              "\n",
              "    .dataframe thead th {\n",
              "        text-align: right;\n",
              "    }\n",
              "</style>\n",
              "<table border=\"1\" class=\"dataframe\">\n",
              "  <thead>\n",
              "    <tr style=\"text-align: right;\">\n",
              "      <th></th>\n",
              "      <th>age</th>\n",
              "      <th>hours-per-week</th>\n",
              "    </tr>\n",
              "  </thead>\n",
              "  <tbody>\n",
              "    <tr>\n",
              "      <th>count</th>\n",
              "      <td>32561.000000</td>\n",
              "      <td>32561.000000</td>\n",
              "    </tr>\n",
              "    <tr>\n",
              "      <th>mean</th>\n",
              "      <td>0.295639</td>\n",
              "      <td>0.402423</td>\n",
              "    </tr>\n",
              "    <tr>\n",
              "      <th>std</th>\n",
              "      <td>0.186855</td>\n",
              "      <td>0.125994</td>\n",
              "    </tr>\n",
              "    <tr>\n",
              "      <th>min</th>\n",
              "      <td>0.000000</td>\n",
              "      <td>0.000000</td>\n",
              "    </tr>\n",
              "    <tr>\n",
              "      <th>25%</th>\n",
              "      <td>0.150685</td>\n",
              "      <td>0.397959</td>\n",
              "    </tr>\n",
              "    <tr>\n",
              "      <th>50%</th>\n",
              "      <td>0.273973</td>\n",
              "      <td>0.397959</td>\n",
              "    </tr>\n",
              "    <tr>\n",
              "      <th>75%</th>\n",
              "      <td>0.424658</td>\n",
              "      <td>0.448980</td>\n",
              "    </tr>\n",
              "    <tr>\n",
              "      <th>max</th>\n",
              "      <td>1.000000</td>\n",
              "      <td>1.000000</td>\n",
              "    </tr>\n",
              "  </tbody>\n",
              "</table>\n",
              "</div>\n",
              "      <button class=\"colab-df-convert\" onclick=\"convertToInteractive('df-c951d632-54d0-4cf9-89ef-91e9a65b939c')\"\n",
              "              title=\"Convert this dataframe to an interactive table.\"\n",
              "              style=\"display:none;\">\n",
              "        \n",
              "  <svg xmlns=\"http://www.w3.org/2000/svg\" height=\"24px\"viewBox=\"0 0 24 24\"\n",
              "       width=\"24px\">\n",
              "    <path d=\"M0 0h24v24H0V0z\" fill=\"none\"/>\n",
              "    <path d=\"M18.56 5.44l.94 2.06.94-2.06 2.06-.94-2.06-.94-.94-2.06-.94 2.06-2.06.94zm-11 1L8.5 8.5l.94-2.06 2.06-.94-2.06-.94L8.5 2.5l-.94 2.06-2.06.94zm10 10l.94 2.06.94-2.06 2.06-.94-2.06-.94-.94-2.06-.94 2.06-2.06.94z\"/><path d=\"M17.41 7.96l-1.37-1.37c-.4-.4-.92-.59-1.43-.59-.52 0-1.04.2-1.43.59L10.3 9.45l-7.72 7.72c-.78.78-.78 2.05 0 2.83L4 21.41c.39.39.9.59 1.41.59.51 0 1.02-.2 1.41-.59l7.78-7.78 2.81-2.81c.8-.78.8-2.07 0-2.86zM5.41 20L4 18.59l7.72-7.72 1.47 1.35L5.41 20z\"/>\n",
              "  </svg>\n",
              "      </button>\n",
              "      \n",
              "  <style>\n",
              "    .colab-df-container {\n",
              "      display:flex;\n",
              "      flex-wrap:wrap;\n",
              "      gap: 12px;\n",
              "    }\n",
              "\n",
              "    .colab-df-convert {\n",
              "      background-color: #E8F0FE;\n",
              "      border: none;\n",
              "      border-radius: 50%;\n",
              "      cursor: pointer;\n",
              "      display: none;\n",
              "      fill: #1967D2;\n",
              "      height: 32px;\n",
              "      padding: 0 0 0 0;\n",
              "      width: 32px;\n",
              "    }\n",
              "\n",
              "    .colab-df-convert:hover {\n",
              "      background-color: #E2EBFA;\n",
              "      box-shadow: 0px 1px 2px rgba(60, 64, 67, 0.3), 0px 1px 3px 1px rgba(60, 64, 67, 0.15);\n",
              "      fill: #174EA6;\n",
              "    }\n",
              "\n",
              "    [theme=dark] .colab-df-convert {\n",
              "      background-color: #3B4455;\n",
              "      fill: #D2E3FC;\n",
              "    }\n",
              "\n",
              "    [theme=dark] .colab-df-convert:hover {\n",
              "      background-color: #434B5C;\n",
              "      box-shadow: 0px 1px 3px 1px rgba(0, 0, 0, 0.15);\n",
              "      filter: drop-shadow(0px 1px 2px rgba(0, 0, 0, 0.3));\n",
              "      fill: #FFFFFF;\n",
              "    }\n",
              "  </style>\n",
              "\n",
              "      <script>\n",
              "        const buttonEl =\n",
              "          document.querySelector('#df-c951d632-54d0-4cf9-89ef-91e9a65b939c button.colab-df-convert');\n",
              "        buttonEl.style.display =\n",
              "          google.colab.kernel.accessAllowed ? 'block' : 'none';\n",
              "\n",
              "        async function convertToInteractive(key) {\n",
              "          const element = document.querySelector('#df-c951d632-54d0-4cf9-89ef-91e9a65b939c');\n",
              "          const dataTable =\n",
              "            await google.colab.kernel.invokeFunction('convertToInteractive',\n",
              "                                                     [key], {});\n",
              "          if (!dataTable) return;\n",
              "\n",
              "          const docLinkHtml = 'Like what you see? Visit the ' +\n",
              "            '<a target=\"_blank\" href=https://colab.research.google.com/notebooks/data_table.ipynb>data table notebook</a>'\n",
              "            + ' to learn more about interactive tables.';\n",
              "          element.innerHTML = '';\n",
              "          dataTable['output_type'] = 'display_data';\n",
              "          await google.colab.output.renderOutput(dataTable, element);\n",
              "          const docLink = document.createElement('div');\n",
              "          docLink.innerHTML = docLinkHtml;\n",
              "          element.appendChild(docLink);\n",
              "        }\n",
              "      </script>\n",
              "    </div>\n",
              "  </div>\n",
              "  "
            ]
          },
          "metadata": {},
          "execution_count": 46
        }
      ]
    },
    {
      "cell_type": "markdown",
      "source": [
        "#### **5.2. Обработка категориальных признаков**"
      ],
      "metadata": {
        "id": "1OoLH5BqkRYZ"
      }
    },
    {
      "cell_type": "code",
      "source": [
        "category_parameters"
      ],
      "metadata": {
        "colab": {
          "base_uri": "https://localhost:8080/"
        },
        "id": "ucLSiWS-kp6Z",
        "outputId": "a37b4ad1-9233-4a5b-cfb9-db20ec063144"
      },
      "execution_count": 47,
      "outputs": [
        {
          "output_type": "execute_result",
          "data": {
            "text/plain": [
              "['workclass',\n",
              " 'education',\n",
              " 'marital-status',\n",
              " 'occupation',\n",
              " 'relationship',\n",
              " 'race',\n",
              " 'sex',\n",
              " 'native-country',\n",
              " 'salary']"
            ]
          },
          "metadata": {},
          "execution_count": 47
        }
      ]
    },
    {
      "cell_type": "markdown",
      "source": [
        "Найдем среди категориальных признаков те, которые можно отнести к бинарным и заменим их значения на *0* или *1* соответственно"
      ],
      "metadata": {
        "id": "K_6VmTlMkuih"
      }
    },
    {
      "cell_type": "code",
      "source": [
        "binary_category_parameters = [column for column in category_parameters if len(df[column].unique()) == 2]\n",
        "binary_category_parameters"
      ],
      "metadata": {
        "colab": {
          "base_uri": "https://localhost:8080/"
        },
        "id": "lr8CyDUtibqx",
        "outputId": "e3dd1667-7c34-433b-9515-37d365a06775"
      },
      "execution_count": 48,
      "outputs": [
        {
          "output_type": "execute_result",
          "data": {
            "text/plain": [
              "['sex', 'salary']"
            ]
          },
          "metadata": {},
          "execution_count": 48
        }
      ]
    },
    {
      "cell_type": "code",
      "source": [
        "for column in binary_category_parameters:\n",
        "  df[column] = df[column].map({df[column].unique()[0]: 0, df[column].unique()[1]: 1})"
      ],
      "metadata": {
        "id": "YDTP86VHjM-J"
      },
      "execution_count": 49,
      "outputs": []
    },
    {
      "cell_type": "markdown",
      "source": [
        "Теперь выберем признаки, которые нельзя классифицировать как бинарные"
      ],
      "metadata": {
        "id": "SmwuY9-FLA2W"
      }
    },
    {
      "cell_type": "code",
      "source": [
        "no_binary_category_parameters = [column for column in category_parameters if column not in binary_category_parameters]\n",
        "no_binary_category_parameters"
      ],
      "metadata": {
        "colab": {
          "base_uri": "https://localhost:8080/"
        },
        "id": "eKKtvpDQll2h",
        "outputId": "7051bf9d-a8de-4d1f-c784-c29fabb9b802"
      },
      "execution_count": 50,
      "outputs": [
        {
          "output_type": "execute_result",
          "data": {
            "text/plain": [
              "['workclass',\n",
              " 'education',\n",
              " 'marital-status',\n",
              " 'occupation',\n",
              " 'relationship',\n",
              " 'race',\n",
              " 'native-country']"
            ]
          },
          "metadata": {},
          "execution_count": 50
        }
      ]
    },
    {
      "cell_type": "markdown",
      "source": [
        "Применим к ним **векторизацию** — каждый из категориальных признаков, который нельзя отнести к бинарным, заменим на столько новых булевых признаков, сколько существует возможных категорий у данного признака). Данную функциональность представляет метод `get_dummies` из библиотеки Pandas.\n"
      ],
      "metadata": {
        "id": "M5Xpwn0zLxXs"
      }
    },
    {
      "cell_type": "code",
      "source": [
        "df=pd.get_dummies(df, columns=no_binary_category_parameters, drop_first=True)"
      ],
      "metadata": {
        "id": "bb9U-2ZJkxx1"
      },
      "execution_count": 51,
      "outputs": []
    },
    {
      "cell_type": "code",
      "source": [
        "df.info()"
      ],
      "metadata": {
        "colab": {
          "base_uri": "https://localhost:8080/"
        },
        "id": "Ikl3b7Qu2o8y",
        "outputId": "59869acf-bf1b-4221-bf1b-cd8eb600a025"
      },
      "execution_count": 52,
      "outputs": [
        {
          "output_type": "stream",
          "name": "stdout",
          "text": [
            "<class 'pandas.core.frame.DataFrame'>\n",
            "RangeIndex: 32561 entries, 0 to 32560\n",
            "Data columns (total 94 columns):\n",
            " #   Column                                      Non-Null Count  Dtype  \n",
            "---  ------                                      --------------  -----  \n",
            " 0   age                                         32561 non-null  float64\n",
            " 1   sex                                         32561 non-null  int64  \n",
            " 2   hours-per-week                              32561 non-null  float64\n",
            " 3   salary                                      32561 non-null  int64  \n",
            " 4   workclass_ Local-gov                        32561 non-null  uint8  \n",
            " 5   workclass_ Never-worked                     32561 non-null  uint8  \n",
            " 6   workclass_ Private                          32561 non-null  uint8  \n",
            " 7   workclass_ Self-emp-inc                     32561 non-null  uint8  \n",
            " 8   workclass_ Self-emp-not-inc                 32561 non-null  uint8  \n",
            " 9   workclass_ State-gov                        32561 non-null  uint8  \n",
            " 10  workclass_ Without-pay                      32561 non-null  uint8  \n",
            " 11  education_ 11th                             32561 non-null  uint8  \n",
            " 12  education_ 12th                             32561 non-null  uint8  \n",
            " 13  education_ 1st-4th                          32561 non-null  uint8  \n",
            " 14  education_ 5th-6th                          32561 non-null  uint8  \n",
            " 15  education_ 7th-8th                          32561 non-null  uint8  \n",
            " 16  education_ 9th                              32561 non-null  uint8  \n",
            " 17  education_ Assoc-acdm                       32561 non-null  uint8  \n",
            " 18  education_ Assoc-voc                        32561 non-null  uint8  \n",
            " 19  education_ Bachelors                        32561 non-null  uint8  \n",
            " 20  education_ Doctorate                        32561 non-null  uint8  \n",
            " 21  education_ HS-grad                          32561 non-null  uint8  \n",
            " 22  education_ Masters                          32561 non-null  uint8  \n",
            " 23  education_ Preschool                        32561 non-null  uint8  \n",
            " 24  education_ Prof-school                      32561 non-null  uint8  \n",
            " 25  education_ Some-college                     32561 non-null  uint8  \n",
            " 26  marital-status_ Married-AF-spouse           32561 non-null  uint8  \n",
            " 27  marital-status_ Married-civ-spouse          32561 non-null  uint8  \n",
            " 28  marital-status_ Married-spouse-absent       32561 non-null  uint8  \n",
            " 29  marital-status_ Never-married               32561 non-null  uint8  \n",
            " 30  marital-status_ Separated                   32561 non-null  uint8  \n",
            " 31  marital-status_ Widowed                     32561 non-null  uint8  \n",
            " 32  occupation_ Armed-Forces                    32561 non-null  uint8  \n",
            " 33  occupation_ Craft-repair                    32561 non-null  uint8  \n",
            " 34  occupation_ Exec-managerial                 32561 non-null  uint8  \n",
            " 35  occupation_ Farming-fishing                 32561 non-null  uint8  \n",
            " 36  occupation_ Handlers-cleaners               32561 non-null  uint8  \n",
            " 37  occupation_ Machine-op-inspct               32561 non-null  uint8  \n",
            " 38  occupation_ Other-service                   32561 non-null  uint8  \n",
            " 39  occupation_ Priv-house-serv                 32561 non-null  uint8  \n",
            " 40  occupation_ Prof-specialty                  32561 non-null  uint8  \n",
            " 41  occupation_ Protective-serv                 32561 non-null  uint8  \n",
            " 42  occupation_ Sales                           32561 non-null  uint8  \n",
            " 43  occupation_ Tech-support                    32561 non-null  uint8  \n",
            " 44  occupation_ Transport-moving                32561 non-null  uint8  \n",
            " 45  relationship_ Not-in-family                 32561 non-null  uint8  \n",
            " 46  relationship_ Other-relative                32561 non-null  uint8  \n",
            " 47  relationship_ Own-child                     32561 non-null  uint8  \n",
            " 48  relationship_ Unmarried                     32561 non-null  uint8  \n",
            " 49  relationship_ Wife                          32561 non-null  uint8  \n",
            " 50  race_ Asian-Pac-Islander                    32561 non-null  uint8  \n",
            " 51  race_ Black                                 32561 non-null  uint8  \n",
            " 52  race_ Other                                 32561 non-null  uint8  \n",
            " 53  race_ White                                 32561 non-null  uint8  \n",
            " 54  native-country_ Canada                      32561 non-null  uint8  \n",
            " 55  native-country_ China                       32561 non-null  uint8  \n",
            " 56  native-country_ Columbia                    32561 non-null  uint8  \n",
            " 57  native-country_ Cuba                        32561 non-null  uint8  \n",
            " 58  native-country_ Dominican-Republic          32561 non-null  uint8  \n",
            " 59  native-country_ Ecuador                     32561 non-null  uint8  \n",
            " 60  native-country_ El-Salvador                 32561 non-null  uint8  \n",
            " 61  native-country_ England                     32561 non-null  uint8  \n",
            " 62  native-country_ France                      32561 non-null  uint8  \n",
            " 63  native-country_ Germany                     32561 non-null  uint8  \n",
            " 64  native-country_ Greece                      32561 non-null  uint8  \n",
            " 65  native-country_ Guatemala                   32561 non-null  uint8  \n",
            " 66  native-country_ Haiti                       32561 non-null  uint8  \n",
            " 67  native-country_ Holand-Netherlands          32561 non-null  uint8  \n",
            " 68  native-country_ Honduras                    32561 non-null  uint8  \n",
            " 69  native-country_ Hong                        32561 non-null  uint8  \n",
            " 70  native-country_ Hungary                     32561 non-null  uint8  \n",
            " 71  native-country_ India                       32561 non-null  uint8  \n",
            " 72  native-country_ Iran                        32561 non-null  uint8  \n",
            " 73  native-country_ Ireland                     32561 non-null  uint8  \n",
            " 74  native-country_ Italy                       32561 non-null  uint8  \n",
            " 75  native-country_ Jamaica                     32561 non-null  uint8  \n",
            " 76  native-country_ Japan                       32561 non-null  uint8  \n",
            " 77  native-country_ Laos                        32561 non-null  uint8  \n",
            " 78  native-country_ Mexico                      32561 non-null  uint8  \n",
            " 79  native-country_ Nicaragua                   32561 non-null  uint8  \n",
            " 80  native-country_ Outlying-US(Guam-USVI-etc)  32561 non-null  uint8  \n",
            " 81  native-country_ Peru                        32561 non-null  uint8  \n",
            " 82  native-country_ Philippines                 32561 non-null  uint8  \n",
            " 83  native-country_ Poland                      32561 non-null  uint8  \n",
            " 84  native-country_ Portugal                    32561 non-null  uint8  \n",
            " 85  native-country_ Puerto-Rico                 32561 non-null  uint8  \n",
            " 86  native-country_ Scotland                    32561 non-null  uint8  \n",
            " 87  native-country_ South                       32561 non-null  uint8  \n",
            " 88  native-country_ Taiwan                      32561 non-null  uint8  \n",
            " 89  native-country_ Thailand                    32561 non-null  uint8  \n",
            " 90  native-country_ Trinadad&Tobago             32561 non-null  uint8  \n",
            " 91  native-country_ United-States               32561 non-null  uint8  \n",
            " 92  native-country_ Vietnam                     32561 non-null  uint8  \n",
            " 93  native-country_ Yugoslavia                  32561 non-null  uint8  \n",
            "dtypes: float64(2), int64(2), uint8(90)\n",
            "memory usage: 3.8 MB\n"
          ]
        }
      ]
    },
    {
      "cell_type": "markdown",
      "source": [
        "##  **6. Борьба с несбалансированностью классов** "
      ],
      "metadata": {
        "id": "JPLaLgHVlyPr"
      }
    },
    {
      "cell_type": "markdown",
      "source": [
        "> В данном разделе мы ликвидируем несбалансированность классов"
      ],
      "metadata": {
        "id": "BB0xRJljI-NA"
      }
    },
    {
      "cell_type": "code",
      "source": [
        "plt.figure(figsize=(8, 8))\n",
        "colors = sb.color_palette('pastel')\n",
        "labels = ['<=50K', \">50K\"]\n",
        "plt.pie([df['salary'].value_counts()[0], df['salary'].value_counts()[1]], labels=labels, colors=colors, autopct='%.0f%%')\n",
        "plt.show()"
      ],
      "metadata": {
        "colab": {
          "base_uri": "https://localhost:8080/",
          "height": 466
        },
        "id": "d23YjGd2KL-q",
        "outputId": "03c02399-b89c-44c1-9540-f97329061e93"
      },
      "execution_count": 53,
      "outputs": [
        {
          "output_type": "display_data",
          "data": {
            "text/plain": [
              "<Figure size 576x576 with 1 Axes>"
            ],
            "image/png": "[encoded data removed]"
          },
          "metadata": {}
        }
      ]
    },
    {
      "cell_type": "markdown",
      "source": [
        "Ликвидируем дисбаланс при помощи метода увеличения числа примеров миноритарного класса (*Synthetic Minority Over-sampling Technique*)."
      ],
      "metadata": {
        "id": "N_vSnlX4L4pQ"
      }
    },
    {
      "cell_type": "code",
      "source": [
        "from imblearn.over_sampling import SMOTE"
      ],
      "metadata": {
        "id": "vpanzBDhmvDt"
      },
      "execution_count": 54,
      "outputs": []
    },
    {
      "cell_type": "code",
      "source": [
        "X = df.iloc[:, df.columns != 'salary']\n",
        "y = df['salary']\n",
        "\n",
        "smote=SMOTE()\n",
        "X_resampled, y_resampled = smote.fit_resample(X, y)"
      ],
      "metadata": {
        "id": "YGvbjyNZmJgk"
      },
      "execution_count": 55,
      "outputs": []
    },
    {
      "cell_type": "code",
      "source": [
        "plt.figure(figsize=(8, 8))\n",
        "colors = sb.color_palette('pastel')\n",
        "labels = ['<=50K', \">50K\"]\n",
        "plt.pie([y_resampled.value_counts()[0], y_resampled.value_counts()[1]], labels=labels, colors=colors, autopct='%.0f%%')\n",
        "plt.show()"
      ],
      "metadata": {
        "colab": {
          "base_uri": "https://localhost:8080/",
          "height": 466
        },
        "id": "YZ8qd7jzm8Py",
        "outputId": "ebb4f68f-d95d-49be-e5f1-bc8ab1695019"
      },
      "execution_count": 56,
      "outputs": [
        {
          "output_type": "display_data",
          "data": {
            "text/plain": [
              "<Figure size 576x576 with 1 Axes>"
            ],
            "image/png": "[encoded data removed]"
          },
          "metadata": {}
        }
      ]
    },
    {
      "cell_type": "markdown",
      "source": [
        "Теперь классы являются сбалансированными!"
      ],
      "metadata": {
        "id": "W1n-YvEnMsOd"
      }
    },
    {
      "cell_type": "markdown",
      "source": [
        "##  **7. Разделение данных**"
      ],
      "metadata": {
        "id": "HlUGZNKShk0t"
      }
    },
    {
      "cell_type": "markdown",
      "source": [
        "> В данном разделе мы выполним разделение данных на обучающую и тестовую выборки\n",
        "\n"
      ],
      "metadata": {
        "id": "MGcYe1_luKAU"
      }
    },
    {
      "cell_type": "markdown",
      "source": [
        "Разделение будет выполнено в следующем соотношении: **70%** обучающая выборка, **30%** тестовая выборка."
      ],
      "metadata": {
        "id": "-8V04NMCu28s"
      }
    },
    {
      "cell_type": "code",
      "source": [
        "from sklearn.model_selection import train_test_split\n",
        "\n",
        "X_train, X_test, y_train, y_test = train_test_split(X_resampled, y_resampled, test_size=0.3, shuffle=True, random_state=17)"
      ],
      "metadata": {
        "id": "azxSAQTf-GgQ"
      },
      "execution_count": 57,
      "outputs": []
    },
    {
      "cell_type": "code",
      "source": [
        "X_train.shape[0]"
      ],
      "metadata": {
        "colab": {
          "base_uri": "https://localhost:8080/"
        },
        "id": "2zCfyTqJvn3S",
        "outputId": "a4697892-110d-451a-ba0d-4b8b23a2fe46"
      },
      "execution_count": 58,
      "outputs": [
        {
          "output_type": "execute_result",
          "data": {
            "text/plain": [
              "34608"
            ]
          },
          "metadata": {},
          "execution_count": 58
        }
      ]
    },
    {
      "cell_type": "markdown",
      "source": [
        "Количество объектов обучающей выборки = **34608**"
      ],
      "metadata": {
        "id": "MdP0YXM_v-Gb"
      }
    },
    {
      "cell_type": "code",
      "source": [
        "X_test.shape[0] "
      ],
      "metadata": {
        "colab": {
          "base_uri": "https://localhost:8080/"
        },
        "id": "ovh6xHy_vyRC",
        "outputId": "7940ff30-2e73-464f-ac8b-6ed63fa76d1d"
      },
      "execution_count": 59,
      "outputs": [
        {
          "output_type": "execute_result",
          "data": {
            "text/plain": [
              "14832"
            ]
          },
          "metadata": {},
          "execution_count": 59
        }
      ]
    },
    {
      "cell_type": "markdown",
      "source": [
        "Количество объектов тестовой выборки = **14832**"
      ],
      "metadata": {
        "id": "Y6rYCRCSv_UC"
      }
    },
    {
      "cell_type": "markdown",
      "source": [
        "##  **8. Классификация**"
      ],
      "metadata": {
        "id": "Ui7DhmQngaCP"
      }
    },
    {
      "cell_type": "markdown",
      "source": [
        "> В данном разделе мы запустим различные классификаторы, чтобы сравнить получаемые показатели точности и ошибки предсказания\n",
        "\n"
      ],
      "metadata": {
        "id": "NaHB35z9wMFq"
      }
    },
    {
      "cell_type": "code",
      "source": [
        "from sklearn.metrics import accuracy_score, ConfusionMatrixDisplay"
      ],
      "metadata": {
        "id": "6Ie2GIsA9Ztn"
      },
      "execution_count": 60,
      "outputs": []
    },
    {
      "cell_type": "markdown",
      "source": [
        "###  **8.1. KNN**"
      ],
      "metadata": {
        "id": "kTLIXfjMhIFm"
      }
    },
    {
      "cell_type": "code",
      "source": [
        "from sklearn.neighbors import KNeighborsClassifier"
      ],
      "metadata": {
        "id": "Q5DeZq_J67YC"
      },
      "execution_count": 61,
      "outputs": []
    },
    {
      "cell_type": "markdown",
      "source": [
        "Выполним подбор параметра **K** (*число ближайших соседей*) для того, чтобы выбрать наиболее лучший вариант"
      ],
      "metadata": {
        "id": "_1xvboot3IcS"
      }
    },
    {
      "cell_type": "code",
      "source": [
        "# scores = []\n",
        "\n",
        "# for i in range(1, 31, 2):\n",
        "#     knn = KNeighborsClassifier(n_neighbors=i)\n",
        "#     knn.fit(X_train, y_train)\n",
        "#     score = knn.score(X_test, y_test)\n",
        "#     result = [i, score]\n",
        "#     scores.append(result)\n",
        "\n",
        "# scores"
      ],
      "metadata": {
        "colab": {
          "base_uri": "https://localhost:8080/"
        },
        "id": "JAtlSA7hamwW",
        "outputId": "c3b52e9e-4f04-41f9-f1d8-58de6b2b5384"
      },
      "execution_count": 62,
      "outputs": [
        {
          "output_type": "execute_result",
          "data": {
            "text/plain": [
              "[[1, 0.8253775620280475],\n",
              " [3, 0.8340075512405609],\n",
              " [5, 0.8321197411003236],\n",
              " [7, 0.8279395900755124],\n",
              " [9, 0.8247707659115426],\n",
              " [11, 0.8221413160733549],\n",
              " [13, 0.8205231930960086],\n",
              " [15, 0.818433117583603],\n",
              " [17, 0.8185005393743258],\n",
              " [19, 0.8194444444444444],\n",
              " [21, 0.8182982740021575],\n",
              " [23, 0.8164104638619202],\n",
              " [25, 0.8146574973031284],\n",
              " [27, 0.8137135922330098],\n",
              " [29, 0.8129045307443366]]"
            ]
          },
          "metadata": {},
          "execution_count": 62
        }
      ]
    },
    {
      "cell_type": "code",
      "source": [
        "# max(scores, key=lambda x: x[1])"
      ],
      "metadata": {
        "colab": {
          "base_uri": "https://localhost:8080/"
        },
        "id": "EFTn-uCy7mKR",
        "outputId": "42740665-7deb-402d-a9a4-14acc338ac14"
      },
      "execution_count": 63,
      "outputs": [
        {
          "output_type": "execute_result",
          "data": {
            "text/plain": [
              "[3, 0.8340075512405609]"
            ]
          },
          "metadata": {},
          "execution_count": 63
        }
      ]
    },
    {
      "cell_type": "code",
      "source": [
        "# knn = KNeighborsClassifier(n_neighbors=max(scores, key=lambda x: x[1])[0])\n",
        "knn = KNeighborsClassifier(n_neighbors=3)\n",
        "knn.fit(X_train, y_train)"
      ],
      "metadata": {
        "colab": {
          "base_uri": "https://localhost:8080/"
        },
        "id": "LUsVYNw4l18k",
        "outputId": "b0a8cff1-cbea-481b-ee9d-e462009a56bd"
      },
      "execution_count": 66,
      "outputs": [
        {
          "output_type": "execute_result",
          "data": {
            "text/plain": [
              "KNeighborsClassifier(n_neighbors=3)"
            ]
          },
          "metadata": {},
          "execution_count": 66
        }
      ]
    },
    {
      "cell_type": "markdown",
      "source": [
        "**Обучающая выборка**"
      ],
      "metadata": {
        "id": "O_2BkoVjOleN"
      }
    },
    {
      "cell_type": "code",
      "source": [
        "y_train_predict = knn.predict(X_train)\n",
        "knn_accuracy_train = accuracy_score(y_train_predict, y_train)\n",
        "knn_err_train = 1 - knn_accuracy_train\n",
        "print(f\"Accuracy = {knn_accuracy_train}\\nError = {knn_err_train}\")"
      ],
      "metadata": {
        "colab": {
          "base_uri": "https://localhost:8080/"
        },
        "id": "GU2j7AGcl9V2",
        "outputId": "69718bce-fcc1-48a6-de04-98b9c5ce4b09"
      },
      "execution_count": 67,
      "outputs": [
        {
          "output_type": "stream",
          "name": "stdout",
          "text": [
            "Accuracy = 0.9016412390198798\n",
            "Error = 0.0983587609801202\n"
          ]
        }
      ]
    },
    {
      "cell_type": "code",
      "source": [
        "ConfusionMatrixDisplay.from_estimator(knn, X_train, y_train, cmap='Blues')"
      ],
      "metadata": {
        "colab": {
          "base_uri": "https://localhost:8080/",
          "height": 297
        },
        "id": "4py_ADvzNdE8",
        "outputId": "3051463a-9cc2-4c52-f206-96a87ffcbdce"
      },
      "execution_count": 68,
      "outputs": [
        {
          "output_type": "execute_result",
          "data": {
            "text/plain": [
              "<sklearn.metrics._plot.confusion_matrix.ConfusionMatrixDisplay at 0x7fbd1b3270a0>"
            ]
          },
          "metadata": {},
          "execution_count": 68
        },
        {
          "output_type": "display_data",
          "data": {
            "text/plain": [
              "<Figure size 432x288 with 2 Axes>"
            ],
            "image/png": "[encoded data removed]"
          },
          "metadata": {
            "needs_background": "light"
          }
        }
      ]
    },
    {
      "cell_type": "markdown",
      "source": [
        "**Тестовая выборка**"
      ],
      "metadata": {
        "id": "aL8n503aOqyx"
      }
    },
    {
      "cell_type": "code",
      "source": [
        "y_test_predict = knn.predict(X_test)\n",
        "knn_accuracy_test = accuracy_score(y_test_predict, y_test)\n",
        "knn_err_test = 1 - knn_accuracy_test\n",
        "print(f\"Accuracy = {knn_accuracy_test}\\nError = {knn_err_test}\")"
      ],
      "metadata": {
        "colab": {
          "base_uri": "https://localhost:8080/"
        },
        "id": "LRn0XHVlOYeh",
        "outputId": "5a0b8872-d89c-4f67-94c2-24473085433f"
      },
      "execution_count": 69,
      "outputs": [
        {
          "output_type": "stream",
          "name": "stdout",
          "text": [
            "Accuracy = 0.8340075512405609\n",
            "Error = 0.16599244875943908\n"
          ]
        }
      ]
    },
    {
      "cell_type": "code",
      "source": [
        "ConfusionMatrixDisplay.from_estimator(knn, X_test, y_test, cmap='Blues')"
      ],
      "metadata": {
        "colab": {
          "base_uri": "https://localhost:8080/",
          "height": 296
        },
        "id": "H0__4zCt-R-G",
        "outputId": "122150ac-0706-4ac0-b1ab-2858856c5f02"
      },
      "execution_count": 70,
      "outputs": [
        {
          "output_type": "execute_result",
          "data": {
            "text/plain": [
              "<sklearn.metrics._plot.confusion_matrix.ConfusionMatrixDisplay at 0x7fbd1b0f1d30>"
            ]
          },
          "metadata": {},
          "execution_count": 70
        },
        {
          "output_type": "display_data",
          "data": {
            "text/plain": [
              "<Figure size 432x288 with 2 Axes>"
            ],
            "image/png": "[encoded data removed]"
          },
          "metadata": {
            "needs_background": "light"
          }
        }
      ]
    },
    {
      "cell_type": "markdown",
      "source": [
        "### **8.2. Random Foresеt**\n"
      ],
      "metadata": {
        "id": "UXCaUxQl1Cm9"
      }
    },
    {
      "cell_type": "code",
      "source": [
        "from sklearn.ensemble import RandomForestClassifier"
      ],
      "metadata": {
        "id": "Ld7oIO8E_BQR"
      },
      "execution_count": 71,
      "outputs": []
    },
    {
      "cell_type": "markdown",
      "source": [
        "Выполним подбор параметра **n_estimators** (*число деревьев*) для того, чтобы выбрать наиболее лучший вариант"
      ],
      "metadata": {
        "id": "koaaIg9EByop"
      }
    },
    {
      "cell_type": "code",
      "source": [
        "# scores = []\n",
        "\n",
        "# for i in range(100, 1100, 100):\n",
        "#     rf = RandomForestClassifier(n_estimators=i)\n",
        "#     rf.fit(X_train, y_train)\n",
        "#     score = rf.score(X_test, y_test)\n",
        "#     result = [i, score]\n",
        "#     scores.append(result)\n",
        "\n",
        "# scores"
      ],
      "metadata": {
        "colab": {
          "base_uri": "https://localhost:8080/"
        },
        "id": "e8pwvuERGYWw",
        "outputId": "f8c7614b-3e95-4477-8833-558b0548d118"
      },
      "execution_count": 72,
      "outputs": [
        {
          "output_type": "execute_result",
          "data": {
            "text/plain": [
              "[[100, 0.8515372168284789],\n",
              " [200, 0.8518743257820928],\n",
              " [300, 0.8521440129449838],\n",
              " [400, 0.8521440129449838],\n",
              " [500, 0.8531553398058253],\n",
              " [600, 0.8526159654800431],\n",
              " [700, 0.85180690399137],\n",
              " [800, 0.853222761596548],\n",
              " [900, 0.8530204962243797],\n",
              " [1000, 0.8526159654800431]]"
            ]
          },
          "metadata": {},
          "execution_count": 72
        }
      ]
    },
    {
      "cell_type": "code",
      "source": [
        "# max(scores, key=lambda x: x[1])"
      ],
      "metadata": {
        "colab": {
          "base_uri": "https://localhost:8080/"
        },
        "id": "i3Z4LLzQGhBI",
        "outputId": "cbf2139c-7a89-4dfc-ce84-f4957ac0bdce"
      },
      "execution_count": 73,
      "outputs": [
        {
          "output_type": "execute_result",
          "data": {
            "text/plain": [
              "[800, 0.853222761596548]"
            ]
          },
          "metadata": {},
          "execution_count": 73
        }
      ]
    },
    {
      "cell_type": "code",
      "source": [
        "# rf = RandomForestClassifier(n_estimators=max(scores, key=lambda x: x[1])[0])\n",
        "rf = RandomForestClassifier(n_estimators=800)\n",
        "rf.fit(X_train, y_train)"
      ],
      "metadata": {
        "colab": {
          "base_uri": "https://localhost:8080/"
        },
        "id": "C3Zw2hgiAtz5",
        "outputId": "15fb02f2-1917-49a0-f524-7008ce1b96c3"
      },
      "execution_count": 76,
      "outputs": [
        {
          "output_type": "execute_result",
          "data": {
            "text/plain": [
              "RandomForestClassifier(n_estimators=800)"
            ]
          },
          "metadata": {},
          "execution_count": 76
        }
      ]
    },
    {
      "cell_type": "markdown",
      "source": [
        "**Обучающая выборка**"
      ],
      "metadata": {
        "id": "YdwYN3CfQRqv"
      }
    },
    {
      "cell_type": "code",
      "source": [
        "y_train_predict = rf.predict(X_train)\n",
        "rf_accuracy_train = accuracy_score(y_train_predict, y_train)\n",
        "rf_err_train = 1 - rf_accuracy_train\n",
        "print(f\"Accuracy = {rf_accuracy_train}\\nError = {rf_err_train}\")"
      ],
      "metadata": {
        "colab": {
          "base_uri": "https://localhost:8080/"
        },
        "id": "c6E8Xg1CQaoP",
        "outputId": "38621ae5-a14a-4562-a8af-76a65fe0bd35"
      },
      "execution_count": 77,
      "outputs": [
        {
          "output_type": "stream",
          "name": "stdout",
          "text": [
            "Accuracy = 0.9789066111881646\n",
            "Error = 0.021093388811835423\n"
          ]
        }
      ]
    },
    {
      "cell_type": "code",
      "source": [
        "ConfusionMatrixDisplay.from_estimator(rf, X_train, y_train, cmap='Blues')"
      ],
      "metadata": {
        "colab": {
          "base_uri": "https://localhost:8080/",
          "height": 296
        },
        "id": "JZlft1ZMQ-Ec",
        "outputId": "072d49dc-cd54-4ea7-ab8a-8e27b5498666"
      },
      "execution_count": 78,
      "outputs": [
        {
          "output_type": "execute_result",
          "data": {
            "text/plain": [
              "<sklearn.metrics._plot.confusion_matrix.ConfusionMatrixDisplay at 0x7fbd1b395eb0>"
            ]
          },
          "metadata": {},
          "execution_count": 78
        },
        {
          "output_type": "display_data",
          "data": {
            "text/plain": [
              "<Figure size 432x288 with 2 Axes>"
            ],
            "image/png": "[encoded data removed]"
          },
          "metadata": {
            "needs_background": "light"
          }
        }
      ]
    },
    {
      "cell_type": "markdown",
      "source": [
        "**Тестовая выборка**"
      ],
      "metadata": {
        "id": "-VIQsC12QSHb"
      }
    },
    {
      "cell_type": "code",
      "source": [
        "y_test_predict = rf.predict(X_test)\n",
        "rf_accuracy_test = accuracy_score(y_test_predict, y_test)\n",
        "rf_err_test = 1 - rf_accuracy_test\n",
        "print(f\"Accuracy = {rf_accuracy_test}\\nError = {rf_err_test}\")"
      ],
      "metadata": {
        "colab": {
          "base_uri": "https://localhost:8080/"
        },
        "id": "sKp_GObXRMYR",
        "outputId": "e43263ea-2cb6-4728-b8d8-ad82bd4bcb7f"
      },
      "execution_count": 79,
      "outputs": [
        {
          "output_type": "stream",
          "name": "stdout",
          "text": [
            "Accuracy = 0.852076591154261\n",
            "Error = 0.14792340884573896\n"
          ]
        }
      ]
    },
    {
      "cell_type": "code",
      "source": [
        "ConfusionMatrixDisplay.from_estimator(rf, X_test, y_test, cmap='Blues')"
      ],
      "metadata": {
        "colab": {
          "base_uri": "https://localhost:8080/",
          "height": 296
        },
        "id": "9IlOIVn-RY6U",
        "outputId": "ce54e2bc-3bc1-4e75-a8b5-0eb6fc04f8f1"
      },
      "execution_count": 80,
      "outputs": [
        {
          "output_type": "execute_result",
          "data": {
            "text/plain": [
              "<sklearn.metrics._plot.confusion_matrix.ConfusionMatrixDisplay at 0x7fbd19b12f40>"
            ]
          },
          "metadata": {},
          "execution_count": 80
        },
        {
          "output_type": "display_data",
          "data": {
            "text/plain": [
              "<Figure size 432x288 with 2 Axes>"
            ],
            "image/png": "[encoded data removed]"
          },
          "metadata": {
            "needs_background": "light"
          }
        }
      ]
    },
    {
      "cell_type": "markdown",
      "source": [
        "### **8.3. Gradient Boosting**"
      ],
      "metadata": {
        "id": "g3D069m32P3p"
      }
    },
    {
      "cell_type": "code",
      "source": [
        "from sklearn.ensemble import GradientBoostingClassifier"
      ],
      "metadata": {
        "id": "VJx5hLOHDFQI"
      },
      "execution_count": 81,
      "outputs": []
    },
    {
      "cell_type": "markdown",
      "source": [
        "Выполним подбор параметра **n_estimators** (*число деревьев*) для того, чтобы выбрать наиболее лучший вариант"
      ],
      "metadata": {
        "id": "agYw1tvQCHBv"
      }
    },
    {
      "cell_type": "code",
      "source": [
        "# scores = []\n",
        "\n",
        "# for i in range(100, 1100, 100):\n",
        "#     gb = GradientBoostingClassifier(n_estimators=i)\n",
        "#     gb.fit(X_train, y_train)\n",
        "#     score = gb.score(X_test, y_test)\n",
        "#     result = [i, score]\n",
        "#     scores.append(result)\n",
        "\n",
        "# scores"
      ],
      "metadata": {
        "colab": {
          "base_uri": "https://localhost:8080/"
        },
        "id": "S2S9rphOIgWf",
        "outputId": "e326b171-8a6e-4888-9c9d-e1013bf25396"
      },
      "execution_count": 82,
      "outputs": [
        {
          "output_type": "execute_result",
          "data": {
            "text/plain": [
              "[[100, 0.8339401294498382],\n",
              " [200, 0.8450647249190939],\n",
              " [300, 0.8524811218985976],\n",
              " [400, 0.857470334412082],\n",
              " [500, 0.867651024811219],\n",
              " [600, 0.8721008629989212],\n",
              " [700, 0.8771574973031284],\n",
              " [800, 0.8785733549083063],\n",
              " [900, 0.8805285868392665],\n",
              " [1000, 0.8814724919093851]]"
            ]
          },
          "metadata": {},
          "execution_count": 82
        }
      ]
    },
    {
      "cell_type": "code",
      "source": [
        "# max(scores, key=lambda x: x[1])"
      ],
      "metadata": {
        "colab": {
          "base_uri": "https://localhost:8080/"
        },
        "id": "BrWr3ohsIoin",
        "outputId": "5c0749b9-be6f-4232-b51c-c965eab893e9"
      },
      "execution_count": 83,
      "outputs": [
        {
          "output_type": "execute_result",
          "data": {
            "text/plain": [
              "[1000, 0.8814724919093851]"
            ]
          },
          "metadata": {},
          "execution_count": 83
        }
      ]
    },
    {
      "cell_type": "code",
      "source": [
        "# gb = GradientBoostingClassifier(n_estimators=max(scores, key=lambda x: x[1])[0])\n",
        "gb = GradientBoostingClassifier(n_estimators=1000)\n",
        "gb.fit(X_train, y_train)"
      ],
      "metadata": {
        "colab": {
          "base_uri": "https://localhost:8080/"
        },
        "id": "TQOU-E3NCuYB",
        "outputId": "d0b834e7-f3a6-4461-8bbb-80b1a778cc62"
      },
      "execution_count": 84,
      "outputs": [
        {
          "output_type": "execute_result",
          "data": {
            "text/plain": [
              "GradientBoostingClassifier(n_estimators=1000)"
            ]
          },
          "metadata": {},
          "execution_count": 84
        }
      ]
    },
    {
      "cell_type": "markdown",
      "source": [
        "**Обучающая выборка**"
      ],
      "metadata": {
        "id": "oRHFd6wfTf5S"
      }
    },
    {
      "cell_type": "code",
      "source": [
        "y_train_predict = gb.predict(X_train)\n",
        "gb_accuracy_train = accuracy_score(y_train_predict, y_train)\n",
        "gb_err_train = 1 - gb_accuracy_train\n",
        "print(f\"Accuracy = {gb_accuracy_train}\\nError = {gb_err_train}\")"
      ],
      "metadata": {
        "colab": {
          "base_uri": "https://localhost:8080/"
        },
        "id": "ytfxdqLoTgrw",
        "outputId": "1a0b4358-0bc1-4af9-e603-9ae7a7d044ab"
      },
      "execution_count": 85,
      "outputs": [
        {
          "output_type": "stream",
          "name": "stdout",
          "text": [
            "Accuracy = 0.8934928340268146\n",
            "Error = 0.10650716597318544\n"
          ]
        }
      ]
    },
    {
      "cell_type": "code",
      "source": [
        "ConfusionMatrixDisplay.from_estimator(gb, X_train, y_train, cmap='Blues')"
      ],
      "metadata": {
        "colab": {
          "base_uri": "https://localhost:8080/",
          "height": 296
        },
        "id": "pRDMzHXyUI-p",
        "outputId": "7f2eadcd-1690-4bfa-9027-aa62068c7222"
      },
      "execution_count": 86,
      "outputs": [
        {
          "output_type": "execute_result",
          "data": {
            "text/plain": [
              "<sklearn.metrics._plot.confusion_matrix.ConfusionMatrixDisplay at 0x7fbd19c34970>"
            ]
          },
          "metadata": {},
          "execution_count": 86
        },
        {
          "output_type": "display_data",
          "data": {
            "text/plain": [
              "<Figure size 432x288 with 2 Axes>"
            ],
            "image/png": "[encoded data removed]"
          },
          "metadata": {
            "needs_background": "light"
          }
        }
      ]
    },
    {
      "cell_type": "markdown",
      "source": [
        "**Тестовая выборка**"
      ],
      "metadata": {
        "id": "r5P2q-DCTgRS"
      }
    },
    {
      "cell_type": "code",
      "source": [
        "y_test_predict = gb.predict(X_test)\n",
        "gb_accuracy_test = accuracy_score(y_test_predict, y_test)\n",
        "gb_err_test = 1 - gb_accuracy_test\n",
        "print(f\"Accuracy = {gb_accuracy_test}\\nError = {gb_err_test}\")"
      ],
      "metadata": {
        "colab": {
          "base_uri": "https://localhost:8080/"
        },
        "id": "ZFiDM7CrT2kX",
        "outputId": "ecc66f7d-0a15-4057-fc21-de9c21f0d7a5"
      },
      "execution_count": 87,
      "outputs": [
        {
          "output_type": "stream",
          "name": "stdout",
          "text": [
            "Accuracy = 0.8816073354908306\n",
            "Error = 0.11839266450916941\n"
          ]
        }
      ]
    },
    {
      "cell_type": "code",
      "source": [
        "ConfusionMatrixDisplay.from_estimator(gb, X_test, y_test, cmap='Blues')"
      ],
      "metadata": {
        "colab": {
          "base_uri": "https://localhost:8080/",
          "height": 296
        },
        "id": "wiz7jMv5T_6M",
        "outputId": "cbfa6f16-08ea-4958-ae32-ffe6ce495e52"
      },
      "execution_count": 88,
      "outputs": [
        {
          "output_type": "execute_result",
          "data": {
            "text/plain": [
              "<sklearn.metrics._plot.confusion_matrix.ConfusionMatrixDisplay at 0x7fbd32523c10>"
            ]
          },
          "metadata": {},
          "execution_count": 88
        },
        {
          "output_type": "display_data",
          "data": {
            "text/plain": [
              "<Figure size 432x288 with 2 Axes>"
            ],
            "image/png": "[encoded data removed]"
          },
          "metadata": {
            "needs_background": "light"
          }
        }
      ]
    },
    {
      "cell_type": "markdown",
      "source": [
        "### **8.4. Logistic Regression**"
      ],
      "metadata": {
        "id": "D35FSVkXUmah"
      }
    },
    {
      "cell_type": "code",
      "source": [
        "from sklearn.linear_model import LogisticRegression"
      ],
      "metadata": {
        "id": "9pW-uv69UlR3"
      },
      "execution_count": 89,
      "outputs": []
    },
    {
      "cell_type": "code",
      "source": [
        "lr = LogisticRegression(max_iter=X_train.shape[0])\n",
        "lr.fit(X_train, y_train)"
      ],
      "metadata": {
        "colab": {
          "base_uri": "https://localhost:8080/"
        },
        "id": "X3NpuuXnVHNL",
        "outputId": "9ea0c453-c294-43db-fe20-ee3616c1c63a"
      },
      "execution_count": 90,
      "outputs": [
        {
          "output_type": "execute_result",
          "data": {
            "text/plain": [
              "LogisticRegression(max_iter=34608)"
            ]
          },
          "metadata": {},
          "execution_count": 90
        }
      ]
    },
    {
      "cell_type": "markdown",
      "source": [
        "**Обучающая выборка**"
      ],
      "metadata": {
        "id": "_4braJUZezyi"
      }
    },
    {
      "cell_type": "code",
      "source": [
        "y_train_predict = lr.predict(X_train)\n",
        "lr_accuracy_train = accuracy_score(y_train_predict, y_train)\n",
        "lr_err_train = 1 - lr_accuracy_train\n",
        "print(f\"Accuracy = {lr_accuracy_train}\\nError = {lr_err_train}\")"
      ],
      "metadata": {
        "colab": {
          "base_uri": "https://localhost:8080/"
        },
        "id": "fHssR1umVb2r",
        "outputId": "2270754c-8bb6-43e4-ef76-c563e3707ca0"
      },
      "execution_count": 91,
      "outputs": [
        {
          "output_type": "stream",
          "name": "stdout",
          "text": [
            "Accuracy = 0.8219197873324087\n",
            "Error = 0.17808021266759133\n"
          ]
        }
      ]
    },
    {
      "cell_type": "code",
      "source": [
        "ConfusionMatrixDisplay.from_estimator(lr, X_train, y_train, cmap='Blues')"
      ],
      "metadata": {
        "colab": {
          "base_uri": "https://localhost:8080/",
          "height": 296
        },
        "id": "xBlQM_PYhNg7",
        "outputId": "53bd63a5-ea93-4663-ea2f-39e36b46ea06"
      },
      "execution_count": 92,
      "outputs": [
        {
          "output_type": "execute_result",
          "data": {
            "text/plain": [
              "<sklearn.metrics._plot.confusion_matrix.ConfusionMatrixDisplay at 0x7fbd1997c340>"
            ]
          },
          "metadata": {},
          "execution_count": 92
        },
        {
          "output_type": "display_data",
          "data": {
            "text/plain": [
              "<Figure size 432x288 with 2 Axes>"
            ],
            "image/png": "[encoded data removed]"
          },
          "metadata": {
            "needs_background": "light"
          }
        }
      ]
    },
    {
      "cell_type": "markdown",
      "source": [
        "**Тестовая выборка**"
      ],
      "metadata": {
        "id": "C53HbyS8e5ea"
      }
    },
    {
      "cell_type": "code",
      "source": [
        "y_test_predict = lr.predict(X_test)\n",
        "lr_accuracy_test = accuracy_score(y_test_predict, y_test)\n",
        "lr_err_test = 1 - lr_accuracy_test\n",
        "print(f\"Accuracy = {lr_accuracy_test}\\nError = {lr_err_test}\")"
      ],
      "metadata": {
        "colab": {
          "base_uri": "https://localhost:8080/"
        },
        "id": "OM-4QjDvYs3I",
        "outputId": "c68c7589-c2cb-4518-8c2b-27c93554624d"
      },
      "execution_count": 93,
      "outputs": [
        {
          "output_type": "stream",
          "name": "stdout",
          "text": [
            "Accuracy = 0.822950377562028\n",
            "Error = 0.17704962243797195\n"
          ]
        }
      ]
    },
    {
      "cell_type": "code",
      "source": [
        "ConfusionMatrixDisplay.from_estimator(lr, X_test, y_test, cmap='Blues')"
      ],
      "metadata": {
        "colab": {
          "base_uri": "https://localhost:8080/",
          "height": 296
        },
        "id": "9Xlkq-arhGmM",
        "outputId": "4d3d314c-9a8d-4414-9bc7-6c50f8260741"
      },
      "execution_count": 94,
      "outputs": [
        {
          "output_type": "execute_result",
          "data": {
            "text/plain": [
              "<sklearn.metrics._plot.confusion_matrix.ConfusionMatrixDisplay at 0x7fbd19907b50>"
            ]
          },
          "metadata": {},
          "execution_count": 94
        },
        {
          "output_type": "display_data",
          "data": {
            "text/plain": [
              "<Figure size 432x288 with 2 Axes>"
            ],
            "image/png": "[encoded data removed]"
          },
          "metadata": {
            "needs_background": "light"
          }
        }
      ]
    },
    {
      "cell_type": "markdown",
      "source": [
        "### **8.5. MLP**"
      ],
      "metadata": {
        "id": "RLYqsQ1Jg0JY"
      }
    },
    {
      "cell_type": "code",
      "source": [
        "from sklearn.neural_network import MLPClassifier"
      ],
      "metadata": {
        "id": "-wX2XQC9g0gV"
      },
      "execution_count": 95,
      "outputs": []
    },
    {
      "cell_type": "markdown",
      "source": [
        "> **Нейронная сеть с одним скрытым слоем, содержащим 100 нейронов**\n",
        "\n"
      ],
      "metadata": {
        "id": "1D89tn6kboB4"
      }
    },
    {
      "cell_type": "markdown",
      "source": [
        "Запустим классификатор с параметрами по умолчанию, указав количество нейронов в скрытом слое равным 100"
      ],
      "metadata": {
        "id": "Jjp9AEgroRFF"
      }
    },
    {
      "cell_type": "code",
      "source": [
        "mlp = MLPClassifier(hidden_layer_sizes=(100,), \n",
        "                    max_iter=500)\n",
        "mlp.fit(X_train, y_train)"
      ],
      "metadata": {
        "colab": {
          "base_uri": "https://localhost:8080/"
        },
        "id": "_nH4B-PQg-pE",
        "outputId": "f119321b-2507-46df-cdab-f3a0d886a73f"
      },
      "execution_count": 96,
      "outputs": [
        {
          "output_type": "execute_result",
          "data": {
            "text/plain": [
              "MLPClassifier(max_iter=500)"
            ]
          },
          "metadata": {},
          "execution_count": 96
        }
      ]
    },
    {
      "cell_type": "markdown",
      "source": [
        "**Обучающая выборка**"
      ],
      "metadata": {
        "id": "o61mjzjfdXh5"
      }
    },
    {
      "cell_type": "code",
      "source": [
        "y_train_predict = mlp.predict(X_train)\n",
        "print(f\"Accuracy = {accuracy_score(y_train_predict, y_train)}\\n\\\n",
        "Error = {1-accuracy_score(y_train_predict, y_train)}\")"
      ],
      "metadata": {
        "colab": {
          "base_uri": "https://localhost:8080/"
        },
        "id": "YJqiaqeBhIgf",
        "outputId": "6c7ac1cf-fb44-4a0d-b3e7-e9587f90a9bf"
      },
      "execution_count": 97,
      "outputs": [
        {
          "output_type": "stream",
          "name": "stdout",
          "text": [
            "Accuracy = 0.8753178455848358\n",
            "Error = 0.12468215441516417\n"
          ]
        }
      ]
    },
    {
      "cell_type": "code",
      "source": [
        "ConfusionMatrixDisplay.from_estimator(mlp, X_train, y_train, cmap='Blues')"
      ],
      "metadata": {
        "colab": {
          "base_uri": "https://localhost:8080/",
          "height": 296
        },
        "id": "GQdzWhiEhPdK",
        "outputId": "55799e59-15ce-47fa-de7c-f7806499087b"
      },
      "execution_count": 98,
      "outputs": [
        {
          "output_type": "execute_result",
          "data": {
            "text/plain": [
              "<sklearn.metrics._plot.confusion_matrix.ConfusionMatrixDisplay at 0x7fbd202c2a90>"
            ]
          },
          "metadata": {},
          "execution_count": 98
        },
        {
          "output_type": "display_data",
          "data": {
            "text/plain": [
              "<Figure size 432x288 with 2 Axes>"
            ],
            "image/png": "[encoded data removed]"
          },
          "metadata": {
            "needs_background": "light"
          }
        }
      ]
    },
    {
      "cell_type": "markdown",
      "source": [
        "**Тестовая выборка**"
      ],
      "metadata": {
        "id": "2xrfvSWAdZpW"
      }
    },
    {
      "cell_type": "code",
      "source": [
        "y_test_predict = mlp.predict(X_test)\n",
        "print(f\"Accuracy = {accuracy_score(y_test_predict, y_test)}\\n\\\n",
        "Error = {1-accuracy_score(y_test_predict, y_test)}\")"
      ],
      "metadata": {
        "colab": {
          "base_uri": "https://localhost:8080/"
        },
        "id": "dIi32qYUdMPA",
        "outputId": "d328b577-c7da-48cd-95ea-a3fde2f8aba4"
      },
      "execution_count": 99,
      "outputs": [
        {
          "output_type": "stream",
          "name": "stdout",
          "text": [
            "Accuracy = 0.843311758360302\n",
            "Error = 0.15668824163969797\n"
          ]
        }
      ]
    },
    {
      "cell_type": "code",
      "source": [
        "ConfusionMatrixDisplay.from_estimator(mlp, X_test, y_test, cmap='Blues')"
      ],
      "metadata": {
        "colab": {
          "base_uri": "https://localhost:8080/",
          "height": 296
        },
        "id": "N-_DdQ2-hENZ",
        "outputId": "ae559920-c8cc-4cfc-9853-0348127fd6b1"
      },
      "execution_count": 100,
      "outputs": [
        {
          "output_type": "execute_result",
          "data": {
            "text/plain": [
              "<sklearn.metrics._plot.confusion_matrix.ConfusionMatrixDisplay at 0x7fbd19965dc0>"
            ]
          },
          "metadata": {},
          "execution_count": 100
        },
        {
          "output_type": "display_data",
          "data": {
            "text/plain": [
              "<Figure size 432x288 with 2 Axes>"
            ],
            "image/png": "[encoded data removed]"
          },
          "metadata": {
            "needs_background": "light"
          }
        }
      ]
    },
    {
      "cell_type": "markdown",
      "source": [
        "Выполним подбор гиперпараметра **α**"
      ],
      "metadata": {
        "id": "Dkrhxon4ctNo"
      }
    },
    {
      "cell_type": "code",
      "source": [
        "train_acc = []\n",
        "train_err = []\n",
        "test_acc = []\n",
        "test_err = []\n",
        "alpha_arr = np.logspace(-3, 2, 21)\n",
        "\n",
        "for alpha in alpha_arr:\n",
        "    model = MLPClassifier(alpha=alpha, \n",
        "                          hidden_layer_sizes=(100,), \n",
        "                          max_iter=500)\n",
        "    model.fit(X_train, y_train)\n",
        "    y_train_pred = model.predict(X_train)\n",
        "    y_test_pred = model.predict(X_test)\n",
        "    train_acc.append(accuracy_score(y_train, y_train_pred))\n",
        "    train_err.append(np.mean(y_train != y_train_pred))\n",
        "    test_acc.append(accuracy_score(y_test, y_test_pred))\n",
        "    test_err.append(np.mean(y_test != y_test_pred))"
      ],
      "metadata": {
        "id": "WRSLDGjVdeh6"
      },
      "execution_count": 101,
      "outputs": []
    },
    {
      "cell_type": "code",
      "source": [
        "plt.figure(figsize=(12, 8))\n",
        "plt.semilogx(alpha_arr, train_acc, \"r-o\", label=\"train\")\n",
        "plt.semilogx(alpha_arr, test_acc, \"b-o\", label=\"test\")\n",
        "plt.xlim([np.min(alpha_arr), np.max(alpha_arr)])\n",
        "plt.title('Accuracy vs Alpha')\n",
        "plt.xlabel(\"Alpha\")\n",
        "plt.ylabel(\"Accuracy\")\n",
        "plt.legend()\n",
        "pass"
      ],
      "metadata": {
        "colab": {
          "base_uri": "https://localhost:8080/",
          "height": 517
        },
        "id": "FejNQunejwf8",
        "outputId": "ec9a45b7-dd9e-4e39-ac66-acd4953fb7e3"
      },
      "execution_count": 102,
      "outputs": [
        {
          "output_type": "display_data",
          "data": {
            "text/plain": [
              "<Figure size 864x576 with 1 Axes>"
            ],
            "image/png": "[encoded data removed]"
          },
          "metadata": {
            "needs_background": "light"
          }
        }
      ]
    },
    {
      "cell_type": "code",
      "source": [
        "plt.figure(figsize=(12, 8))\n",
        "plt.semilogx(alpha_arr, train_err, \"r-o\", label=\"train\")\n",
        "plt.semilogx(alpha_arr, test_err, \"b-o\", label=\"test\")\n",
        "plt.xlim([np.min(alpha_arr), np.max(alpha_arr)])\n",
        "plt.title('Error vs Alpha')\n",
        "plt.xlabel(\"Alpha\")\n",
        "plt.ylabel(\"Error\")\n",
        "plt.legend()\n",
        "pass"
      ],
      "metadata": {
        "colab": {
          "base_uri": "https://localhost:8080/",
          "height": 517
        },
        "id": "-4HtI_Lakmh7",
        "outputId": "547ee90a-c94a-494d-e4b2-3a1517004ac5"
      },
      "execution_count": 103,
      "outputs": [
        {
          "output_type": "display_data",
          "data": {
            "text/plain": [
              "<Figure size 864x576 with 1 Axes>"
            ],
            "image/png": "[encoded data removed]"
          },
          "metadata": {
            "needs_background": "light"
          }
        }
      ]
    },
    {
      "cell_type": "markdown",
      "source": [
        "Судя по графикам, не наблюдается ни недообучения, ни переобучения. Колебания ошибки и точности происходят достаточно синхронно и в минимальном диапазоне."
      ],
      "metadata": {
        "id": "btDFLCsek-Mq"
      }
    },
    {
      "cell_type": "code",
      "source": [
        "optimal_alpha = alpha_arr[test_err == np.min(test_err)][0]\n",
        "optimal_alpha"
      ],
      "metadata": {
        "colab": {
          "base_uri": "https://localhost:8080/"
        },
        "id": "uyM5syXchpun",
        "outputId": "5f426ec2-892c-4744-d09c-2b6914950bb2"
      },
      "execution_count": 104,
      "outputs": [
        {
          "output_type": "execute_result",
          "data": {
            "text/plain": [
              "0.01"
            ]
          },
          "metadata": {},
          "execution_count": 104
        }
      ]
    },
    {
      "cell_type": "markdown",
      "source": [
        "Выполним классификацию с подобранным параметром **α**"
      ],
      "metadata": {
        "id": "7OLET7vfiq5E"
      }
    },
    {
      "cell_type": "code",
      "source": [
        "mlp_with_alpha = MLPClassifier(alpha=optimal_alpha,\n",
        "                               hidden_layer_sizes=(100,), \n",
        "                               max_iter=500)\n",
        "mlp_with_alpha.fit(X_train, y_train)"
      ],
      "metadata": {
        "colab": {
          "base_uri": "https://localhost:8080/"
        },
        "id": "v5DoCSzmil4R",
        "outputId": "5f2d414d-d8c0-4339-f426-dd4083f00e57"
      },
      "execution_count": 105,
      "outputs": [
        {
          "output_type": "execute_result",
          "data": {
            "text/plain": [
              "MLPClassifier(alpha=0.01, max_iter=500)"
            ]
          },
          "metadata": {},
          "execution_count": 105
        }
      ]
    },
    {
      "cell_type": "code",
      "source": [
        "y_train_predict = mlp_with_alpha.predict(X_train)\n",
        "mlp_accuracy_train = accuracy_score(y_train_predict, y_train)\n",
        "mlp_err_train = 1 - mlp_accuracy_train\n",
        "print(f\"Accuracy = {mlp_accuracy_train}\\nError = {mlp_err_train}\")"
      ],
      "metadata": {
        "colab": {
          "base_uri": "https://localhost:8080/"
        },
        "id": "yUTuYQXTi6vP",
        "outputId": "589037ff-e4d2-4dce-822f-4fdc0836094d"
      },
      "execution_count": 106,
      "outputs": [
        {
          "output_type": "stream",
          "name": "stdout",
          "text": [
            "Accuracy = 0.8641643550624133\n",
            "Error = 0.1358356449375867\n"
          ]
        }
      ]
    },
    {
      "cell_type": "code",
      "source": [
        "ConfusionMatrixDisplay.from_estimator(mlp_with_alpha, X_train, y_train, cmap='Blues')"
      ],
      "metadata": {
        "colab": {
          "base_uri": "https://localhost:8080/",
          "height": 296
        },
        "id": "h1mzybu8m5oN",
        "outputId": "8b949b04-c3d9-4961-f984-e470d897e119"
      },
      "execution_count": 107,
      "outputs": [
        {
          "output_type": "execute_result",
          "data": {
            "text/plain": [
              "<sklearn.metrics._plot.confusion_matrix.ConfusionMatrixDisplay at 0x7fbd1978e190>"
            ]
          },
          "metadata": {},
          "execution_count": 107
        },
        {
          "output_type": "display_data",
          "data": {
            "text/plain": [
              "<Figure size 432x288 with 2 Axes>"
            ],
            "image/png": "[encoded data removed]"
          },
          "metadata": {
            "needs_background": "light"
          }
        }
      ]
    },
    {
      "cell_type": "code",
      "source": [
        "y_test_predict = mlp_with_alpha.predict(X_test)\n",
        "mlp_accuracy_test = accuracy_score(y_test_predict, y_test)\n",
        "mlp_err_test = 1 - mlp_accuracy_test\n",
        "print(f\"Accuracy = {mlp_accuracy_test}\\nError = {mlp_err_test}\")"
      ],
      "metadata": {
        "colab": {
          "base_uri": "https://localhost:8080/"
        },
        "id": "3j8ZLeMqi8U3",
        "outputId": "fe353351-77af-4cf8-f869-1b91885a5c84"
      },
      "execution_count": 108,
      "outputs": [
        {
          "output_type": "stream",
          "name": "stdout",
          "text": [
            "Accuracy = 0.8428398058252428\n",
            "Error = 0.15716019417475724\n"
          ]
        }
      ]
    },
    {
      "cell_type": "code",
      "source": [
        "ConfusionMatrixDisplay.from_estimator(mlp_with_alpha, X_test, y_test, cmap='Blues')"
      ],
      "metadata": {
        "colab": {
          "base_uri": "https://localhost:8080/",
          "height": 296
        },
        "id": "vkTtUBPJm--B",
        "outputId": "d2f61284-d935-4c09-977f-00a2500fd014"
      },
      "execution_count": 109,
      "outputs": [
        {
          "output_type": "execute_result",
          "data": {
            "text/plain": [
              "<sklearn.metrics._plot.confusion_matrix.ConfusionMatrixDisplay at 0x7fbd195554c0>"
            ]
          },
          "metadata": {},
          "execution_count": 109
        },
        {
          "output_type": "display_data",
          "data": {
            "text/plain": [
              "<Figure size 432x288 with 2 Axes>"
            ],
            "image/png": "[encoded data removed]"
          },
          "metadata": {
            "needs_background": "light"
          }
        }
      ]
    },
    {
      "cell_type": "markdown",
      "source": [
        "### Итоговая таблица"
      ],
      "metadata": {
        "id": "4zRJzMUKJaBZ"
      }
    },
    {
      "cell_type": "markdown",
      "source": [
        "Соберём полученные характеристики точности и ошибки предсказания в итоговую таблицу"
      ],
      "metadata": {
        "id": "aU7Fp9y5DhpQ"
      }
    },
    {
      "cell_type": "code",
      "source": [
        "index = ['KNeighborsClassifier', 'RandomForestClassifier', 'GradientBoostingClassifier', 'LogisticRegression', 'MLPClassifier']\n",
        "\n",
        "train_acc_arr = [knn_accuracy_train, rf_accuracy_train, gb_accuracy_train, lr_accuracy_train, mlp_accuracy_train]\n",
        "test_acc_arr = [knn_accuracy_test, rf_accuracy_test, gb_accuracy_test, lr_accuracy_test, mlp_accuracy_test]\n",
        "train_err_arr = [knn_err_train, rf_err_train, gb_err_train, lr_err_train, mlp_err_train]\n",
        "test_err_arr = [knn_err_test, rf_err_test, gb_err_test, lr_err_test, mlp_err_test]\n",
        "\n",
        "train_acc = pd.Series(train_acc_arr, index, name='Train_Accuracy')\n",
        "test_acc = pd.Series(test_acc_arr, index, name='Test_Accuracy')\n",
        "train_err = pd.Series(train_err_arr, index, name='Train_Error')\n",
        "test_err = pd.Series(test_err_arr, index, name='Test_Error')\n",
        "\n",
        "pd.concat([train_acc, train_err, test_acc, test_err], axis=1).sort_values(by=['Test_Error'])"
      ],
      "metadata": {
        "colab": {
          "base_uri": "https://localhost:8080/",
          "height": 206
        },
        "outputId": "6be8cd78-45b1-4d19-cb6d-79e0afcd3dbd",
        "id": "3b0ZeiDS_-gd"
      },
      "execution_count": 110,
      "outputs": [
        {
          "output_type": "execute_result",
          "data": {
            "text/plain": [
              "                            Train_Accuracy  Train_Error  Test_Accuracy  \\\n",
              "GradientBoostingClassifier        0.893493     0.106507       0.881607   \n",
              "RandomForestClassifier            0.978907     0.021093       0.852077   \n",
              "MLPClassifier                     0.864164     0.135836       0.842840   \n",
              "KNeighborsClassifier              0.901641     0.098359       0.834008   \n",
              "LogisticRegression                0.821920     0.178080       0.822950   \n",
              "\n",
              "                            Test_Error  \n",
              "GradientBoostingClassifier    0.118393  \n",
              "RandomForestClassifier        0.147923  \n",
              "MLPClassifier                 0.157160  \n",
              "KNeighborsClassifier          0.165992  \n",
              "LogisticRegression            0.177050  "
            ],
            "text/html": [
              "\n",
              "  <div id=\"df-ccc5f1e6-d6b8-47e5-9802-0b475b29100f\">\n",
              "    <div class=\"colab-df-container\">\n",
              "      <div>\n",
              "<style scoped>\n",
              "    .dataframe tbody tr th:only-of-type {\n",
              "        vertical-align: middle;\n",
              "    }\n",
              "\n",
              "    .dataframe tbody tr th {\n",
              "        vertical-align: top;\n",
              "    }\n",
              "\n",
              "    .dataframe thead th {\n",
              "        text-align: right;\n",
              "    }\n",
              "</style>\n",
              "<table border=\"1\" class=\"dataframe\">\n",
              "  <thead>\n",
              "    <tr style=\"text-align: right;\">\n",
              "      <th></th>\n",
              "      <th>Train_Accuracy</th>\n",
              "      <th>Train_Error</th>\n",
              "      <th>Test_Accuracy</th>\n",
              "      <th>Test_Error</th>\n",
              "    </tr>\n",
              "  </thead>\n",
              "  <tbody>\n",
              "    <tr>\n",
              "      <th>GradientBoostingClassifier</th>\n",
              "      <td>0.893493</td>\n",
              "      <td>0.106507</td>\n",
              "      <td>0.881607</td>\n",
              "      <td>0.118393</td>\n",
              "    </tr>\n",
              "    <tr>\n",
              "      <th>RandomForestClassifier</th>\n",
              "      <td>0.978907</td>\n",
              "      <td>0.021093</td>\n",
              "      <td>0.852077</td>\n",
              "      <td>0.147923</td>\n",
              "    </tr>\n",
              "    <tr>\n",
              "      <th>MLPClassifier</th>\n",
              "      <td>0.864164</td>\n",
              "      <td>0.135836</td>\n",
              "      <td>0.842840</td>\n",
              "      <td>0.157160</td>\n",
              "    </tr>\n",
              "    <tr>\n",
              "      <th>KNeighborsClassifier</th>\n",
              "      <td>0.901641</td>\n",
              "      <td>0.098359</td>\n",
              "      <td>0.834008</td>\n",
              "      <td>0.165992</td>\n",
              "    </tr>\n",
              "    <tr>\n",
              "      <th>LogisticRegression</th>\n",
              "      <td>0.821920</td>\n",
              "      <td>0.178080</td>\n",
              "      <td>0.822950</td>\n",
              "      <td>0.177050</td>\n",
              "    </tr>\n",
              "  </tbody>\n",
              "</table>\n",
              "</div>\n",
              "      <button class=\"colab-df-convert\" onclick=\"convertToInteractive('df-ccc5f1e6-d6b8-47e5-9802-0b475b29100f')\"\n",
              "              title=\"Convert this dataframe to an interactive table.\"\n",
              "              style=\"display:none;\">\n",
              "        \n",
              "  <svg xmlns=\"http://www.w3.org/2000/svg\" height=\"24px\"viewBox=\"0 0 24 24\"\n",
              "       width=\"24px\">\n",
              "    <path d=\"M0 0h24v24H0V0z\" fill=\"none\"/>\n",
              "    <path d=\"M18.56 5.44l.94 2.06.94-2.06 2.06-.94-2.06-.94-.94-2.06-.94 2.06-2.06.94zm-11 1L8.5 8.5l.94-2.06 2.06-.94-2.06-.94L8.5 2.5l-.94 2.06-2.06.94zm10 10l.94 2.06.94-2.06 2.06-.94-2.06-.94-.94-2.06-.94 2.06-2.06.94z\"/><path d=\"M17.41 7.96l-1.37-1.37c-.4-.4-.92-.59-1.43-.59-.52 0-1.04.2-1.43.59L10.3 9.45l-7.72 7.72c-.78.78-.78 2.05 0 2.83L4 21.41c.39.39.9.59 1.41.59.51 0 1.02-.2 1.41-.59l7.78-7.78 2.81-2.81c.8-.78.8-2.07 0-2.86zM5.41 20L4 18.59l7.72-7.72 1.47 1.35L5.41 20z\"/>\n",
              "  </svg>\n",
              "      </button>\n",
              "      \n",
              "  <style>\n",
              "    .colab-df-container {\n",
              "      display:flex;\n",
              "      flex-wrap:wrap;\n",
              "      gap: 12px;\n",
              "    }\n",
              "\n",
              "    .colab-df-convert {\n",
              "      background-color: #E8F0FE;\n",
              "      border: none;\n",
              "      border-radius: 50%;\n",
              "      cursor: pointer;\n",
              "      display: none;\n",
              "      fill: #1967D2;\n",
              "      height: 32px;\n",
              "      padding: 0 0 0 0;\n",
              "      width: 32px;\n",
              "    }\n",
              "\n",
              "    .colab-df-convert:hover {\n",
              "      background-color: #E2EBFA;\n",
              "      box-shadow: 0px 1px 2px rgba(60, 64, 67, 0.3), 0px 1px 3px 1px rgba(60, 64, 67, 0.15);\n",
              "      fill: #174EA6;\n",
              "    }\n",
              "\n",
              "    [theme=dark] .colab-df-convert {\n",
              "      background-color: #3B4455;\n",
              "      fill: #D2E3FC;\n",
              "    }\n",
              "\n",
              "    [theme=dark] .colab-df-convert:hover {\n",
              "      background-color: #434B5C;\n",
              "      box-shadow: 0px 1px 3px 1px rgba(0, 0, 0, 0.15);\n",
              "      filter: drop-shadow(0px 1px 2px rgba(0, 0, 0, 0.3));\n",
              "      fill: #FFFFFF;\n",
              "    }\n",
              "  </style>\n",
              "\n",
              "      <script>\n",
              "        const buttonEl =\n",
              "          document.querySelector('#df-ccc5f1e6-d6b8-47e5-9802-0b475b29100f button.colab-df-convert');\n",
              "        buttonEl.style.display =\n",
              "          google.colab.kernel.accessAllowed ? 'block' : 'none';\n",
              "\n",
              "        async function convertToInteractive(key) {\n",
              "          const element = document.querySelector('#df-ccc5f1e6-d6b8-47e5-9802-0b475b29100f');\n",
              "          const dataTable =\n",
              "            await google.colab.kernel.invokeFunction('convertToInteractive',\n",
              "                                                     [key], {});\n",
              "          if (!dataTable) return;\n",
              "\n",
              "          const docLinkHtml = 'Like what you see? Visit the ' +\n",
              "            '<a target=\"_blank\" href=https://colab.research.google.com/notebooks/data_table.ipynb>data table notebook</a>'\n",
              "            + ' to learn more about interactive tables.';\n",
              "          element.innerHTML = '';\n",
              "          dataTable['output_type'] = 'display_data';\n",
              "          await google.colab.output.renderOutput(dataTable, element);\n",
              "          const docLink = document.createElement('div');\n",
              "          docLink.innerHTML = docLinkHtml;\n",
              "          element.appendChild(docLink);\n",
              "        }\n",
              "      </script>\n",
              "    </div>\n",
              "  </div>\n",
              "  "
            ]
          },
          "metadata": {},
          "execution_count": 110
        }
      ]
    },
    {
      "cell_type": "markdown",
      "source": [
        "##  **Выводы**"
      ],
      "metadata": {
        "id": "UlvxiHX1C77Z"
      }
    },
    {
      "cell_type": "markdown",
      "source": [
        "В результате проделанной работы можно сделать вывод о том, что классификатор `GradientBoostingClassifier` показал самую высокую точность предсказания — около 88% на тестовой выборке. Абсолютным лидером предсказания на обучающей выборке является `RandomForestClassifier`c ошибкой около 2%, он же занял второе место по точности предсказания на тестовой выборке — около 86%. Самые худшие показатели на обеих выборках у `LogisticRegression`. Стоит отметить, что на протяжении всей работы не наблюдалось ни переобучения, ни недообучения моделей."
      ],
      "metadata": {
        "id": "mNuJK9AzDKgp"
      }
    }
  ]
}