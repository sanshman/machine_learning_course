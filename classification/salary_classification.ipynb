{
  "nbformat": 4,
  "nbformat_minor": 0,
  "metadata": {
    "colab": {
      "provenance": [],
      "collapsed_sections": [
        "IzwQwn45iMhe"
      ]
    },
    "kernelspec": {
      "name": "python3",
      "display_name": "Python 3"
    },
    "language_info": {
      "name": "python"
    }
  },
  "cells": [
    {
      "cell_type": "markdown",
      "source": [
        "# Уровень заработной платы"
      ],
      "metadata": {
        "id": "PlL4nSTMR6Ov"
      }
    },
    {
      "cell_type": "markdown",
      "source": [
        "#### **Информация о данных**\n",
        "\n",
        "Используемый набор данных является выборкой из базы данных переписи населения 1994 года, сделанной Барри Беккером. Датасет содержит следующие признаки:\n",
        "\n",
        "1. **Возраст** (`age`): отражает возраст респондента (от 17 до 90 лет).\n",
        "2. **Рабочий класс** (`workclass`): отражает статус занятости респондента.\n",
        "3. **Оценка уникальности** (`fnlwgt`): отражает примерную оценку количества людей, которое представляет каждая строка данных.\n",
        "4. **Образование** (`education`): отражает уровень образования респондента.\n",
        "5. **Ступень образования** (`education-num`): отражает статус образования от дошкольного до докторантуры (от 1 до 16).\n",
        "6. **Семейное положение** (`marital-status`): отражает семейное положение респондента.\n",
        "7. **Сфера занятости** (`occupation`): отражает сферу занятости респондента.\n",
        "8. **Семейная роль** (`relationship`): отражает роль в семье респондента.\n",
        "9. **Раса** (`race`): отражает расовую принадлежность респондента.\n",
        "10. **Пол** (`sex`): отражает пол респондента (мужчина, женщина).\n",
        "11. **Прирост капитала** (`capital-gain`): отражает увеличение капитала у респондента.\n",
        "12. **Потеря капитала** (`capital-loss`): отражает уменьшение капитала у респондента.\n",
        "13. **Трудоспособность** (`hours-per-week`): отражает количество отработанных часов за неделю (от 1 до 99).\n",
        "14. **Страна рождения** (`native-country`): отражает страну, в которой родился респондента.\n",
        "15. **Зарплата** (`salary`): отражает уровень заработной платы респондента (<=50K, >50K).\n",
        "\n",
        "#### ***Описание задачи***\n",
        "\n",
        "*Задача заключается в прогнозировании уровеня заработной платы.*\n",
        "\n",
        "В данной работе требуется проанализировать исходные данные, выяснить какие признаки оказывают наиболее сильное влияние на уровень заработной платы, применить различные алгоритмы классификации, которые смогут предсказывать уровень заработной платы по входным в данным.\n",
        "\n",
        "> Источник данных: https://www.kaggle.com/datasets/ayessa/salary-prediction-classification\n"
      ],
      "metadata": {
        "id": "qyXKquHNSGwy"
      }
    },
    {
      "cell_type": "markdown",
      "source": [
        "## **1. Чтение данных**"
      ],
      "metadata": {
        "id": "uoy1eJcZPEcs"
      }
    },
    {
      "cell_type": "markdown",
      "source": [
        "\n",
        "\n",
        "> В данном разделе мы подключим необходимые библиотеки и загрузим датасет\n",
        "\n",
        "\n",
        "\n"
      ],
      "metadata": {
        "id": "ijbwm3ljIKVh"
      }
    },
    {
      "cell_type": "markdown",
      "source": [
        "Подключаем необходимые для работы библиотеки"
      ],
      "metadata": {
        "id": "dH9W3rG1bpYO"
      }
    },
    {
      "cell_type": "code",
      "execution_count": null,
      "metadata": {
        "id": "2JlWCrl5v7HV"
      },
      "outputs": [],
      "source": [
        "import numpy as np\n",
        "import pandas as pd\n",
        "import matplotlib.pyplot as plt\n",
        "import seaborn as sb"
      ]
    },
    {
      "cell_type": "markdown",
      "source": [
        "Загружаем исходный набор данных"
      ],
      "metadata": {
        "id": "bKiczlLocbUZ"
      }
    },
    {
      "cell_type": "code",
      "source": [
        "data_url = \"https://raw.githubusercontent.com/sanshman/machine_learning_course/main/salary.csv\"\n",
        "raw_df = pd.read_csv(data_url)\n",
        "raw_df.head(10)"
      ],
      "metadata": {
        "colab": {
          "base_uri": "https://localhost:8080/"
        },
        "id": "rrsYUHgGxg5r",
        "outputId": "79bd1ae0-044a-4a24-ce56-981c5d90a623"
      },
      "execution_count": null,
      "outputs": [
        {
          "output_type": "execute_result",
          "data": {
            "text/plain": [
              "   age          workclass  fnlwgt   education  education-num  \\\n",
              "0   39          State-gov   77516   Bachelors             13   \n",
              "1   50   Self-emp-not-inc   83311   Bachelors             13   \n",
              "2   38            Private  215646     HS-grad              9   \n",
              "3   53            Private  234721        11th              7   \n",
              "4   28            Private  338409   Bachelors             13   \n",
              "5   37            Private  284582     Masters             14   \n",
              "6   49            Private  160187         9th              5   \n",
              "7   52   Self-emp-not-inc  209642     HS-grad              9   \n",
              "8   31            Private   45781     Masters             14   \n",
              "9   42            Private  159449   Bachelors             13   \n",
              "\n",
              "           marital-status          occupation    relationship    race  \\\n",
              "0           Never-married        Adm-clerical   Not-in-family   White   \n",
              "1      Married-civ-spouse     Exec-managerial         Husband   White   \n",
              "2                Divorced   Handlers-cleaners   Not-in-family   White   \n",
              "3      Married-civ-spouse   Handlers-cleaners         Husband   Black   \n",
              "4      Married-civ-spouse      Prof-specialty            Wife   Black   \n",
              "5      Married-civ-spouse     Exec-managerial            Wife   White   \n",
              "6   Married-spouse-absent       Other-service   Not-in-family   Black   \n",
              "7      Married-civ-spouse     Exec-managerial         Husband   White   \n",
              "8           Never-married      Prof-specialty   Not-in-family   White   \n",
              "9      Married-civ-spouse     Exec-managerial         Husband   White   \n",
              "\n",
              "       sex  capital-gain  capital-loss  hours-per-week  native-country  salary  \n",
              "0     Male          2174             0              40   United-States   <=50K  \n",
              "1     Male             0             0              13   United-States   <=50K  \n",
              "2     Male             0             0              40   United-States   <=50K  \n",
              "3     Male             0             0              40   United-States   <=50K  \n",
              "4   Female             0             0              40            Cuba   <=50K  \n",
              "5   Female             0             0              40   United-States   <=50K  \n",
              "6   Female             0             0              16         Jamaica   <=50K  \n",
              "7     Male             0             0              45   United-States    >50K  \n",
              "8   Female         14084             0              50   United-States    >50K  \n",
              "9     Male          5178             0              40   United-States    >50K  "
            ],
            "text/html": [
              "\n",
              "  <div id=\"df-a72f3fd0-7c58-41e3-882c-84b5a53d8a78\">\n",
              "    <div class=\"colab-df-container\">\n",
              "      <div>\n",
              "<style scoped>\n",
              "    .dataframe tbody tr th:only-of-type {\n",
              "        vertical-align: middle;\n",
              "    }\n",
              "\n",
              "    .dataframe tbody tr th {\n",
              "        vertical-align: top;\n",
              "    }\n",
              "\n",
              "    .dataframe thead th {\n",
              "        text-align: right;\n",
              "    }\n",
              "</style>\n",
              "<table border=\"1\" class=\"dataframe\">\n",
              "  <thead>\n",
              "    <tr style=\"text-align: right;\">\n",
              "      <th></th>\n",
              "      <th>age</th>\n",
              "      <th>workclass</th>\n",
              "      <th>fnlwgt</th>\n",
              "      <th>education</th>\n",
              "      <th>education-num</th>\n",
              "      <th>marital-status</th>\n",
              "      <th>occupation</th>\n",
              "      <th>relationship</th>\n",
              "      <th>race</th>\n",
              "      <th>sex</th>\n",
              "      <th>capital-gain</th>\n",
              "      <th>capital-loss</th>\n",
              "      <th>hours-per-week</th>\n",
              "      <th>native-country</th>\n",
              "      <th>salary</th>\n",
              "    </tr>\n",
              "  </thead>\n",
              "  <tbody>\n",
              "    <tr>\n",
              "      <th>0</th>\n",
              "      <td>39</td>\n",
              "      <td>State-gov</td>\n",
              "      <td>77516</td>\n",
              "      <td>Bachelors</td>\n",
              "      <td>13</td>\n",
              "      <td>Never-married</td>\n",
              "      <td>Adm-clerical</td>\n",
              "      <td>Not-in-family</td>\n",
              "      <td>White</td>\n",
              "      <td>Male</td>\n",
              "      <td>2174</td>\n",
              "      <td>0</td>\n",
              "      <td>40</td>\n",
              "      <td>United-States</td>\n",
              "      <td>&lt;=50K</td>\n",
              "    </tr>\n",
              "    <tr>\n",
              "      <th>1</th>\n",
              "      <td>50</td>\n",
              "      <td>Self-emp-not-inc</td>\n",
              "      <td>83311</td>\n",
              "      <td>Bachelors</td>\n",
              "      <td>13</td>\n",
              "      <td>Married-civ-spouse</td>\n",
              "      <td>Exec-managerial</td>\n",
              "      <td>Husband</td>\n",
              "      <td>White</td>\n",
              "      <td>Male</td>\n",
              "      <td>0</td>\n",
              "      <td>0</td>\n",
              "      <td>13</td>\n",
              "      <td>United-States</td>\n",
              "      <td>&lt;=50K</td>\n",
              "    </tr>\n",
              "    <tr>\n",
              "      <th>2</th>\n",
              "      <td>38</td>\n",
              "      <td>Private</td>\n",
              "      <td>215646</td>\n",
              "      <td>HS-grad</td>\n",
              "      <td>9</td>\n",
              "      <td>Divorced</td>\n",
              "      <td>Handlers-cleaners</td>\n",
              "      <td>Not-in-family</td>\n",
              "      <td>White</td>\n",
              "      <td>Male</td>\n",
              "      <td>0</td>\n",
              "      <td>0</td>\n",
              "      <td>40</td>\n",
              "      <td>United-States</td>\n",
              "      <td>&lt;=50K</td>\n",
              "    </tr>\n",
              "    <tr>\n",
              "      <th>3</th>\n",
              "      <td>53</td>\n",
              "      <td>Private</td>\n",
              "      <td>234721</td>\n",
              "      <td>11th</td>\n",
              "      <td>7</td>\n",
              "      <td>Married-civ-spouse</td>\n",
              "      <td>Handlers-cleaners</td>\n",
              "      <td>Husband</td>\n",
              "      <td>Black</td>\n",
              "      <td>Male</td>\n",
              "      <td>0</td>\n",
              "      <td>0</td>\n",
              "      <td>40</td>\n",
              "      <td>United-States</td>\n",
              "      <td>&lt;=50K</td>\n",
              "    </tr>\n",
              "    <tr>\n",
              "      <th>4</th>\n",
              "      <td>28</td>\n",
              "      <td>Private</td>\n",
              "      <td>338409</td>\n",
              "      <td>Bachelors</td>\n",
              "      <td>13</td>\n",
              "      <td>Married-civ-spouse</td>\n",
              "      <td>Prof-specialty</td>\n",
              "      <td>Wife</td>\n",
              "      <td>Black</td>\n",
              "      <td>Female</td>\n",
              "      <td>0</td>\n",
              "      <td>0</td>\n",
              "      <td>40</td>\n",
              "      <td>Cuba</td>\n",
              "      <td>&lt;=50K</td>\n",
              "    </tr>\n",
              "    <tr>\n",
              "      <th>5</th>\n",
              "      <td>37</td>\n",
              "      <td>Private</td>\n",
              "      <td>284582</td>\n",
              "      <td>Masters</td>\n",
              "      <td>14</td>\n",
              "      <td>Married-civ-spouse</td>\n",
              "      <td>Exec-managerial</td>\n",
              "      <td>Wife</td>\n",
              "      <td>White</td>\n",
              "      <td>Female</td>\n",
              "      <td>0</td>\n",
              "      <td>0</td>\n",
              "      <td>40</td>\n",
              "      <td>United-States</td>\n",
              "      <td>&lt;=50K</td>\n",
              "    </tr>\n",
              "    <tr>\n",
              "      <th>6</th>\n",
              "      <td>49</td>\n",
              "      <td>Private</td>\n",
              "      <td>160187</td>\n",
              "      <td>9th</td>\n",
              "      <td>5</td>\n",
              "      <td>Married-spouse-absent</td>\n",
              "      <td>Other-service</td>\n",
              "      <td>Not-in-family</td>\n",
              "      <td>Black</td>\n",
              "      <td>Female</td>\n",
              "      <td>0</td>\n",
              "      <td>0</td>\n",
              "      <td>16</td>\n",
              "      <td>Jamaica</td>\n",
              "      <td>&lt;=50K</td>\n",
              "    </tr>\n",
              "    <tr>\n",
              "      <th>7</th>\n",
              "      <td>52</td>\n",
              "      <td>Self-emp-not-inc</td>\n",
              "      <td>209642</td>\n",
              "      <td>HS-grad</td>\n",
              "      <td>9</td>\n",
              "      <td>Married-civ-spouse</td>\n",
              "      <td>Exec-managerial</td>\n",
              "      <td>Husband</td>\n",
              "      <td>White</td>\n",
              "      <td>Male</td>\n",
              "      <td>0</td>\n",
              "      <td>0</td>\n",
              "      <td>45</td>\n",
              "      <td>United-States</td>\n",
              "      <td>&gt;50K</td>\n",
              "    </tr>\n",
              "    <tr>\n",
              "      <th>8</th>\n",
              "      <td>31</td>\n",
              "      <td>Private</td>\n",
              "      <td>45781</td>\n",
              "      <td>Masters</td>\n",
              "      <td>14</td>\n",
              "      <td>Never-married</td>\n",
              "      <td>Prof-specialty</td>\n",
              "      <td>Not-in-family</td>\n",
              "      <td>White</td>\n",
              "      <td>Female</td>\n",
              "      <td>14084</td>\n",
              "      <td>0</td>\n",
              "      <td>50</td>\n",
              "      <td>United-States</td>\n",
              "      <td>&gt;50K</td>\n",
              "    </tr>\n",
              "    <tr>\n",
              "      <th>9</th>\n",
              "      <td>42</td>\n",
              "      <td>Private</td>\n",
              "      <td>159449</td>\n",
              "      <td>Bachelors</td>\n",
              "      <td>13</td>\n",
              "      <td>Married-civ-spouse</td>\n",
              "      <td>Exec-managerial</td>\n",
              "      <td>Husband</td>\n",
              "      <td>White</td>\n",
              "      <td>Male</td>\n",
              "      <td>5178</td>\n",
              "      <td>0</td>\n",
              "      <td>40</td>\n",
              "      <td>United-States</td>\n",
              "      <td>&gt;50K</td>\n",
              "    </tr>\n",
              "  </tbody>\n",
              "</table>\n",
              "</div>\n",
              "      <button class=\"colab-df-convert\" onclick=\"convertToInteractive('df-a72f3fd0-7c58-41e3-882c-84b5a53d8a78')\"\n",
              "              title=\"Convert this dataframe to an interactive table.\"\n",
              "              style=\"display:none;\">\n",
              "        \n",
              "  <svg xmlns=\"http://www.w3.org/2000/svg\" height=\"24px\"viewBox=\"0 0 24 24\"\n",
              "       width=\"24px\">\n",
              "    <path d=\"M0 0h24v24H0V0z\" fill=\"none\"/>\n",
              "    <path d=\"M18.56 5.44l.94 2.06.94-2.06 2.06-.94-2.06-.94-.94-2.06-.94 2.06-2.06.94zm-11 1L8.5 8.5l.94-2.06 2.06-.94-2.06-.94L8.5 2.5l-.94 2.06-2.06.94zm10 10l.94 2.06.94-2.06 2.06-.94-2.06-.94-.94-2.06-.94 2.06-2.06.94z\"/><path d=\"M17.41 7.96l-1.37-1.37c-.4-.4-.92-.59-1.43-.59-.52 0-1.04.2-1.43.59L10.3 9.45l-7.72 7.72c-.78.78-.78 2.05 0 2.83L4 21.41c.39.39.9.59 1.41.59.51 0 1.02-.2 1.41-.59l7.78-7.78 2.81-2.81c.8-.78.8-2.07 0-2.86zM5.41 20L4 18.59l7.72-7.72 1.47 1.35L5.41 20z\"/>\n",
              "  </svg>\n",
              "      </button>\n",
              "      \n",
              "  <style>\n",
              "    .colab-df-container {\n",
              "      display:flex;\n",
              "      flex-wrap:wrap;\n",
              "      gap: 12px;\n",
              "    }\n",
              "\n",
              "    .colab-df-convert {\n",
              "      background-color: #E8F0FE;\n",
              "      border: none;\n",
              "      border-radius: 50%;\n",
              "      cursor: pointer;\n",
              "      display: none;\n",
              "      fill: #1967D2;\n",
              "      height: 32px;\n",
              "      padding: 0 0 0 0;\n",
              "      width: 32px;\n",
              "    }\n",
              "\n",
              "    .colab-df-convert:hover {\n",
              "      background-color: #E2EBFA;\n",
              "      box-shadow: 0px 1px 2px rgba(60, 64, 67, 0.3), 0px 1px 3px 1px rgba(60, 64, 67, 0.15);\n",
              "      fill: #174EA6;\n",
              "    }\n",
              "\n",
              "    [theme=dark] .colab-df-convert {\n",
              "      background-color: #3B4455;\n",
              "      fill: #D2E3FC;\n",
              "    }\n",
              "\n",
              "    [theme=dark] .colab-df-convert:hover {\n",
              "      background-color: #434B5C;\n",
              "      box-shadow: 0px 1px 3px 1px rgba(0, 0, 0, 0.15);\n",
              "      filter: drop-shadow(0px 1px 2px rgba(0, 0, 0, 0.3));\n",
              "      fill: #FFFFFF;\n",
              "    }\n",
              "  </style>\n",
              "\n",
              "      <script>\n",
              "        const buttonEl =\n",
              "          document.querySelector('#df-a72f3fd0-7c58-41e3-882c-84b5a53d8a78 button.colab-df-convert');\n",
              "        buttonEl.style.display =\n",
              "          google.colab.kernel.accessAllowed ? 'block' : 'none';\n",
              "\n",
              "        async function convertToInteractive(key) {\n",
              "          const element = document.querySelector('#df-a72f3fd0-7c58-41e3-882c-84b5a53d8a78');\n",
              "          const dataTable =\n",
              "            await google.colab.kernel.invokeFunction('convertToInteractive',\n",
              "                                                     [key], {});\n",
              "          if (!dataTable) return;\n",
              "\n",
              "          const docLinkHtml = 'Like what you see? Visit the ' +\n",
              "            '<a target=\"_blank\" href=https://colab.research.google.com/notebooks/data_table.ipynb>data table notebook</a>'\n",
              "            + ' to learn more about interactive tables.';\n",
              "          element.innerHTML = '';\n",
              "          dataTable['output_type'] = 'display_data';\n",
              "          await google.colab.output.renderOutput(dataTable, element);\n",
              "          const docLink = document.createElement('div');\n",
              "          docLink.innerHTML = docLinkHtml;\n",
              "          element.appendChild(docLink);\n",
              "        }\n",
              "      </script>\n",
              "    </div>\n",
              "  </div>\n",
              "  "
            ]
          },
          "metadata": {},
          "execution_count": 2
        }
      ]
    },
    {
      "cell_type": "markdown",
      "source": [
        "## **2. Анализ данных**"
      ],
      "metadata": {
        "id": "KtsbcOVIekQm"
      }
    },
    {
      "cell_type": "markdown",
      "source": [
        "> В данном разделе мы изучим исходные данные, а также убедимся в отсутствии пропущенных значений\n",
        "\n",
        " \n",
        "\n"
      ],
      "metadata": {
        "id": "87aM0WrvKqUh"
      }
    },
    {
      "cell_type": "code",
      "source": [
        "df = raw_df.copy()\n",
        "df.info()"
      ],
      "metadata": {
        "colab": {
          "base_uri": "https://localhost:8080/"
        },
        "id": "ffqDCZX3hLg9",
        "outputId": "a3c85a3e-6f88-4ebb-ba0d-b0b961123957"
      },
      "execution_count": null,
      "outputs": [
        {
          "output_type": "stream",
          "name": "stdout",
          "text": [
            "<class 'pandas.core.frame.DataFrame'>\n",
            "RangeIndex: 32561 entries, 0 to 32560\n",
            "Data columns (total 15 columns):\n",
            " #   Column          Non-Null Count  Dtype \n",
            "---  ------          --------------  ----- \n",
            " 0   age             32561 non-null  int64 \n",
            " 1   workclass       32561 non-null  object\n",
            " 2   fnlwgt          32561 non-null  int64 \n",
            " 3   education       32561 non-null  object\n",
            " 4   education-num   32561 non-null  int64 \n",
            " 5   marital-status  32561 non-null  object\n",
            " 6   occupation      32561 non-null  object\n",
            " 7   relationship    32561 non-null  object\n",
            " 8   race            32561 non-null  object\n",
            " 9   sex             32561 non-null  object\n",
            " 10  capital-gain    32561 non-null  int64 \n",
            " 11  capital-loss    32561 non-null  int64 \n",
            " 12  hours-per-week  32561 non-null  int64 \n",
            " 13  native-country  32561 non-null  object\n",
            " 14  salary          32561 non-null  object\n",
            "dtypes: int64(6), object(9)\n",
            "memory usage: 3.7+ MB\n"
          ]
        }
      ]
    },
    {
      "cell_type": "code",
      "source": [
        "df.isnull().sum()"
      ],
      "metadata": {
        "colab": {
          "base_uri": "https://localhost:8080/"
        },
        "id": "4k-Uw34h0axc",
        "outputId": "84863753-a89d-4f57-de04-e64a65b2fde2"
      },
      "execution_count": null,
      "outputs": [
        {
          "output_type": "execute_result",
          "data": {
            "text/plain": [
              "age               0\n",
              "workclass         0\n",
              "fnlwgt            0\n",
              "education         0\n",
              "education-num     0\n",
              "marital-status    0\n",
              "occupation        0\n",
              "relationship      0\n",
              "race              0\n",
              "sex               0\n",
              "capital-gain      0\n",
              "capital-loss      0\n",
              "hours-per-week    0\n",
              "native-country    0\n",
              "salary            0\n",
              "dtype: int64"
            ]
          },
          "metadata": {},
          "execution_count": 4
        }
      ]
    },
    {
      "cell_type": "markdown",
      "source": [
        "*В таблице отсутствуют пропущенные данные!*"
      ],
      "metadata": {
        "id": "Wg36unzMY7-V"
      }
    },
    {
      "cell_type": "markdown",
      "source": [
        "На данном этапе мы можем быть уверены в отсутствии пропусков только для числовых признаков, для категориальных проверим данное утверждение немного позже."
      ],
      "metadata": {
        "id": "zXI_xju9QT2T"
      }
    },
    {
      "cell_type": "code",
      "source": [
        "df.shape"
      ],
      "metadata": {
        "colab": {
          "base_uri": "https://localhost:8080/"
        },
        "id": "jIz2dJKQdDsa",
        "outputId": "4ffaa4a0-084d-4411-a21d-39b4a148daaa"
      },
      "execution_count": null,
      "outputs": [
        {
          "output_type": "execute_result",
          "data": {
            "text/plain": [
              "(32561, 15)"
            ]
          },
          "metadata": {},
          "execution_count": 5
        }
      ]
    },
    {
      "cell_type": "markdown",
      "source": [
        "Для анализа имеем **32561 объекта** и **15 признаков**. Посмотрим на *числовые* и *категориальные* признаки по отдельности."
      ],
      "metadata": {
        "id": "4b6FQraZgA0A"
      }
    },
    {
      "cell_type": "markdown",
      "source": [
        "### **2.1. Числовые признаки**"
      ],
      "metadata": {
        "id": "KTytmQ5ZM34K"
      }
    },
    {
      "cell_type": "markdown",
      "source": [
        "Выделим среди всех признаков — числовые "
      ],
      "metadata": {
        "id": "8nS4erZGOVAK"
      }
    },
    {
      "cell_type": "code",
      "source": [
        "numeric_parameters = [column for column in df.columns if df[column].dtype.name != 'object']\n",
        "numeric_parameters"
      ],
      "metadata": {
        "colab": {
          "base_uri": "https://localhost:8080/"
        },
        "id": "gSF2gxoix5au",
        "outputId": "904ccddb-bef7-4342-bae2-dbeda3a695c9"
      },
      "execution_count": null,
      "outputs": [
        {
          "output_type": "execute_result",
          "data": {
            "text/plain": [
              "['age',\n",
              " 'fnlwgt',\n",
              " 'education-num',\n",
              " 'capital-gain',\n",
              " 'capital-loss',\n",
              " 'hours-per-week']"
            ]
          },
          "metadata": {},
          "execution_count": 6
        }
      ]
    },
    {
      "cell_type": "markdown",
      "source": [
        "Имеем **6** числовых признаков. Посмотрим их основные характеристики"
      ],
      "metadata": {
        "id": "7SG50HwHSRiE"
      }
    },
    {
      "cell_type": "code",
      "source": [
        "df.describe()"
      ],
      "metadata": {
        "colab": {
          "base_uri": "https://localhost:8080/"
        },
        "id": "DALSyM42yBle",
        "outputId": "7e6730da-7d09-44b5-9212-c53bbf72d648"
      },
      "execution_count": null,
      "outputs": [
        {
          "output_type": "execute_result",
          "data": {
            "text/plain": [
              "                age        fnlwgt  education-num  capital-gain  capital-loss  \\\n",
              "count  32561.000000  3.256100e+04   32561.000000  32561.000000  32561.000000   \n",
              "mean      38.581647  1.897784e+05      10.080679   1077.648844     87.303830   \n",
              "std       13.640433  1.055500e+05       2.572720   7385.292085    402.960219   \n",
              "min       17.000000  1.228500e+04       1.000000      0.000000      0.000000   \n",
              "25%       28.000000  1.178270e+05       9.000000      0.000000      0.000000   \n",
              "50%       37.000000  1.783560e+05      10.000000      0.000000      0.000000   \n",
              "75%       48.000000  2.370510e+05      12.000000      0.000000      0.000000   \n",
              "max       90.000000  1.484705e+06      16.000000  99999.000000   4356.000000   \n",
              "\n",
              "       hours-per-week  \n",
              "count    32561.000000  \n",
              "mean        40.437456  \n",
              "std         12.347429  \n",
              "min          1.000000  \n",
              "25%         40.000000  \n",
              "50%         40.000000  \n",
              "75%         45.000000  \n",
              "max         99.000000  "
            ],
            "text/html": [
              "\n",
              "  <div id=\"df-ac2fe731-c6b8-4013-937a-a1bc78deb34d\">\n",
              "    <div class=\"colab-df-container\">\n",
              "      <div>\n",
              "<style scoped>\n",
              "    .dataframe tbody tr th:only-of-type {\n",
              "        vertical-align: middle;\n",
              "    }\n",
              "\n",
              "    .dataframe tbody tr th {\n",
              "        vertical-align: top;\n",
              "    }\n",
              "\n",
              "    .dataframe thead th {\n",
              "        text-align: right;\n",
              "    }\n",
              "</style>\n",
              "<table border=\"1\" class=\"dataframe\">\n",
              "  <thead>\n",
              "    <tr style=\"text-align: right;\">\n",
              "      <th></th>\n",
              "      <th>age</th>\n",
              "      <th>fnlwgt</th>\n",
              "      <th>education-num</th>\n",
              "      <th>capital-gain</th>\n",
              "      <th>capital-loss</th>\n",
              "      <th>hours-per-week</th>\n",
              "    </tr>\n",
              "  </thead>\n",
              "  <tbody>\n",
              "    <tr>\n",
              "      <th>count</th>\n",
              "      <td>32561.000000</td>\n",
              "      <td>3.256100e+04</td>\n",
              "      <td>32561.000000</td>\n",
              "      <td>32561.000000</td>\n",
              "      <td>32561.000000</td>\n",
              "      <td>32561.000000</td>\n",
              "    </tr>\n",
              "    <tr>\n",
              "      <th>mean</th>\n",
              "      <td>38.581647</td>\n",
              "      <td>1.897784e+05</td>\n",
              "      <td>10.080679</td>\n",
              "      <td>1077.648844</td>\n",
              "      <td>87.303830</td>\n",
              "      <td>40.437456</td>\n",
              "    </tr>\n",
              "    <tr>\n",
              "      <th>std</th>\n",
              "      <td>13.640433</td>\n",
              "      <td>1.055500e+05</td>\n",
              "      <td>2.572720</td>\n",
              "      <td>7385.292085</td>\n",
              "      <td>402.960219</td>\n",
              "      <td>12.347429</td>\n",
              "    </tr>\n",
              "    <tr>\n",
              "      <th>min</th>\n",
              "      <td>17.000000</td>\n",
              "      <td>1.228500e+04</td>\n",
              "      <td>1.000000</td>\n",
              "      <td>0.000000</td>\n",
              "      <td>0.000000</td>\n",
              "      <td>1.000000</td>\n",
              "    </tr>\n",
              "    <tr>\n",
              "      <th>25%</th>\n",
              "      <td>28.000000</td>\n",
              "      <td>1.178270e+05</td>\n",
              "      <td>9.000000</td>\n",
              "      <td>0.000000</td>\n",
              "      <td>0.000000</td>\n",
              "      <td>40.000000</td>\n",
              "    </tr>\n",
              "    <tr>\n",
              "      <th>50%</th>\n",
              "      <td>37.000000</td>\n",
              "      <td>1.783560e+05</td>\n",
              "      <td>10.000000</td>\n",
              "      <td>0.000000</td>\n",
              "      <td>0.000000</td>\n",
              "      <td>40.000000</td>\n",
              "    </tr>\n",
              "    <tr>\n",
              "      <th>75%</th>\n",
              "      <td>48.000000</td>\n",
              "      <td>2.370510e+05</td>\n",
              "      <td>12.000000</td>\n",
              "      <td>0.000000</td>\n",
              "      <td>0.000000</td>\n",
              "      <td>45.000000</td>\n",
              "    </tr>\n",
              "    <tr>\n",
              "      <th>max</th>\n",
              "      <td>90.000000</td>\n",
              "      <td>1.484705e+06</td>\n",
              "      <td>16.000000</td>\n",
              "      <td>99999.000000</td>\n",
              "      <td>4356.000000</td>\n",
              "      <td>99.000000</td>\n",
              "    </tr>\n",
              "  </tbody>\n",
              "</table>\n",
              "</div>\n",
              "      <button class=\"colab-df-convert\" onclick=\"convertToInteractive('df-ac2fe731-c6b8-4013-937a-a1bc78deb34d')\"\n",
              "              title=\"Convert this dataframe to an interactive table.\"\n",
              "              style=\"display:none;\">\n",
              "        \n",
              "  <svg xmlns=\"http://www.w3.org/2000/svg\" height=\"24px\"viewBox=\"0 0 24 24\"\n",
              "       width=\"24px\">\n",
              "    <path d=\"M0 0h24v24H0V0z\" fill=\"none\"/>\n",
              "    <path d=\"M18.56 5.44l.94 2.06.94-2.06 2.06-.94-2.06-.94-.94-2.06-.94 2.06-2.06.94zm-11 1L8.5 8.5l.94-2.06 2.06-.94-2.06-.94L8.5 2.5l-.94 2.06-2.06.94zm10 10l.94 2.06.94-2.06 2.06-.94-2.06-.94-.94-2.06-.94 2.06-2.06.94z\"/><path d=\"M17.41 7.96l-1.37-1.37c-.4-.4-.92-.59-1.43-.59-.52 0-1.04.2-1.43.59L10.3 9.45l-7.72 7.72c-.78.78-.78 2.05 0 2.83L4 21.41c.39.39.9.59 1.41.59.51 0 1.02-.2 1.41-.59l7.78-7.78 2.81-2.81c.8-.78.8-2.07 0-2.86zM5.41 20L4 18.59l7.72-7.72 1.47 1.35L5.41 20z\"/>\n",
              "  </svg>\n",
              "      </button>\n",
              "      \n",
              "  <style>\n",
              "    .colab-df-container {\n",
              "      display:flex;\n",
              "      flex-wrap:wrap;\n",
              "      gap: 12px;\n",
              "    }\n",
              "\n",
              "    .colab-df-convert {\n",
              "      background-color: #E8F0FE;\n",
              "      border: none;\n",
              "      border-radius: 50%;\n",
              "      cursor: pointer;\n",
              "      display: none;\n",
              "      fill: #1967D2;\n",
              "      height: 32px;\n",
              "      padding: 0 0 0 0;\n",
              "      width: 32px;\n",
              "    }\n",
              "\n",
              "    .colab-df-convert:hover {\n",
              "      background-color: #E2EBFA;\n",
              "      box-shadow: 0px 1px 2px rgba(60, 64, 67, 0.3), 0px 1px 3px 1px rgba(60, 64, 67, 0.15);\n",
              "      fill: #174EA6;\n",
              "    }\n",
              "\n",
              "    [theme=dark] .colab-df-convert {\n",
              "      background-color: #3B4455;\n",
              "      fill: #D2E3FC;\n",
              "    }\n",
              "\n",
              "    [theme=dark] .colab-df-convert:hover {\n",
              "      background-color: #434B5C;\n",
              "      box-shadow: 0px 1px 3px 1px rgba(0, 0, 0, 0.15);\n",
              "      filter: drop-shadow(0px 1px 2px rgba(0, 0, 0, 0.3));\n",
              "      fill: #FFFFFF;\n",
              "    }\n",
              "  </style>\n",
              "\n",
              "      <script>\n",
              "        const buttonEl =\n",
              "          document.querySelector('#df-ac2fe731-c6b8-4013-937a-a1bc78deb34d button.colab-df-convert');\n",
              "        buttonEl.style.display =\n",
              "          google.colab.kernel.accessAllowed ? 'block' : 'none';\n",
              "\n",
              "        async function convertToInteractive(key) {\n",
              "          const element = document.querySelector('#df-ac2fe731-c6b8-4013-937a-a1bc78deb34d');\n",
              "          const dataTable =\n",
              "            await google.colab.kernel.invokeFunction('convertToInteractive',\n",
              "                                                     [key], {});\n",
              "          if (!dataTable) return;\n",
              "\n",
              "          const docLinkHtml = 'Like what you see? Visit the ' +\n",
              "            '<a target=\"_blank\" href=https://colab.research.google.com/notebooks/data_table.ipynb>data table notebook</a>'\n",
              "            + ' to learn more about interactive tables.';\n",
              "          element.innerHTML = '';\n",
              "          dataTable['output_type'] = 'display_data';\n",
              "          await google.colab.output.renderOutput(dataTable, element);\n",
              "          const docLink = document.createElement('div');\n",
              "          docLink.innerHTML = docLinkHtml;\n",
              "          element.appendChild(docLink);\n",
              "        }\n",
              "      </script>\n",
              "    </div>\n",
              "  </div>\n",
              "  "
            ]
          },
          "metadata": {},
          "execution_count": 7
        }
      ]
    },
    {
      "cell_type": "markdown",
      "source": [
        "В таблице представлены основые статистические характеристики:\n",
        "\n",
        "* Количество (`count`)\n",
        "* Медиана (`mean`)\n",
        "* Среднеквадратическое отклонение (`std`)\n",
        "* Минимум (`min`)\n",
        "* Квантиль 25%\n",
        "* Квантиль 50% \n",
        "* Квантиль 75% \n",
        "* Максимум (`max`)\n",
        "\n",
        "На данном этапе можно заметить странное распределение в признаках *capital-gain* и *capital-loss*. Скорее всего это связано с тем, что данные признаки равняются нулю для большиства опрошенных. Все остальные характеристики выглядят достаточно правдоподобно.\n"
      ],
      "metadata": {
        "id": "ZbgEa60RS-yx"
      }
    },
    {
      "cell_type": "markdown",
      "source": [
        "### **2.2. Категориальные признаки**"
      ],
      "metadata": {
        "id": "B8ZwhbUzM_4a"
      }
    },
    {
      "cell_type": "markdown",
      "source": [
        "Выделим среди всех признаков — категориальные"
      ],
      "metadata": {
        "id": "BvwUS1f4PCul"
      }
    },
    {
      "cell_type": "code",
      "source": [
        "category_parameters = [column for column in df.columns if df[column].dtype.name == 'object']\n",
        "category_parameters"
      ],
      "metadata": {
        "colab": {
          "base_uri": "https://localhost:8080/"
        },
        "id": "tyIEwXncK06C",
        "outputId": "6869e47f-8028-4e80-8102-a206ffd1c763"
      },
      "execution_count": null,
      "outputs": [
        {
          "output_type": "execute_result",
          "data": {
            "text/plain": [
              "['workclass',\n",
              " 'education',\n",
              " 'marital-status',\n",
              " 'occupation',\n",
              " 'relationship',\n",
              " 'race',\n",
              " 'sex',\n",
              " 'native-country',\n",
              " 'salary']"
            ]
          },
          "metadata": {},
          "execution_count": 8
        }
      ]
    },
    {
      "cell_type": "markdown",
      "source": [
        "Имеем **9** категориальных признаков. Рассмотрим распределение каждого из данных признаков по отдельности."
      ],
      "metadata": {
        "id": "sRjwe8hTPOPC"
      }
    },
    {
      "cell_type": "code",
      "source": [
        "df['workclass'].value_counts()"
      ],
      "metadata": {
        "colab": {
          "base_uri": "https://localhost:8080/"
        },
        "id": "flRN1DkjW4xl",
        "outputId": "be0a81d9-b39d-43b5-a553-673365dc270b"
      },
      "execution_count": null,
      "outputs": [
        {
          "output_type": "execute_result",
          "data": {
            "text/plain": [
              " Private             22696\n",
              " Self-emp-not-inc     2541\n",
              " Local-gov            2093\n",
              " ?                    1836\n",
              " State-gov            1298\n",
              " Self-emp-inc         1116\n",
              " Federal-gov           960\n",
              " Without-pay            14\n",
              " Never-worked            7\n",
              "Name: workclass, dtype: int64"
            ]
          },
          "metadata": {},
          "execution_count": 9
        }
      ]
    },
    {
      "cell_type": "code",
      "source": [
        "df['education'].value_counts()"
      ],
      "metadata": {
        "colab": {
          "base_uri": "https://localhost:8080/"
        },
        "id": "FgGwTN_wXT1F",
        "outputId": "c2e1d273-e44f-4d0c-b412-dee250c7291a"
      },
      "execution_count": null,
      "outputs": [
        {
          "output_type": "execute_result",
          "data": {
            "text/plain": [
              " HS-grad         10501\n",
              " Some-college     7291\n",
              " Bachelors        5355\n",
              " Masters          1723\n",
              " Assoc-voc        1382\n",
              " 11th             1175\n",
              " Assoc-acdm       1067\n",
              " 10th              933\n",
              " 7th-8th           646\n",
              " Prof-school       576\n",
              " 9th               514\n",
              " 12th              433\n",
              " Doctorate         413\n",
              " 5th-6th           333\n",
              " 1st-4th           168\n",
              " Preschool          51\n",
              "Name: education, dtype: int64"
            ]
          },
          "metadata": {},
          "execution_count": 10
        }
      ]
    },
    {
      "cell_type": "code",
      "source": [
        "df['marital-status'].value_counts()"
      ],
      "metadata": {
        "colab": {
          "base_uri": "https://localhost:8080/"
        },
        "outputId": "d19fceea-aaee-4dae-ad00-8b9f4eeb3084",
        "id": "OHI5nzzXXesV"
      },
      "execution_count": null,
      "outputs": [
        {
          "output_type": "execute_result",
          "data": {
            "text/plain": [
              " Married-civ-spouse       14976\n",
              " Never-married            10683\n",
              " Divorced                  4443\n",
              " Separated                 1025\n",
              " Widowed                    993\n",
              " Married-spouse-absent      418\n",
              " Married-AF-spouse           23\n",
              "Name: marital-status, dtype: int64"
            ]
          },
          "metadata": {},
          "execution_count": 11
        }
      ]
    },
    {
      "cell_type": "code",
      "source": [
        "df['occupation'].value_counts()"
      ],
      "metadata": {
        "colab": {
          "base_uri": "https://localhost:8080/"
        },
        "outputId": "6d38544d-93e4-4b08-dbe7-0bdbfc88767b",
        "id": "0dF3iacIXgFS"
      },
      "execution_count": null,
      "outputs": [
        {
          "output_type": "execute_result",
          "data": {
            "text/plain": [
              " Prof-specialty       4140\n",
              " Craft-repair         4099\n",
              " Exec-managerial      4066\n",
              " Adm-clerical         3770\n",
              " Sales                3650\n",
              " Other-service        3295\n",
              " Machine-op-inspct    2002\n",
              " ?                    1843\n",
              " Transport-moving     1597\n",
              " Handlers-cleaners    1370\n",
              " Farming-fishing       994\n",
              " Tech-support          928\n",
              " Protective-serv       649\n",
              " Priv-house-serv       149\n",
              " Armed-Forces            9\n",
              "Name: occupation, dtype: int64"
            ]
          },
          "metadata": {},
          "execution_count": 12
        }
      ]
    },
    {
      "cell_type": "code",
      "source": [
        "df['education'].value_counts()"
      ],
      "metadata": {
        "colab": {
          "base_uri": "https://localhost:8080/"
        },
        "outputId": "49053462-2ec1-4755-ade9-4ab236478227",
        "id": "R0xGHV-vXgeR"
      },
      "execution_count": null,
      "outputs": [
        {
          "output_type": "execute_result",
          "data": {
            "text/plain": [
              " HS-grad         10501\n",
              " Some-college     7291\n",
              " Bachelors        5355\n",
              " Masters          1723\n",
              " Assoc-voc        1382\n",
              " 11th             1175\n",
              " Assoc-acdm       1067\n",
              " 10th              933\n",
              " 7th-8th           646\n",
              " Prof-school       576\n",
              " 9th               514\n",
              " 12th              433\n",
              " Doctorate         413\n",
              " 5th-6th           333\n",
              " 1st-4th           168\n",
              " Preschool          51\n",
              "Name: education, dtype: int64"
            ]
          },
          "metadata": {},
          "execution_count": 13
        }
      ]
    },
    {
      "cell_type": "code",
      "source": [
        "df['relationship'].value_counts()"
      ],
      "metadata": {
        "colab": {
          "base_uri": "https://localhost:8080/"
        },
        "outputId": "89d5f618-01a7-4ba0-91c2-76adb3656b9a",
        "id": "6dTAYNVcXgzB"
      },
      "execution_count": null,
      "outputs": [
        {
          "output_type": "execute_result",
          "data": {
            "text/plain": [
              " Husband           13193\n",
              " Not-in-family      8305\n",
              " Own-child          5068\n",
              " Unmarried          3446\n",
              " Wife               1568\n",
              " Other-relative      981\n",
              "Name: relationship, dtype: int64"
            ]
          },
          "metadata": {},
          "execution_count": 14
        }
      ]
    },
    {
      "cell_type": "code",
      "source": [
        "df['race'].value_counts()"
      ],
      "metadata": {
        "colab": {
          "base_uri": "https://localhost:8080/"
        },
        "outputId": "168941a4-6e00-4342-be04-73eed031e69d",
        "id": "a5HYrMXSXg97"
      },
      "execution_count": null,
      "outputs": [
        {
          "output_type": "execute_result",
          "data": {
            "text/plain": [
              " White                 27816\n",
              " Black                  3124\n",
              " Asian-Pac-Islander     1039\n",
              " Amer-Indian-Eskimo      311\n",
              " Other                   271\n",
              "Name: race, dtype: int64"
            ]
          },
          "metadata": {},
          "execution_count": 15
        }
      ]
    },
    {
      "cell_type": "code",
      "source": [
        "df['sex'].value_counts()"
      ],
      "metadata": {
        "colab": {
          "base_uri": "https://localhost:8080/"
        },
        "outputId": "5a4ff297-7404-4548-f153-8ad67d33e0e7",
        "id": "xhkBub1UXhNS"
      },
      "execution_count": null,
      "outputs": [
        {
          "output_type": "execute_result",
          "data": {
            "text/plain": [
              " Male      21790\n",
              " Female    10771\n",
              "Name: sex, dtype: int64"
            ]
          },
          "metadata": {},
          "execution_count": 16
        }
      ]
    },
    {
      "cell_type": "code",
      "source": [
        "df['native-country'].value_counts()"
      ],
      "metadata": {
        "colab": {
          "base_uri": "https://localhost:8080/"
        },
        "outputId": "a4451f3a-162d-4ddb-9504-6f6a7ac1baa9",
        "id": "6s4AsR3qXhWV"
      },
      "execution_count": null,
      "outputs": [
        {
          "output_type": "execute_result",
          "data": {
            "text/plain": [
              " United-States                 29170\n",
              " Mexico                          643\n",
              " ?                               583\n",
              " Philippines                     198\n",
              " Germany                         137\n",
              " Canada                          121\n",
              " Puerto-Rico                     114\n",
              " El-Salvador                     106\n",
              " India                           100\n",
              " Cuba                             95\n",
              " England                          90\n",
              " Jamaica                          81\n",
              " South                            80\n",
              " China                            75\n",
              " Italy                            73\n",
              " Dominican-Republic               70\n",
              " Vietnam                          67\n",
              " Guatemala                        64\n",
              " Japan                            62\n",
              " Poland                           60\n",
              " Columbia                         59\n",
              " Taiwan                           51\n",
              " Haiti                            44\n",
              " Iran                             43\n",
              " Portugal                         37\n",
              " Nicaragua                        34\n",
              " Peru                             31\n",
              " France                           29\n",
              " Greece                           29\n",
              " Ecuador                          28\n",
              " Ireland                          24\n",
              " Hong                             20\n",
              " Cambodia                         19\n",
              " Trinadad&Tobago                  19\n",
              " Laos                             18\n",
              " Thailand                         18\n",
              " Yugoslavia                       16\n",
              " Outlying-US(Guam-USVI-etc)       14\n",
              " Honduras                         13\n",
              " Hungary                          13\n",
              " Scotland                         12\n",
              " Holand-Netherlands                1\n",
              "Name: native-country, dtype: int64"
            ]
          },
          "metadata": {},
          "execution_count": 17
        }
      ]
    },
    {
      "cell_type": "code",
      "source": [
        "df['salary'].value_counts()"
      ],
      "metadata": {
        "colab": {
          "base_uri": "https://localhost:8080/"
        },
        "id": "HrxuQPJUX_SV",
        "outputId": "49febfc1-775d-4167-835c-ce1f533a296f"
      },
      "execution_count": null,
      "outputs": [
        {
          "output_type": "execute_result",
          "data": {
            "text/plain": [
              " <=50K    24720\n",
              " >50K      7841\n",
              "Name: salary, dtype: int64"
            ]
          },
          "metadata": {},
          "execution_count": 18
        }
      ]
    },
    {
      "cell_type": "markdown",
      "source": [
        "Просматривая полученные значения, можно заметить, что среди категориальных признаков ***workclass***, ***occupation***, ***native-country*** имеются пропущенные данные, которые обозначаются **' ?'**. Произведем замену данных значений на NaN (Not a Number)."
      ],
      "metadata": {
        "id": "laqJEAdh4FxA"
      }
    },
    {
      "cell_type": "code",
      "source": [
        "df['workclass'].replace(' ?', np.nan, inplace=True)\n",
        "df['occupation'].replace(' ?', np.nan, inplace=True)\n",
        "df['native-country'].replace(' ?', np.nan, inplace=True)"
      ],
      "metadata": {
        "id": "leAjmLKqhqMk"
      },
      "execution_count": null,
      "outputs": []
    },
    {
      "cell_type": "markdown",
      "source": [
        "##  **3. Борьба с пропущенными значениями**"
      ],
      "metadata": {
        "id": "IzwQwn45iMhe"
      }
    },
    {
      "cell_type": "markdown",
      "source": [
        "> В данном разделе мы выполним обработку пропущенных значений\n",
        "\n",
        "\n",
        "\n"
      ],
      "metadata": {
        "id": "MEaOH_PPZqd1"
      }
    },
    {
      "cell_type": "markdown",
      "source": [
        "Из анализа данных, содержащихся в категориальных признаках, обнаружилось, что в датасете присутствуют пропуски, с которыми нужно как-то побороться. Рассмотрим какие признаки имеют пропущенные значения:"
      ],
      "metadata": {
        "id": "IrrlV1S2w829"
      }
    },
    {
      "cell_type": "code",
      "source": [
        "df.isnull().sum()"
      ],
      "metadata": {
        "colab": {
          "base_uri": "https://localhost:8080/"
        },
        "id": "885o38SkiPvp",
        "outputId": "78d07990-c423-4393-89c0-62d234f7fc9e"
      },
      "execution_count": null,
      "outputs": [
        {
          "output_type": "execute_result",
          "data": {
            "text/plain": [
              "age                  0\n",
              "workclass         1836\n",
              "fnlwgt               0\n",
              "education            0\n",
              "education-num        0\n",
              "marital-status       0\n",
              "occupation        1843\n",
              "relationship         0\n",
              "race                 0\n",
              "sex                  0\n",
              "capital-gain         0\n",
              "capital-loss         0\n",
              "hours-per-week       0\n",
              "native-country     583\n",
              "salary               0\n",
              "dtype: int64"
            ]
          },
          "metadata": {},
          "execution_count": 20
        }
      ]
    },
    {
      "cell_type": "markdown",
      "source": [
        "Существуют различные способы борьбы с пропусками. Самый примитивный — просто удалить те строки, в которых встречаются пропущенные значения. Так как датасет содержит не особо большое количество строк, то удаление пропущенных данных может привести к неточности дальнейшего исследования, поэтому способом заполнения пропусков будет *поиск наиболее популярных значений среди данного признака.* Посмотрим на часть датасета с пропусками:"
      ],
      "metadata": {
        "id": "1xdGKo2LFETh"
      }
    },
    {
      "cell_type": "code",
      "source": [
        "df_with_nan = df[df['workclass'].isnull()]\n",
        "df_with_nan.head(10)"
      ],
      "metadata": {
        "colab": {
          "base_uri": "https://localhost:8080/"
        },
        "id": "GUlG-qH0y5Gl",
        "outputId": "a0cfe797-b0e8-4049-8f0d-6d4ba8a1ae61"
      },
      "execution_count": null,
      "outputs": [
        {
          "output_type": "execute_result",
          "data": {
            "text/plain": [
              "     age workclass  fnlwgt      education  education-num  \\\n",
              "27    54       NaN  180211   Some-college             10   \n",
              "61    32       NaN  293936        7th-8th              4   \n",
              "69    25       NaN  200681   Some-college             10   \n",
              "77    67       NaN  212759           10th              6   \n",
              "106   17       NaN  304873           10th              6   \n",
              "128   35       NaN  129305        HS-grad              9   \n",
              "149   43       NaN  174662   Some-college             10   \n",
              "154   52       NaN  252903        HS-grad              9   \n",
              "160   68       NaN   38317        1st-4th              2   \n",
              "187   53       NaN  135105      Bachelors             13   \n",
              "\n",
              "             marital-status occupation    relationship                 race  \\\n",
              "27       Married-civ-spouse        NaN         Husband   Asian-Pac-Islander   \n",
              "61    Married-spouse-absent        NaN   Not-in-family                White   \n",
              "69            Never-married        NaN       Own-child                White   \n",
              "77       Married-civ-spouse        NaN         Husband                White   \n",
              "106           Never-married        NaN       Own-child                White   \n",
              "128      Married-civ-spouse        NaN         Husband                White   \n",
              "149                Divorced        NaN   Not-in-family                White   \n",
              "154                Divorced        NaN   Not-in-family                White   \n",
              "160                Divorced        NaN   Not-in-family                White   \n",
              "187                Divorced        NaN   Not-in-family                White   \n",
              "\n",
              "         sex  capital-gain  capital-loss  hours-per-week  native-country  \\\n",
              "27      Male             0             0              60           South   \n",
              "61      Male             0             0              40             NaN   \n",
              "69      Male             0             0              40   United-States   \n",
              "77      Male             0             0               2   United-States   \n",
              "106   Female         34095             0              32   United-States   \n",
              "128     Male             0             0              40   United-States   \n",
              "149   Female             0             0              40   United-States   \n",
              "154     Male             0             0              45   United-States   \n",
              "160   Female             0             0              20   United-States   \n",
              "187   Female             0             0              50   United-States   \n",
              "\n",
              "     salary  \n",
              "27     >50K  \n",
              "61    <=50K  \n",
              "69    <=50K  \n",
              "77    <=50K  \n",
              "106   <=50K  \n",
              "128   <=50K  \n",
              "149   <=50K  \n",
              "154    >50K  \n",
              "160   <=50K  \n",
              "187   <=50K  "
            ],
            "text/html": [
              "\n",
              "  <div id=\"df-5fcac298-5b67-401c-b8f0-ae61ce6e3aca\">\n",
              "    <div class=\"colab-df-container\">\n",
              "      <div>\n",
              "<style scoped>\n",
              "    .dataframe tbody tr th:only-of-type {\n",
              "        vertical-align: middle;\n",
              "    }\n",
              "\n",
              "    .dataframe tbody tr th {\n",
              "        vertical-align: top;\n",
              "    }\n",
              "\n",
              "    .dataframe thead th {\n",
              "        text-align: right;\n",
              "    }\n",
              "</style>\n",
              "<table border=\"1\" class=\"dataframe\">\n",
              "  <thead>\n",
              "    <tr style=\"text-align: right;\">\n",
              "      <th></th>\n",
              "      <th>age</th>\n",
              "      <th>workclass</th>\n",
              "      <th>fnlwgt</th>\n",
              "      <th>education</th>\n",
              "      <th>education-num</th>\n",
              "      <th>marital-status</th>\n",
              "      <th>occupation</th>\n",
              "      <th>relationship</th>\n",
              "      <th>race</th>\n",
              "      <th>sex</th>\n",
              "      <th>capital-gain</th>\n",
              "      <th>capital-loss</th>\n",
              "      <th>hours-per-week</th>\n",
              "      <th>native-country</th>\n",
              "      <th>salary</th>\n",
              "    </tr>\n",
              "  </thead>\n",
              "  <tbody>\n",
              "    <tr>\n",
              "      <th>27</th>\n",
              "      <td>54</td>\n",
              "      <td>NaN</td>\n",
              "      <td>180211</td>\n",
              "      <td>Some-college</td>\n",
              "      <td>10</td>\n",
              "      <td>Married-civ-spouse</td>\n",
              "      <td>NaN</td>\n",
              "      <td>Husband</td>\n",
              "      <td>Asian-Pac-Islander</td>\n",
              "      <td>Male</td>\n",
              "      <td>0</td>\n",
              "      <td>0</td>\n",
              "      <td>60</td>\n",
              "      <td>South</td>\n",
              "      <td>&gt;50K</td>\n",
              "    </tr>\n",
              "    <tr>\n",
              "      <th>61</th>\n",
              "      <td>32</td>\n",
              "      <td>NaN</td>\n",
              "      <td>293936</td>\n",
              "      <td>7th-8th</td>\n",
              "      <td>4</td>\n",
              "      <td>Married-spouse-absent</td>\n",
              "      <td>NaN</td>\n",
              "      <td>Not-in-family</td>\n",
              "      <td>White</td>\n",
              "      <td>Male</td>\n",
              "      <td>0</td>\n",
              "      <td>0</td>\n",
              "      <td>40</td>\n",
              "      <td>NaN</td>\n",
              "      <td>&lt;=50K</td>\n",
              "    </tr>\n",
              "    <tr>\n",
              "      <th>69</th>\n",
              "      <td>25</td>\n",
              "      <td>NaN</td>\n",
              "      <td>200681</td>\n",
              "      <td>Some-college</td>\n",
              "      <td>10</td>\n",
              "      <td>Never-married</td>\n",
              "      <td>NaN</td>\n",
              "      <td>Own-child</td>\n",
              "      <td>White</td>\n",
              "      <td>Male</td>\n",
              "      <td>0</td>\n",
              "      <td>0</td>\n",
              "      <td>40</td>\n",
              "      <td>United-States</td>\n",
              "      <td>&lt;=50K</td>\n",
              "    </tr>\n",
              "    <tr>\n",
              "      <th>77</th>\n",
              "      <td>67</td>\n",
              "      <td>NaN</td>\n",
              "      <td>212759</td>\n",
              "      <td>10th</td>\n",
              "      <td>6</td>\n",
              "      <td>Married-civ-spouse</td>\n",
              "      <td>NaN</td>\n",
              "      <td>Husband</td>\n",
              "      <td>White</td>\n",
              "      <td>Male</td>\n",
              "      <td>0</td>\n",
              "      <td>0</td>\n",
              "      <td>2</td>\n",
              "      <td>United-States</td>\n",
              "      <td>&lt;=50K</td>\n",
              "    </tr>\n",
              "    <tr>\n",
              "      <th>106</th>\n",
              "      <td>17</td>\n",
              "      <td>NaN</td>\n",
              "      <td>304873</td>\n",
              "      <td>10th</td>\n",
              "      <td>6</td>\n",
              "      <td>Never-married</td>\n",
              "      <td>NaN</td>\n",
              "      <td>Own-child</td>\n",
              "      <td>White</td>\n",
              "      <td>Female</td>\n",
              "      <td>34095</td>\n",
              "      <td>0</td>\n",
              "      <td>32</td>\n",
              "      <td>United-States</td>\n",
              "      <td>&lt;=50K</td>\n",
              "    </tr>\n",
              "    <tr>\n",
              "      <th>128</th>\n",
              "      <td>35</td>\n",
              "      <td>NaN</td>\n",
              "      <td>129305</td>\n",
              "      <td>HS-grad</td>\n",
              "      <td>9</td>\n",
              "      <td>Married-civ-spouse</td>\n",
              "      <td>NaN</td>\n",
              "      <td>Husband</td>\n",
              "      <td>White</td>\n",
              "      <td>Male</td>\n",
              "      <td>0</td>\n",
              "      <td>0</td>\n",
              "      <td>40</td>\n",
              "      <td>United-States</td>\n",
              "      <td>&lt;=50K</td>\n",
              "    </tr>\n",
              "    <tr>\n",
              "      <th>149</th>\n",
              "      <td>43</td>\n",
              "      <td>NaN</td>\n",
              "      <td>174662</td>\n",
              "      <td>Some-college</td>\n",
              "      <td>10</td>\n",
              "      <td>Divorced</td>\n",
              "      <td>NaN</td>\n",
              "      <td>Not-in-family</td>\n",
              "      <td>White</td>\n",
              "      <td>Female</td>\n",
              "      <td>0</td>\n",
              "      <td>0</td>\n",
              "      <td>40</td>\n",
              "      <td>United-States</td>\n",
              "      <td>&lt;=50K</td>\n",
              "    </tr>\n",
              "    <tr>\n",
              "      <th>154</th>\n",
              "      <td>52</td>\n",
              "      <td>NaN</td>\n",
              "      <td>252903</td>\n",
              "      <td>HS-grad</td>\n",
              "      <td>9</td>\n",
              "      <td>Divorced</td>\n",
              "      <td>NaN</td>\n",
              "      <td>Not-in-family</td>\n",
              "      <td>White</td>\n",
              "      <td>Male</td>\n",
              "      <td>0</td>\n",
              "      <td>0</td>\n",
              "      <td>45</td>\n",
              "      <td>United-States</td>\n",
              "      <td>&gt;50K</td>\n",
              "    </tr>\n",
              "    <tr>\n",
              "      <th>160</th>\n",
              "      <td>68</td>\n",
              "      <td>NaN</td>\n",
              "      <td>38317</td>\n",
              "      <td>1st-4th</td>\n",
              "      <td>2</td>\n",
              "      <td>Divorced</td>\n",
              "      <td>NaN</td>\n",
              "      <td>Not-in-family</td>\n",
              "      <td>White</td>\n",
              "      <td>Female</td>\n",
              "      <td>0</td>\n",
              "      <td>0</td>\n",
              "      <td>20</td>\n",
              "      <td>United-States</td>\n",
              "      <td>&lt;=50K</td>\n",
              "    </tr>\n",
              "    <tr>\n",
              "      <th>187</th>\n",
              "      <td>53</td>\n",
              "      <td>NaN</td>\n",
              "      <td>135105</td>\n",
              "      <td>Bachelors</td>\n",
              "      <td>13</td>\n",
              "      <td>Divorced</td>\n",
              "      <td>NaN</td>\n",
              "      <td>Not-in-family</td>\n",
              "      <td>White</td>\n",
              "      <td>Female</td>\n",
              "      <td>0</td>\n",
              "      <td>0</td>\n",
              "      <td>50</td>\n",
              "      <td>United-States</td>\n",
              "      <td>&lt;=50K</td>\n",
              "    </tr>\n",
              "  </tbody>\n",
              "</table>\n",
              "</div>\n",
              "      <button class=\"colab-df-convert\" onclick=\"convertToInteractive('df-5fcac298-5b67-401c-b8f0-ae61ce6e3aca')\"\n",
              "              title=\"Convert this dataframe to an interactive table.\"\n",
              "              style=\"display:none;\">\n",
              "        \n",
              "  <svg xmlns=\"http://www.w3.org/2000/svg\" height=\"24px\"viewBox=\"0 0 24 24\"\n",
              "       width=\"24px\">\n",
              "    <path d=\"M0 0h24v24H0V0z\" fill=\"none\"/>\n",
              "    <path d=\"M18.56 5.44l.94 2.06.94-2.06 2.06-.94-2.06-.94-.94-2.06-.94 2.06-2.06.94zm-11 1L8.5 8.5l.94-2.06 2.06-.94-2.06-.94L8.5 2.5l-.94 2.06-2.06.94zm10 10l.94 2.06.94-2.06 2.06-.94-2.06-.94-.94-2.06-.94 2.06-2.06.94z\"/><path d=\"M17.41 7.96l-1.37-1.37c-.4-.4-.92-.59-1.43-.59-.52 0-1.04.2-1.43.59L10.3 9.45l-7.72 7.72c-.78.78-.78 2.05 0 2.83L4 21.41c.39.39.9.59 1.41.59.51 0 1.02-.2 1.41-.59l7.78-7.78 2.81-2.81c.8-.78.8-2.07 0-2.86zM5.41 20L4 18.59l7.72-7.72 1.47 1.35L5.41 20z\"/>\n",
              "  </svg>\n",
              "      </button>\n",
              "      \n",
              "  <style>\n",
              "    .colab-df-container {\n",
              "      display:flex;\n",
              "      flex-wrap:wrap;\n",
              "      gap: 12px;\n",
              "    }\n",
              "\n",
              "    .colab-df-convert {\n",
              "      background-color: #E8F0FE;\n",
              "      border: none;\n",
              "      border-radius: 50%;\n",
              "      cursor: pointer;\n",
              "      display: none;\n",
              "      fill: #1967D2;\n",
              "      height: 32px;\n",
              "      padding: 0 0 0 0;\n",
              "      width: 32px;\n",
              "    }\n",
              "\n",
              "    .colab-df-convert:hover {\n",
              "      background-color: #E2EBFA;\n",
              "      box-shadow: 0px 1px 2px rgba(60, 64, 67, 0.3), 0px 1px 3px 1px rgba(60, 64, 67, 0.15);\n",
              "      fill: #174EA6;\n",
              "    }\n",
              "\n",
              "    [theme=dark] .colab-df-convert {\n",
              "      background-color: #3B4455;\n",
              "      fill: #D2E3FC;\n",
              "    }\n",
              "\n",
              "    [theme=dark] .colab-df-convert:hover {\n",
              "      background-color: #434B5C;\n",
              "      box-shadow: 0px 1px 3px 1px rgba(0, 0, 0, 0.15);\n",
              "      filter: drop-shadow(0px 1px 2px rgba(0, 0, 0, 0.3));\n",
              "      fill: #FFFFFF;\n",
              "    }\n",
              "  </style>\n",
              "\n",
              "      <script>\n",
              "        const buttonEl =\n",
              "          document.querySelector('#df-5fcac298-5b67-401c-b8f0-ae61ce6e3aca button.colab-df-convert');\n",
              "        buttonEl.style.display =\n",
              "          google.colab.kernel.accessAllowed ? 'block' : 'none';\n",
              "\n",
              "        async function convertToInteractive(key) {\n",
              "          const element = document.querySelector('#df-5fcac298-5b67-401c-b8f0-ae61ce6e3aca');\n",
              "          const dataTable =\n",
              "            await google.colab.kernel.invokeFunction('convertToInteractive',\n",
              "                                                     [key], {});\n",
              "          if (!dataTable) return;\n",
              "\n",
              "          const docLinkHtml = 'Like what you see? Visit the ' +\n",
              "            '<a target=\"_blank\" href=https://colab.research.google.com/notebooks/data_table.ipynb>data table notebook</a>'\n",
              "            + ' to learn more about interactive tables.';\n",
              "          element.innerHTML = '';\n",
              "          dataTable['output_type'] = 'display_data';\n",
              "          await google.colab.output.renderOutput(dataTable, element);\n",
              "          const docLink = document.createElement('div');\n",
              "          docLink.innerHTML = docLinkHtml;\n",
              "          element.appendChild(docLink);\n",
              "        }\n",
              "      </script>\n",
              "    </div>\n",
              "  </div>\n",
              "  "
            ]
          },
          "metadata": {},
          "execution_count": 21
        }
      ]
    },
    {
      "cell_type": "markdown",
      "source": [
        "В данной выборке можно разглядеть, что везде, где отсутствует признак workclass, также отсутствует и признак occupation. Возможно между ними имеется некая связь. Поэтому найдем наиболее популярное значение признака ***workclass*** и затем по найденному значению выберем самое популярное среди ***occupation***. Значения для признака ***native-country***\tзаполним аналогично — наиболее популярным."
      ],
      "metadata": {
        "id": "iV_NGjVGEhWQ"
      }
    },
    {
      "cell_type": "markdown",
      "source": [
        "Найдем самое популярное значение среди признака ***workclass***"
      ],
      "metadata": {
        "id": "uxnacRPMCZJI"
      }
    },
    {
      "cell_type": "code",
      "source": [
        "df['workclass'].mode()[0]"
      ],
      "metadata": {
        "colab": {
          "base_uri": "https://localhost:8080/"
        },
        "id": "mVqaI8rRQNWX",
        "outputId": "3842e04b-9f71-49c8-e666-aa84f4711e4f"
      },
      "execution_count": null,
      "outputs": [
        {
          "output_type": "execute_result",
          "data": {
            "text/plain": [
              "' Private'"
            ],
            "application/vnd.google.colaboratory.intrinsic+json": {
              "type": "string"
            }
          },
          "metadata": {},
          "execution_count": 22
        }
      ]
    },
    {
      "cell_type": "markdown",
      "source": [
        "Найдем самое популярное значение среди признака ***occupation***, учитывая что *workclass* = *'Private'*"
      ],
      "metadata": {
        "id": "LShoP439Cksw"
      }
    },
    {
      "cell_type": "code",
      "source": [
        "df['occupation'][df['workclass'] == df['workclass'].mode()[0]].mode()[0]"
      ],
      "metadata": {
        "colab": {
          "base_uri": "https://localhost:8080/"
        },
        "id": "6qMt0xbYRpPd",
        "outputId": "7deb5e59-756d-43d4-c8ce-8efea1ed9837"
      },
      "execution_count": null,
      "outputs": [
        {
          "output_type": "execute_result",
          "data": {
            "text/plain": [
              "' Craft-repair'"
            ],
            "application/vnd.google.colaboratory.intrinsic+json": {
              "type": "string"
            }
          },
          "metadata": {},
          "execution_count": 23
        }
      ]
    },
    {
      "cell_type": "markdown",
      "source": [
        "Найдем самое популярное значение среди признака ***native-country***"
      ],
      "metadata": {
        "id": "vcsBSilhDCIg"
      }
    },
    {
      "cell_type": "code",
      "source": [
        "df['native-country'].mode()[0]"
      ],
      "metadata": {
        "colab": {
          "base_uri": "https://localhost:8080/"
        },
        "id": "2iA9kZd8QEXV",
        "outputId": "9257685f-d331-4062-f5d9-7bacd9b4abeb"
      },
      "execution_count": null,
      "outputs": [
        {
          "output_type": "execute_result",
          "data": {
            "text/plain": [
              "' United-States'"
            ],
            "application/vnd.google.colaboratory.intrinsic+json": {
              "type": "string"
            }
          },
          "metadata": {},
          "execution_count": 24
        }
      ]
    },
    {
      "cell_type": "markdown",
      "source": [
        "Заменим соответствующие пропуски найденными значениями"
      ],
      "metadata": {
        "id": "YwKKiDu-CJgY"
      }
    },
    {
      "cell_type": "code",
      "source": [
        "df['workclass'].fillna(df['workclass'].mode()[0], inplace=True)\n",
        "df['occupation'].fillna(df['occupation'][df['workclass'] == df['workclass'].mode()[0]].mode()[0], inplace=True)\n",
        "df['native-country'].fillna(df['native-country'].mode()[0], inplace=True)"
      ],
      "metadata": {
        "id": "PHti9wOWXmyA"
      },
      "execution_count": null,
      "outputs": []
    },
    {
      "cell_type": "code",
      "source": [
        "df.isnull().sum()"
      ],
      "metadata": {
        "colab": {
          "base_uri": "https://localhost:8080/"
        },
        "id": "xJ-lXjtcX7IE",
        "outputId": "5014f055-6767-41b6-ee70-2531b87216ba"
      },
      "execution_count": null,
      "outputs": [
        {
          "output_type": "execute_result",
          "data": {
            "text/plain": [
              "age               0\n",
              "workclass         0\n",
              "fnlwgt            0\n",
              "education         0\n",
              "education-num     0\n",
              "marital-status    0\n",
              "occupation        0\n",
              "relationship      0\n",
              "race              0\n",
              "sex               0\n",
              "capital-gain      0\n",
              "capital-loss      0\n",
              "hours-per-week    0\n",
              "native-country    0\n",
              "salary            0\n",
              "dtype: int64"
            ]
          },
          "metadata": {},
          "execution_count": 26
        }
      ]
    },
    {
      "cell_type": "markdown",
      "source": [
        "Мы успешно поборолись с пропущенными значениями, можно переходить к дальнейшему исследованию."
      ],
      "metadata": {
        "id": "NRSe9tVYxe0d"
      }
    },
    {
      "cell_type": "markdown",
      "source": [
        "##  **4. Визуализация данных**"
      ],
      "metadata": {
        "id": "205hWa6bEP3h"
      }
    },
    {
      "cell_type": "markdown",
      "source": [
        "\n",
        "\n",
        "> В данном разделе мы выполним визуализацию данных, чтобы понять зависимость уровня заработной платы от различных признаков, а также убедиться в наличии или отсутствии выбросов\n",
        "\n"
      ],
      "metadata": {
        "id": "B-5zcw6BKotB"
      }
    },
    {
      "cell_type": "code",
      "source": [
        "df.info()"
      ],
      "metadata": {
        "colab": {
          "base_uri": "https://localhost:8080/"
        },
        "id": "EsjqLYV6diJ5",
        "outputId": "a6095595-ac43-4966-f2c4-7fb0730aa999"
      },
      "execution_count": null,
      "outputs": [
        {
          "output_type": "stream",
          "name": "stdout",
          "text": [
            "<class 'pandas.core.frame.DataFrame'>\n",
            "RangeIndex: 32561 entries, 0 to 32560\n",
            "Data columns (total 15 columns):\n",
            " #   Column          Non-Null Count  Dtype \n",
            "---  ------          --------------  ----- \n",
            " 0   age             32561 non-null  int64 \n",
            " 1   workclass       32561 non-null  object\n",
            " 2   fnlwgt          32561 non-null  int64 \n",
            " 3   education       32561 non-null  object\n",
            " 4   education-num   32561 non-null  int64 \n",
            " 5   marital-status  32561 non-null  object\n",
            " 6   occupation      32561 non-null  object\n",
            " 7   relationship    32561 non-null  object\n",
            " 8   race            32561 non-null  object\n",
            " 9   sex             32561 non-null  object\n",
            " 10  capital-gain    32561 non-null  int64 \n",
            " 11  capital-loss    32561 non-null  int64 \n",
            " 12  hours-per-week  32561 non-null  int64 \n",
            " 13  native-country  32561 non-null  object\n",
            " 14  salary          32561 non-null  object\n",
            "dtypes: int64(6), object(9)\n",
            "memory usage: 3.7+ MB\n"
          ]
        }
      ]
    },
    {
      "cell_type": "markdown",
      "source": [
        "*Простроим графическое представление матрицы корреляции*"
      ],
      "metadata": {
        "id": "OOm0puAUaj8d"
      }
    },
    {
      "cell_type": "code",
      "source": [
        "plt.figure(figsize = (15,10))\n",
        "sb.heatmap(df.corr(), annot=True, cmap='Blues')\n",
        "plt.show()"
      ],
      "metadata": {
        "colab": {
          "base_uri": "https://localhost:8080/",
          "height": 596
        },
        "id": "8sdnr9RLNeWQ",
        "outputId": "58832b51-1890-403f-d486-76bf0975e205"
      },
      "execution_count": null,
      "outputs": [
        {
          "output_type": "display_data",
          "data": {
            "text/plain": [
              "<Figure size 1080x720 with 2 Axes>"
            ],
            "image/png": "[encoded data removed]"
          },
          "metadata": {
            "needs_background": "light"
          }
        }
      ]
    },
    {
      "cell_type": "markdown",
      "source": [
        "Как результат, признаки практически не коррелируют друг с другом.\n",
        "\n",
        " \n",
        "\n"
      ],
      "metadata": {
        "id": "fJtWp-z0a86P"
      }
    },
    {
      "cell_type": "code",
      "source": [
        "color = [\"#3498db\",\"#34495e\"]\n",
        "sb.set_palette(color)"
      ],
      "metadata": {
        "id": "UK_GDB4efWGd"
      },
      "execution_count": null,
      "outputs": []
    },
    {
      "cell_type": "markdown",
      "source": [
        "*Посмотрим на какой возраст приходится наибольший заработок*"
      ],
      "metadata": {
        "id": "UQ_XuhGNbP1l"
      }
    },
    {
      "cell_type": "code",
      "source": [
        "plt.figure(figsize=(12, 8))\n",
        "sb.boxplot(data=df, y='age', x='salary')\n",
        "plt.show()"
      ],
      "metadata": {
        "colab": {
          "base_uri": "https://localhost:8080/",
          "height": 497
        },
        "id": "sg6Y0O3sdXkS",
        "outputId": "069cdf1c-afea-4872-c3a8-330316e19e3a"
      },
      "execution_count": null,
      "outputs": [
        {
          "output_type": "display_data",
          "data": {
            "text/plain": [
              "<Figure size 864x576 with 1 Axes>"
            ],
            "image/png": "[encoded data removed]"
          },
          "metadata": {
            "needs_background": "light"
          }
        }
      ]
    },
    {
      "cell_type": "markdown",
      "source": [
        "Можно увидеть, что среди опрошенных, у которых зарплата более 50К, преобладают люди в возрасте примерно от 35 до 50. Зарплату менее 50К получают люди примерно от 25 до 45."
      ],
      "metadata": {
        "id": "jMUCUyjqlcN1"
      }
    },
    {
      "cell_type": "markdown",
      "source": [
        "*Посмотрим зависимость заработной платы от характеристики, которая обозначает количество людей со схожими признаками*"
      ],
      "metadata": {
        "id": "V43LkWYZwHsT"
      }
    },
    {
      "cell_type": "code",
      "source": [
        "plt.figure(figsize=(12, 8))\n",
        "sb.boxplot(data=df, y='fnlwgt', x='salary')\n",
        "plt.show()"
      ],
      "metadata": {
        "colab": {
          "base_uri": "https://localhost:8080/",
          "height": 508
        },
        "id": "dDaIyecEsUlD",
        "outputId": "d19af5ad-a851-4099-85e8-fd4fafb3f011"
      },
      "execution_count": null,
      "outputs": [
        {
          "output_type": "display_data",
          "data": {
            "text/plain": [
              "<Figure size 864x576 with 1 Axes>"
            ],
            "image/png": "[encoded data removed]"
          },
          "metadata": {
            "needs_background": "light"
          }
        }
      ]
    },
    {
      "cell_type": "code",
      "source": [
        "plt.figure(figsize=(12, 8))\n",
        "sb.kdeplot(data=df, x='fnlwgt', hue='salary')\n",
        "plt.show()"
      ],
      "metadata": {
        "colab": {
          "base_uri": "https://localhost:8080/",
          "height": 508
        },
        "id": "ag4az4DCwoZq",
        "outputId": "187e3a2e-696f-4115-dcc7-34e2fea74b68"
      },
      "execution_count": null,
      "outputs": [
        {
          "output_type": "display_data",
          "data": {
            "text/plain": [
              "<Figure size 864x576 with 1 Axes>"
            ],
            "image/png": "[encoded data removed]"
          },
          "metadata": {
            "needs_background": "light"
          }
        }
      ]
    },
    {
      "cell_type": "markdown",
      "source": [
        "Трудно разглядеть зависимость зарплаты от данного признака. Попробуем отбросить его при дальнейшей обработке данных."
      ],
      "metadata": {
        "id": "xdubjCTDxJUy"
      }
    },
    {
      "cell_type": "markdown",
      "source": [
        "*Посмотрим распределение заработной платы по принадлежности к рабочему классу*"
      ],
      "metadata": {
        "id": "jaliLkE_ailF"
      }
    },
    {
      "cell_type": "code",
      "source": [
        "plt.figure(figsize=(12, 8))\n",
        "sb.countplot(data=df, x='workclass', hue='salary')\n",
        "plt.show()"
      ],
      "metadata": {
        "colab": {
          "base_uri": "https://localhost:8080/",
          "height": 497
        },
        "id": "mvHftGumfp7N",
        "outputId": "c74e663f-4e8c-4b44-f843-f35e452e0725"
      },
      "execution_count": null,
      "outputs": [
        {
          "output_type": "display_data",
          "data": {
            "text/plain": [
              "<Figure size 864x576 with 1 Axes>"
            ],
            "image/png": "[encoded data removed]"
          },
          "metadata": {
            "needs_background": "light"
          }
        }
      ]
    },
    {
      "cell_type": "markdown",
      "source": [
        "Среди людей рабочего класса можем наблюдать наибольшее количество людей, которые получают зарплату более 50К, кроме того данный класс преобладает и среди тех, кто пролучает зарплату менее 50К. "
      ],
      "metadata": {
        "id": "j70lcGimf68W"
      }
    },
    {
      "cell_type": "markdown",
      "source": [
        "*Посмотрим распределение заработной платы среди уровня образования*"
      ],
      "metadata": {
        "id": "_ISTEhproCMV"
      }
    },
    {
      "cell_type": "code",
      "source": [
        "plt.figure(figsize=(12, 8))\n",
        "sb.countplot(data=df, y='education', hue='salary')\n",
        "plt.show()"
      ],
      "metadata": {
        "colab": {
          "base_uri": "https://localhost:8080/",
          "height": 497
        },
        "id": "aOpiAXtchS3N",
        "outputId": "3e991607-f279-4d35-e7d8-db1c1463466f"
      },
      "execution_count": null,
      "outputs": [
        {
          "output_type": "display_data",
          "data": {
            "text/plain": [
              "<Figure size 864x576 with 1 Axes>"
            ],
            "image/png": "[encoded data removed]"
          },
          "metadata": {
            "needs_background": "light"
          }
        }
      ]
    },
    {
      "cell_type": "markdown",
      "source": [
        "Очевидно, что уровень образования играет ключевую роль в формировании заработной платы. По графику видно, что большинство тех, кто получает более 50К имеют образование начиная от высшей школы или колледжа и заканчивая магистратурой."
      ],
      "metadata": {
        "id": "dSOqwOm-phAt"
      }
    },
    {
      "cell_type": "markdown",
      "source": [
        "*Посмотрим зависимость заработной платы от семейного положения*"
      ],
      "metadata": {
        "id": "cE1gprytqCwr"
      }
    },
    {
      "cell_type": "code",
      "source": [
        "plt.figure(figsize=(12, 8))\n",
        "sb.countplot(data=df, x='marital-status', hue='salary')\n",
        "plt.show()"
      ],
      "metadata": {
        "colab": {
          "base_uri": "https://localhost:8080/",
          "height": 497
        },
        "id": "by9WUx7qhiZc",
        "outputId": "c2b7f0be-cddc-4512-966f-cd7464cae147"
      },
      "execution_count": null,
      "outputs": [
        {
          "output_type": "display_data",
          "data": {
            "text/plain": [
              "<Figure size 864x576 with 1 Axes>"
            ],
            "image/png": "[encoded data removed]"
          },
          "metadata": {
            "needs_background": "light"
          }
        }
      ]
    },
    {
      "cell_type": "markdown",
      "source": [
        "Большинство тех, кто хорошо зарабатывает, находится в гражданском браке."
      ],
      "metadata": {
        "id": "gujZe2DIqLc7"
      }
    },
    {
      "cell_type": "code",
      "source": [
        "plt.figure(figsize=(12, 8))\n",
        "sb.countplot(data=df, x='relationship', hue='salary')\n",
        "plt.show()"
      ],
      "metadata": {
        "colab": {
          "base_uri": "https://localhost:8080/",
          "height": 497
        },
        "id": "BHBQuLSRiFc-",
        "outputId": "d4dc8238-ccda-4286-facd-4a3935ccf162"
      },
      "execution_count": null,
      "outputs": [
        {
          "output_type": "display_data",
          "data": {
            "text/plain": [
              "<Figure size 864x576 with 1 Axes>"
            ],
            "image/png": "[encoded data removed]"
          },
          "metadata": {
            "needs_background": "light"
          }
        }
      ]
    },
    {
      "cell_type": "markdown",
      "source": [
        "В основном высоким заработком может похвастаться только мужчина."
      ],
      "metadata": {
        "id": "rV0-bRApqWbj"
      }
    },
    {
      "cell_type": "markdown",
      "source": [
        "*Посмотрим зависимость заработной платы от расы*"
      ],
      "metadata": {
        "id": "HWdgMvnOqj8r"
      }
    },
    {
      "cell_type": "code",
      "source": [
        "plt.figure(figsize=(12, 8))\n",
        "sb.countplot(data=df, x='race', hue='salary')\n",
        "plt.show()"
      ],
      "metadata": {
        "colab": {
          "base_uri": "https://localhost:8080/",
          "height": 497
        },
        "id": "7JIlXlpHiWjE",
        "outputId": "344e825a-1456-4fb1-f4ad-deb45f1f6910"
      },
      "execution_count": null,
      "outputs": [
        {
          "output_type": "display_data",
          "data": {
            "text/plain": [
              "<Figure size 864x576 with 1 Axes>"
            ],
            "image/png": "[encoded data removed]"
          },
          "metadata": {
            "needs_background": "light"
          }
        }
      ]
    },
    {
      "cell_type": "markdown",
      "source": [
        "Хороший заработок в основном характерен для людей «белой расы»."
      ],
      "metadata": {
        "id": "BZc97tvOqpfU"
      }
    },
    {
      "cell_type": "markdown",
      "source": [
        "*Посмотрим зависимость заработной платы от пола*"
      ],
      "metadata": {
        "id": "2avgg4YLrOq7"
      }
    },
    {
      "cell_type": "code",
      "source": [
        "plt.figure(figsize=(12, 8))\n",
        "sb.countplot(data=df, x='sex', hue='salary')\n",
        "plt.show()"
      ],
      "metadata": {
        "colab": {
          "base_uri": "https://localhost:8080/",
          "height": 497
        },
        "id": "wa6827FdiZhM",
        "outputId": "3155853c-5777-41b5-94b0-1ded67e6419f"
      },
      "execution_count": null,
      "outputs": [
        {
          "output_type": "display_data",
          "data": {
            "text/plain": [
              "<Figure size 864x576 with 1 Axes>"
            ],
            "image/png": "[encoded data removed]"
          },
          "metadata": {
            "needs_background": "light"
          }
        }
      ]
    },
    {
      "cell_type": "markdown",
      "source": [
        "Высокий заработок преобладает среди мужчин."
      ],
      "metadata": {
        "id": "y-1zcpbklYLa"
      }
    },
    {
      "cell_type": "markdown",
      "source": [
        "*Посмотрим зависимость заработной платы от прироста или потери капитала*"
      ],
      "metadata": {
        "id": "4fJuVEMSrhez"
      }
    },
    {
      "cell_type": "code",
      "source": [
        "plt.figure(figsize=(12, 8))\n",
        "sb.kdeplot(data=df, x='capital-gain', hue='salary')\n",
        "plt.show()"
      ],
      "metadata": {
        "colab": {
          "base_uri": "https://localhost:8080/",
          "height": 497
        },
        "id": "SaokvQ4YidN8",
        "outputId": "10166d0a-5e06-490d-acfb-fec9bb89aa61"
      },
      "execution_count": null,
      "outputs": [
        {
          "output_type": "display_data",
          "data": {
            "text/plain": [
              "<Figure size 864x576 with 1 Axes>"
            ],
            "image/png": "[encoded data removed]"
          },
          "metadata": {
            "needs_background": "light"
          }
        }
      ]
    },
    {
      "cell_type": "code",
      "source": [
        "plt.figure(figsize=(12, 8))\n",
        "sb.kdeplot(data=df, x='capital-loss', hue='salary')\n",
        "plt.show()"
      ],
      "metadata": {
        "colab": {
          "base_uri": "https://localhost:8080/",
          "height": 497
        },
        "id": "E2AJ3Vf8iknF",
        "outputId": "cb978b31-6da0-4958-fd47-953b2666c611"
      },
      "execution_count": null,
      "outputs": [
        {
          "output_type": "display_data",
          "data": {
            "text/plain": [
              "<Figure size 864x576 with 1 Axes>"
            ],
            "image/png": "[encoded data removed]"
          },
          "metadata": {
            "needs_background": "light"
          }
        }
      ]
    },
    {
      "cell_type": "markdown",
      "source": [
        "По графикам можно увидеть, что данные характеристики не оказывают никакого влияния на уровень заработной платы, скорее всего потому что для большинства объектов являются нулём, и не смогут быть полезны при обучении модели. В дальнейшем мы удалим эти признаки."
      ],
      "metadata": {
        "id": "EeGEsP6EkDzW"
      }
    },
    {
      "cell_type": "markdown",
      "source": [
        "*Посмотрим зависимость заработной платы от количества отработанных часов в неделю*"
      ],
      "metadata": {
        "id": "KFKoLqURrw2E"
      }
    },
    {
      "cell_type": "code",
      "source": [
        "plt.figure(figsize=(12, 8))\n",
        "sb.boxplot(data=df, x='salary', y='hours-per-week')\n",
        "plt.show()"
      ],
      "metadata": {
        "colab": {
          "base_uri": "https://localhost:8080/",
          "height": 497
        },
        "id": "2XMtaFT2iqd8",
        "outputId": "adf09553-bbc3-4185-f320-ceb7791abd9d"
      },
      "execution_count": null,
      "outputs": [
        {
          "output_type": "display_data",
          "data": {
            "text/plain": [
              "<Figure size 864x576 with 1 Axes>"
            ],
            "image/png": "[encoded data removed]"
          },
          "metadata": {
            "needs_background": "light"
          }
        }
      ]
    },
    {
      "cell_type": "markdown",
      "source": [
        "По графикам видно, что работники, которые трудятся более 40 часов в неделю получают зарплату выше, чем те, которые работают менее 40 часов."
      ],
      "metadata": {
        "id": "DrZfZJ-PmA0E"
      }
    },
    {
      "cell_type": "markdown",
      "source": [
        "##  **5. Обработка данных**"
      ],
      "metadata": {
        "id": "MYF3mObggUmI"
      }
    },
    {
      "cell_type": "markdown",
      "source": [
        "> В данном разделе мы выполним предварительную обработку данных, чтобы они стали пригодны для алгоритмов машинного обучения\n",
        "\n"
      ],
      "metadata": {
        "id": "QL1OO0DlK3CO"
      }
    },
    {
      "cell_type": "markdown",
      "source": [
        "#### **5.1. Обработка числовых признаков**"
      ],
      "metadata": {
        "id": "DtSUCNhHklLY"
      }
    },
    {
      "cell_type": "code",
      "source": [
        "numeric_parameters"
      ],
      "metadata": {
        "colab": {
          "base_uri": "https://localhost:8080/"
        },
        "id": "bwu3Z9yZpd9d",
        "outputId": "932a45e1-fe89-4056-8dbc-ce2a4fbcee2c"
      },
      "execution_count": null,
      "outputs": [
        {
          "output_type": "execute_result",
          "data": {
            "text/plain": [
              "['age',\n",
              " 'fnlwgt',\n",
              " 'education-num',\n",
              " 'capital-gain',\n",
              " 'capital-loss',\n",
              " 'hours-per-week']"
            ]
          },
          "metadata": {},
          "execution_count": 42
        }
      ]
    },
    {
      "cell_type": "markdown",
      "source": [
        "Отбросим числовые признаки, которые имеют слишком большое число выбросов (*capital-gain*, *capital-gain*) или дублируют друг друга (*education-num*)"
      ],
      "metadata": {
        "id": "Esoo7VISnw9V"
      }
    },
    {
      "cell_type": "code",
      "source": [
        "df.drop('fnlwgt', axis=1, inplace=True)\n",
        "df.drop('education-num', axis=1, inplace=True)\n",
        "df.drop('capital-gain', axis=1, inplace=True)\n",
        "df.drop('capital-loss', axis=1, inplace=True)"
      ],
      "metadata": {
        "id": "i3ZlBDzHo5l4"
      },
      "execution_count": null,
      "outputs": []
    },
    {
      "cell_type": "markdown",
      "source": [
        "К оставшимся числовым признакам применим ***нормализацию***. В данном случае воспользуемся методом `MinMaxScaler()` из библиотеки scikit-learn, который нормализует значения, приводя их к диапазону от 0 до 1"
      ],
      "metadata": {
        "id": "xhXcxWa4tAA7"
      }
    },
    {
      "cell_type": "code",
      "source": [
        "remaining_numeric_parameters = [column for column in df.columns if df[column].dtype.name != 'object']\n",
        "remaining_numeric_parameters"
      ],
      "metadata": {
        "colab": {
          "base_uri": "https://localhost:8080/"
        },
        "id": "P0N69e7U8Q0o",
        "outputId": "88e369a1-ceef-44e1-8734-886861dc429d"
      },
      "execution_count": null,
      "outputs": [
        {
          "output_type": "execute_result",
          "data": {
            "text/plain": [
              "['age', 'hours-per-week']"
            ]
          },
          "metadata": {},
          "execution_count": 44
        }
      ]
    },
    {
      "cell_type": "code",
      "source": [
        "from sklearn.preprocessing import MinMaxScaler\n",
        "\n",
        "scaler = MinMaxScaler()\n",
        "df[remaining_numeric_parameters] = scaler.fit_transform(df[remaining_numeric_parameters])"
      ],
      "metadata": {
        "id": "MqBGItza7S5-"
      },
      "execution_count": null,
      "outputs": []
    },
    {
      "cell_type": "code",
      "source": [
        "df.describe()"
      ],
      "metadata": {
        "colab": {
          "base_uri": "https://localhost:8080/",
          "height": 300
        },
        "id": "bcNxyoyOud1Q",
        "outputId": "a2104355-0991-42ee-90b4-e1d86ab68d45"
      },
      "execution_count": null,
      "outputs": [
        {
          "output_type": "execute_result",
          "data": {
            "text/plain": [
              "                age  hours-per-week\n",
              "count  32561.000000    32561.000000\n",
              "mean       0.295639        0.402423\n",
              "std        0.186855        0.125994\n",
              "min        0.000000        0.000000\n",
              "25%        0.150685        0.397959\n",
              "50%        0.273973        0.397959\n",
              "75%        0.424658        0.448980\n",
              "max        1.000000        1.000000"
            ],
            "text/html": [
              "\n",
              "  <div id=\"df-ada613bf-aee5-4abb-ba7a-ac533501dd8f\">\n",
              "    <div class=\"colab-df-container\">\n",
              "      <div>\n",
              "<style scoped>\n",
              "    .dataframe tbody tr th:only-of-type {\n",
              "        vertical-align: middle;\n",
              "    }\n",
              "\n",
              "    .dataframe tbody tr th {\n",
              "        vertical-align: top;\n",
              "    }\n",
              "\n",
              "    .dataframe thead th {\n",
              "        text-align: right;\n",
              "    }\n",
              "</style>\n",
              "<table border=\"1\" class=\"dataframe\">\n",
              "  <thead>\n",
              "    <tr style=\"text-align: right;\">\n",
              "      <th></th>\n",
              "      <th>age</th>\n",
              "      <th>hours-per-week</th>\n",
              "    </tr>\n",
              "  </thead>\n",
              "  <tbody>\n",
              "    <tr>\n",
              "      <th>count</th>\n",
              "      <td>32561.000000</td>\n",
              "      <td>32561.000000</td>\n",
              "    </tr>\n",
              "    <tr>\n",
              "      <th>mean</th>\n",
              "      <td>0.295639</td>\n",
              "      <td>0.402423</td>\n",
              "    </tr>\n",
              "    <tr>\n",
              "      <th>std</th>\n",
              "      <td>0.186855</td>\n",
              "      <td>0.125994</td>\n",
              "    </tr>\n",
              "    <tr>\n",
              "      <th>min</th>\n",
              "      <td>0.000000</td>\n",
              "      <td>0.000000</td>\n",
              "    </tr>\n",
              "    <tr>\n",
              "      <th>25%</th>\n",
              "      <td>0.150685</td>\n",
              "      <td>0.397959</td>\n",
              "    </tr>\n",
              "    <tr>\n",
              "      <th>50%</th>\n",
              "      <td>0.273973</td>\n",
              "      <td>0.397959</td>\n",
              "    </tr>\n",
              "    <tr>\n",
              "      <th>75%</th>\n",
              "      <td>0.424658</td>\n",
              "      <td>0.448980</td>\n",
              "    </tr>\n",
              "    <tr>\n",
              "      <th>max</th>\n",
              "      <td>1.000000</td>\n",
              "      <td>1.000000</td>\n",
              "    </tr>\n",
              "  </tbody>\n",
              "</table>\n",
              "</div>\n",
              "      <button class=\"colab-df-convert\" onclick=\"convertToInteractive('df-ada613bf-aee5-4abb-ba7a-ac533501dd8f')\"\n",
              "              title=\"Convert this dataframe to an interactive table.\"\n",
              "              style=\"display:none;\">\n",
              "        \n",
              "  <svg xmlns=\"http://www.w3.org/2000/svg\" height=\"24px\"viewBox=\"0 0 24 24\"\n",
              "       width=\"24px\">\n",
              "    <path d=\"M0 0h24v24H0V0z\" fill=\"none\"/>\n",
              "    <path d=\"M18.56 5.44l.94 2.06.94-2.06 2.06-.94-2.06-.94-.94-2.06-.94 2.06-2.06.94zm-11 1L8.5 8.5l.94-2.06 2.06-.94-2.06-.94L8.5 2.5l-.94 2.06-2.06.94zm10 10l.94 2.06.94-2.06 2.06-.94-2.06-.94-.94-2.06-.94 2.06-2.06.94z\"/><path d=\"M17.41 7.96l-1.37-1.37c-.4-.4-.92-.59-1.43-.59-.52 0-1.04.2-1.43.59L10.3 9.45l-7.72 7.72c-.78.78-.78 2.05 0 2.83L4 21.41c.39.39.9.59 1.41.59.51 0 1.02-.2 1.41-.59l7.78-7.78 2.81-2.81c.8-.78.8-2.07 0-2.86zM5.41 20L4 18.59l7.72-7.72 1.47 1.35L5.41 20z\"/>\n",
              "  </svg>\n",
              "      </button>\n",
              "      \n",
              "  <style>\n",
              "    .colab-df-container {\n",
              "      display:flex;\n",
              "      flex-wrap:wrap;\n",
              "      gap: 12px;\n",
              "    }\n",
              "\n",
              "    .colab-df-convert {\n",
              "      background-color: #E8F0FE;\n",
              "      border: none;\n",
              "      border-radius: 50%;\n",
              "      cursor: pointer;\n",
              "      display: none;\n",
              "      fill: #1967D2;\n",
              "      height: 32px;\n",
              "      padding: 0 0 0 0;\n",
              "      width: 32px;\n",
              "    }\n",
              "\n",
              "    .colab-df-convert:hover {\n",
              "      background-color: #E2EBFA;\n",
              "      box-shadow: 0px 1px 2px rgba(60, 64, 67, 0.3), 0px 1px 3px 1px rgba(60, 64, 67, 0.15);\n",
              "      fill: #174EA6;\n",
              "    }\n",
              "\n",
              "    [theme=dark] .colab-df-convert {\n",
              "      background-color: #3B4455;\n",
              "      fill: #D2E3FC;\n",
              "    }\n",
              "\n",
              "    [theme=dark] .colab-df-convert:hover {\n",
              "      background-color: #434B5C;\n",
              "      box-shadow: 0px 1px 3px 1px rgba(0, 0, 0, 0.15);\n",
              "      filter: drop-shadow(0px 1px 2px rgba(0, 0, 0, 0.3));\n",
              "      fill: #FFFFFF;\n",
              "    }\n",
              "  </style>\n",
              "\n",
              "      <script>\n",
              "        const buttonEl =\n",
              "          document.querySelector('#df-ada613bf-aee5-4abb-ba7a-ac533501dd8f button.colab-df-convert');\n",
              "        buttonEl.style.display =\n",
              "          google.colab.kernel.accessAllowed ? 'block' : 'none';\n",
              "\n",
              "        async function convertToInteractive(key) {\n",
              "          const element = document.querySelector('#df-ada613bf-aee5-4abb-ba7a-ac533501dd8f');\n",
              "          const dataTable =\n",
              "            await google.colab.kernel.invokeFunction('convertToInteractive',\n",
              "                                                     [key], {});\n",
              "          if (!dataTable) return;\n",
              "\n",
              "          const docLinkHtml = 'Like what you see? Visit the ' +\n",
              "            '<a target=\"_blank\" href=https://colab.research.google.com/notebooks/data_table.ipynb>data table notebook</a>'\n",
              "            + ' to learn more about interactive tables.';\n",
              "          element.innerHTML = '';\n",
              "          dataTable['output_type'] = 'display_data';\n",
              "          await google.colab.output.renderOutput(dataTable, element);\n",
              "          const docLink = document.createElement('div');\n",
              "          docLink.innerHTML = docLinkHtml;\n",
              "          element.appendChild(docLink);\n",
              "        }\n",
              "      </script>\n",
              "    </div>\n",
              "  </div>\n",
              "  "
            ]
          },
          "metadata": {},
          "execution_count": 46
        }
      ]
    },
    {
      "cell_type": "markdown",
      "source": [
        "#### **5.2. Обработка категориальных признаков**"
      ],
      "metadata": {
        "id": "1OoLH5BqkRYZ"
      }
    },
    {
      "cell_type": "code",
      "source": [
        "category_parameters"
      ],
      "metadata": {
        "colab": {
          "base_uri": "https://localhost:8080/"
        },
        "id": "ucLSiWS-kp6Z",
        "outputId": "ce7c051e-2b0e-4433-c047-3291f022f6ce"
      },
      "execution_count": null,
      "outputs": [
        {
          "output_type": "execute_result",
          "data": {
            "text/plain": [
              "['workclass',\n",
              " 'education',\n",
              " 'marital-status',\n",
              " 'occupation',\n",
              " 'relationship',\n",
              " 'race',\n",
              " 'sex',\n",
              " 'native-country',\n",
              " 'salary']"
            ]
          },
          "metadata": {},
          "execution_count": 47
        }
      ]
    },
    {
      "cell_type": "markdown",
      "source": [
        "Найдем среди категориальных признаков те, которые можно отнести к бинарным и заменим их значения на *0* или *1* соответственно"
      ],
      "metadata": {
        "id": "K_6VmTlMkuih"
      }
    },
    {
      "cell_type": "code",
      "source": [
        "binary_category_parameters = [column for column in category_parameters if len(df[column].unique()) == 2]\n",
        "binary_category_parameters"
      ],
      "metadata": {
        "colab": {
          "base_uri": "https://localhost:8080/"
        },
        "id": "lr8CyDUtibqx",
        "outputId": "7a05d84e-816e-491d-bed8-0a3d35d3cbc4"
      },
      "execution_count": null,
      "outputs": [
        {
          "output_type": "execute_result",
          "data": {
            "text/plain": [
              "['sex', 'salary']"
            ]
          },
          "metadata": {},
          "execution_count": 48
        }
      ]
    },
    {
      "cell_type": "code",
      "source": [
        "for column in binary_category_parameters:\n",
        "  df[column] = df[column].map({df[column].unique()[0]: 0, df[column].unique()[1]: 1})"
      ],
      "metadata": {
        "id": "YDTP86VHjM-J"
      },
      "execution_count": null,
      "outputs": []
    },
    {
      "cell_type": "markdown",
      "source": [
        "Теперь выберем признаки, которые нельзя классифицировать как бинарные"
      ],
      "metadata": {
        "id": "SmwuY9-FLA2W"
      }
    },
    {
      "cell_type": "code",
      "source": [
        "no_binary_category_parameters = [column for column in category_parameters if column not in binary_category_parameters]\n",
        "no_binary_category_parameters"
      ],
      "metadata": {
        "colab": {
          "base_uri": "https://localhost:8080/"
        },
        "id": "eKKtvpDQll2h",
        "outputId": "9b021d59-4cd6-49f3-9277-b9bd2e543fd1"
      },
      "execution_count": null,
      "outputs": [
        {
          "output_type": "execute_result",
          "data": {
            "text/plain": [
              "['workclass',\n",
              " 'education',\n",
              " 'marital-status',\n",
              " 'occupation',\n",
              " 'relationship',\n",
              " 'race',\n",
              " 'native-country']"
            ]
          },
          "metadata": {},
          "execution_count": 50
        }
      ]
    },
    {
      "cell_type": "markdown",
      "source": [
        "Применим к ним ***векторизацию*** — каждый из категориальных признаков, который нельзя отнести к бинарным, заменим на столько новых булевых признаков, сколько существует возможных категорий у данного признака). Данную функциональность представляет метод `get_dummies` из библиотеки Pandas.\n"
      ],
      "metadata": {
        "id": "M5Xpwn0zLxXs"
      }
    },
    {
      "cell_type": "code",
      "source": [
        "df=pd.get_dummies(df, columns=no_binary_category_parameters, drop_first=True)"
      ],
      "metadata": {
        "id": "bb9U-2ZJkxx1"
      },
      "execution_count": null,
      "outputs": []
    },
    {
      "cell_type": "markdown",
      "source": [
        "##  **6. Разделение данных**"
      ],
      "metadata": {
        "id": "HlUGZNKShk0t"
      }
    },
    {
      "cell_type": "markdown",
      "source": [
        "> В данном разделе мы выполним разделение данных на обучающую и тестовую выборки\n",
        "\n"
      ],
      "metadata": {
        "id": "MGcYe1_luKAU"
      }
    },
    {
      "cell_type": "markdown",
      "source": [
        "Разделение будет выполнено в следующем соотношении: **80%** обучающая выборка, **20%** тестовая выборка."
      ],
      "metadata": {
        "id": "-8V04NMCu28s"
      }
    },
    {
      "cell_type": "code",
      "source": [
        "from sklearn.model_selection import train_test_split\n",
        "\n",
        "X = df.iloc[:, df.columns != 'salary']\n",
        "y = df['salary']\n",
        "\n",
        "X_train, X_test, y_train, y_test = train_test_split(X, y, test_size=0.2, shuffle=True, random_state=17)"
      ],
      "metadata": {
        "id": "azxSAQTf-GgQ"
      },
      "execution_count": null,
      "outputs": []
    },
    {
      "cell_type": "code",
      "source": [
        "X_train.shape[0]"
      ],
      "metadata": {
        "colab": {
          "base_uri": "https://localhost:8080/"
        },
        "id": "2zCfyTqJvn3S",
        "outputId": "124f76e9-6127-4684-b2c3-d9eda4899f18"
      },
      "execution_count": null,
      "outputs": [
        {
          "output_type": "execute_result",
          "data": {
            "text/plain": [
              "26048"
            ]
          },
          "metadata": {},
          "execution_count": 53
        }
      ]
    },
    {
      "cell_type": "markdown",
      "source": [
        "Количество объектов обучающей выборки = ***26048***"
      ],
      "metadata": {
        "id": "MdP0YXM_v-Gb"
      }
    },
    {
      "cell_type": "code",
      "source": [
        "X_test.shape[0] "
      ],
      "metadata": {
        "colab": {
          "base_uri": "https://localhost:8080/"
        },
        "id": "ovh6xHy_vyRC",
        "outputId": "8cc4ea3c-7ccd-4ca8-8ad1-d380425476f7"
      },
      "execution_count": null,
      "outputs": [
        {
          "output_type": "execute_result",
          "data": {
            "text/plain": [
              "6513"
            ]
          },
          "metadata": {},
          "execution_count": 54
        }
      ]
    },
    {
      "cell_type": "markdown",
      "source": [
        "Количество объектов тестовой выборки = ***6513***"
      ],
      "metadata": {
        "id": "Y6rYCRCSv_UC"
      }
    },
    {
      "cell_type": "markdown",
      "source": [
        "##  **7. Классификация**"
      ],
      "metadata": {
        "id": "Ui7DhmQngaCP"
      }
    },
    {
      "cell_type": "markdown",
      "source": [
        "> В данном разделе мы запустим различные классификаторы, чтобы сравнить получаемые показатели точности и ошибки предсказания\n",
        "\n"
      ],
      "metadata": {
        "id": "NaHB35z9wMFq"
      }
    },
    {
      "cell_type": "markdown",
      "source": [
        "###  **7.1. KNN**"
      ],
      "metadata": {
        "id": "kTLIXfjMhIFm"
      }
    },
    {
      "cell_type": "code",
      "source": [
        "from sklearn.neighbors import KNeighborsClassifier"
      ],
      "metadata": {
        "id": "Q5DeZq_J67YC"
      },
      "execution_count": null,
      "outputs": []
    },
    {
      "cell_type": "markdown",
      "source": [
        "Выполним подбор параметра ***K*** (*число ближайших соседей*) для того, чтобы выбрать наиболее лучший вариант"
      ],
      "metadata": {
        "id": "_1xvboot3IcS"
      }
    },
    {
      "cell_type": "code",
      "source": [
        "# scores = []\n",
        "\n",
        "# for i in range(1, 51, 2):\n",
        "#     knn = KNeighborsClassifier(n_neighbors=i)\n",
        "#     knn.fit(X_train, y_train)\n",
        "#     score = knn.score(X_test, y_test)\n",
        "#     result = [i, score]\n",
        "#     scores.append(result)\n",
        "\n",
        "# scores"
      ],
      "metadata": {
        "colab": {
          "base_uri": "https://localhost:8080/"
        },
        "id": "JAtlSA7hamwW",
        "outputId": "4c656dd5-b731-4811-de0a-9826f9a58d8a"
      },
      "execution_count": null,
      "outputs": [
        {
          "output_type": "execute_result",
          "data": {
            "text/plain": [
              "[[1, 0.7781360356210656],\n",
              " [3, 0.8111469368954399],\n",
              " [5, 0.8220482112697681],\n",
              " [7, 0.8249654537079687],\n",
              " [9, 0.8235836020267158],\n",
              " [11, 0.826040227237832],\n",
              " [13, 0.826654383540611],\n",
              " [15, 0.8277291570704745],\n",
              " [17, 0.8288039306003377],\n",
              " [19, 0.8281897742975587],\n",
              " [21, 0.8275756179947796],\n",
              " [23, 0.8297251650545063],\n",
              " [25, 0.8309534776600644],\n",
              " [27, 0.8309534776600644],\n",
              " [29, 0.8307999385843697],\n",
              " [31, 0.8291110087517273],\n",
              " [33, 0.8274220789190849],\n",
              " [35, 0.8269614616920006],\n",
              " [37, 0.8277291570704745],\n",
              " [39, 0.8272685398433901],\n",
              " [41, 0.8294180869031168],\n",
              " [43, 0.8309534776600644],\n",
              " [45, 0.8307999385843697],\n",
              " [47, 0.8306463995086749],\n",
              " [49, 0.8295716259788116]]"
            ]
          },
          "metadata": {},
          "execution_count": 56
        }
      ]
    },
    {
      "cell_type": "code",
      "source": [
        "# max(scores, key=lambda x: x[1])"
      ],
      "metadata": {
        "colab": {
          "base_uri": "https://localhost:8080/"
        },
        "id": "EFTn-uCy7mKR",
        "outputId": "2ae6d878-8916-46c7-e4be-0328a07fcb2f"
      },
      "execution_count": null,
      "outputs": [
        {
          "output_type": "execute_result",
          "data": {
            "text/plain": [
              "[25, 0.8309534776600644]"
            ]
          },
          "metadata": {},
          "execution_count": 57
        }
      ]
    },
    {
      "cell_type": "code",
      "source": [
        "# knn = KNeighborsClassifier(n_neighbors=max(scores, key=lambda x: x[1])[0])\n",
        "knn = KNeighborsClassifier(n_neighbors=25)\n",
        "knn.fit(X_train, y_train)"
      ],
      "metadata": {
        "colab": {
          "base_uri": "https://localhost:8080/"
        },
        "id": "LUsVYNw4l18k",
        "outputId": "c7c5e771-1fee-4060-e182-23cc6fc7f43a"
      },
      "execution_count": null,
      "outputs": [
        {
          "output_type": "execute_result",
          "data": {
            "text/plain": [
              "KNeighborsClassifier(n_neighbors=25)"
            ]
          },
          "metadata": {},
          "execution_count": 58
        }
      ]
    },
    {
      "cell_type": "code",
      "source": [
        "y_train_predict = knn.predict(X_train)\n",
        "knn_accuracy_train = np.mean(y_train == y_train_predict)\n",
        "knn_err_train = 1 - knn_accuracy_train\n",
        "print(\"Точность на обучающей выборке =\", knn_accuracy_train)\n",
        "print(\"Ошибка на обучающей выборке =\", knn_err_train)\n",
        "print(\"=================================================\")\n",
        "y_test_predict = knn.predict(X_test)\n",
        "knn_accuracy_test = np.mean(y_test == y_test_predict)\n",
        "knn_err_test = 1 - knn_accuracy_test\n",
        "print(\"Точность на тестовой выборке =\", knn_accuracy_test)\n",
        "print(\"Ошибка на тестовой выборке =\", knn_err_test)"
      ],
      "metadata": {
        "colab": {
          "base_uri": "https://localhost:8080/"
        },
        "id": "GU2j7AGcl9V2",
        "outputId": "ff4e11ee-9596-4526-da6b-cf0ed18076db"
      },
      "execution_count": null,
      "outputs": [
        {
          "output_type": "stream",
          "name": "stdout",
          "text": [
            "Точность на обучающей выборке = 0.8445945945945946\n",
            "Ошибка на обучающей выборке = 0.15540540540540537\n",
            "=================================================\n",
            "Точность на тестовой выборке = 0.8309534776600644\n",
            "Ошибка на тестовой выборке = 0.16904652233993556\n"
          ]
        }
      ]
    },
    {
      "cell_type": "markdown",
      "source": [
        "### **7.2. Random Foresеt**\n"
      ],
      "metadata": {
        "id": "UXCaUxQl1Cm9"
      }
    },
    {
      "cell_type": "code",
      "source": [
        "from sklearn.ensemble import RandomForestClassifier"
      ],
      "metadata": {
        "id": "Ld7oIO8E_BQR"
      },
      "execution_count": null,
      "outputs": []
    },
    {
      "cell_type": "markdown",
      "source": [
        "Выполним подбор параметра ***n_estimators*** (*число деревьев*) для того, чтобы выбрать наиболее лучший вариант"
      ],
      "metadata": {
        "id": "koaaIg9EByop"
      }
    },
    {
      "cell_type": "code",
      "source": [
        "# scores = []\n",
        "\n",
        "# for i in range(100, 1100, 100):\n",
        "#     rf = RandomForestClassifier(n_estimators=i)\n",
        "#     rf.fit(X_train, y_train)\n",
        "#     score = rf.score(X_test, y_test)\n",
        "#     result = [i, score]\n",
        "#     scores.append(result)\n",
        "\n",
        "# scores"
      ],
      "metadata": {
        "colab": {
          "base_uri": "https://localhost:8080/"
        },
        "id": "e8pwvuERGYWw",
        "outputId": "aca47d10-1505-456f-fc4e-160ad5c43ca7"
      },
      "execution_count": null,
      "outputs": [
        {
          "output_type": "execute_result",
          "data": {
            "text/plain": [
              "[[100, 0.8120681713496085],\n",
              " [200, 0.8106863196683556],\n",
              " [300, 0.8114540150468295],\n",
              " [400, 0.8120681713496085],\n",
              " [500, 0.8116075541225242],\n",
              " [600, 0.8128358667280823],\n",
              " [700, 0.8122217104253032],\n",
              " [800, 0.8114540150468295],\n",
              " [900, 0.8122217104253032],\n",
              " [1000, 0.8125287885766928]]"
            ]
          },
          "metadata": {},
          "execution_count": 61
        }
      ]
    },
    {
      "cell_type": "code",
      "source": [
        "# max(scores, key=lambda x: x[1])"
      ],
      "metadata": {
        "colab": {
          "base_uri": "https://localhost:8080/"
        },
        "id": "i3Z4LLzQGhBI",
        "outputId": "6f492e7c-e883-401a-9b4c-361d3c652bae"
      },
      "execution_count": null,
      "outputs": [
        {
          "output_type": "execute_result",
          "data": {
            "text/plain": [
              "[600, 0.8128358667280823]"
            ]
          },
          "metadata": {},
          "execution_count": 62
        }
      ]
    },
    {
      "cell_type": "code",
      "source": [
        "# rf = RandomForestClassifier(n_estimators=max(scores, key=lambda x: x[1])[0])\n",
        "rf = RandomForestClassifier(n_estimators=600)\n",
        "rf.fit(X_train, y_train)"
      ],
      "metadata": {
        "colab": {
          "base_uri": "https://localhost:8080/"
        },
        "id": "C3Zw2hgiAtz5",
        "outputId": "43483d53-fa05-41a8-c5ce-44c0f2e8c0e6"
      },
      "execution_count": null,
      "outputs": [
        {
          "output_type": "execute_result",
          "data": {
            "text/plain": [
              "RandomForestClassifier(n_estimators=600)"
            ]
          },
          "metadata": {},
          "execution_count": 63
        }
      ]
    },
    {
      "cell_type": "code",
      "source": [
        "rf_accuracy_train = np.mean(y_train == rf.predict(X_train))\n",
        "rf_err_train = 1 - rf_accuracy_train\n",
        "print(\"Точность на обучающей выборке =\", rf_accuracy_train)\n",
        "print(\"Ошибка на обучающей выборке =\", rf_err_train)\n",
        "print(\"=================================================\")\n",
        "rf_accuracy_test = np.mean(y_test == rf.predict(X_test))\n",
        "rf_err_test = 1 - rf_accuracy_test\n",
        "print(\"Точность на тестовой выборке =\", rf_accuracy_test)\n",
        "print(\"Ошибка на тестовой выборке =\", rf_err_test)"
      ],
      "metadata": {
        "colab": {
          "base_uri": "https://localhost:8080/"
        },
        "id": "MRXTK3992rgq",
        "outputId": "1673e096-7bd3-4697-888c-4a3b23465fc1"
      },
      "execution_count": null,
      "outputs": [
        {
          "output_type": "stream",
          "name": "stdout",
          "text": [
            "Точность на обучающей выборке = 0.9699017199017199\n",
            "Ошибка на обучающей выборке = 0.030098280098280084\n",
            "=================================================\n",
            "Точность на тестовой выборке = 0.812375249500998\n",
            "Ошибка на тестовой выборке = 0.18762475049900196\n"
          ]
        }
      ]
    },
    {
      "cell_type": "markdown",
      "source": [
        "### **7.3. Gradient Boosting**"
      ],
      "metadata": {
        "id": "g3D069m32P3p"
      }
    },
    {
      "cell_type": "code",
      "source": [
        "from sklearn.ensemble import GradientBoostingClassifier"
      ],
      "metadata": {
        "id": "VJx5hLOHDFQI"
      },
      "execution_count": null,
      "outputs": []
    },
    {
      "cell_type": "markdown",
      "source": [
        "Выполним подбор параметра ***n_estimators*** (*число деревьев*) для того, чтобы выбрать наиболее лучший вариант"
      ],
      "metadata": {
        "id": "agYw1tvQCHBv"
      }
    },
    {
      "cell_type": "code",
      "source": [
        "# scores = []\n",
        "\n",
        "# for i in range(100, 1100, 100):\n",
        "#     gb = GradientBoostingClassifier(n_estimators=i)\n",
        "#     gb.fit(X_train, y_train)\n",
        "#     score = gb.score(X_test, y_test)\n",
        "#     result = [i, score]\n",
        "#     scores.append(result)\n",
        "\n",
        "# scores"
      ],
      "metadata": {
        "colab": {
          "base_uri": "https://localhost:8080/"
        },
        "id": "S2S9rphOIgWf",
        "outputId": "8984c466-f826-413d-cbf9-3f3a6422bfdf"
      },
      "execution_count": null,
      "outputs": [
        {
          "output_type": "execute_result",
          "data": {
            "text/plain": [
              "[[100, 0.8340242591739597],\n",
              " [200, 0.836480884385076],\n",
              " [300, 0.8392445877475817],\n",
              " [400, 0.8398587440503608],\n",
              " [500, 0.8384768923691079],\n",
              " [600, 0.8387839705204975],\n",
              " [700, 0.8395516658989712],\n",
              " [800, 0.8403193612774451],\n",
              " [900, 0.8409335175802242],\n",
              " [1000, 0.8403193612774451]]"
            ]
          },
          "metadata": {},
          "execution_count": 66
        }
      ]
    },
    {
      "cell_type": "code",
      "source": [
        "# max(scores, key=lambda x: x[1])"
      ],
      "metadata": {
        "colab": {
          "base_uri": "https://localhost:8080/"
        },
        "id": "BrWr3ohsIoin",
        "outputId": "392b7f9d-e738-4bec-c333-0d53bd8e63b5"
      },
      "execution_count": null,
      "outputs": [
        {
          "output_type": "execute_result",
          "data": {
            "text/plain": [
              "[900, 0.8409335175802242]"
            ]
          },
          "metadata": {},
          "execution_count": 67
        }
      ]
    },
    {
      "cell_type": "code",
      "source": [
        "# gb = GradientBoostingClassifier(n_estimators=max(scores, key=lambda x: x[1])[0])\n",
        "gb = GradientBoostingClassifier(n_estimators=900)\n",
        "gb.fit(X_train, y_train)"
      ],
      "metadata": {
        "colab": {
          "base_uri": "https://localhost:8080/"
        },
        "id": "TQOU-E3NCuYB",
        "outputId": "e24656c9-d163-4ae2-c568-bf4e9949834b"
      },
      "execution_count": null,
      "outputs": [
        {
          "output_type": "execute_result",
          "data": {
            "text/plain": [
              "GradientBoostingClassifier(n_estimators=900)"
            ]
          },
          "metadata": {},
          "execution_count": 68
        }
      ]
    },
    {
      "cell_type": "code",
      "source": [
        "gb_accuracy_train = np.mean(y_train == gb.predict(X_train))\n",
        "gb_err_train = 1 - gb_accuracy_train\n",
        "print(\"Точность на обучающей выборке =\", gb_accuracy_train)\n",
        "print(\"Ошибка на обучающей выборке =\", gb_err_train)\n",
        "print(\"=================================================\")\n",
        "gb_accuracy_test = np.mean(y_test == gb.predict(X_test))\n",
        "gb_err_test = 1 - gb_accuracy_test\n",
        "print(\"Точность на тестовой выборке =\", gb_accuracy_test)\n",
        "print(\"Ошибка на тестовой выборке =\", gb_err_test)"
      ],
      "metadata": {
        "colab": {
          "base_uri": "https://localhost:8080/"
        },
        "id": "iS1XoEIXDgHA",
        "outputId": "0f29ffe5-ccbe-4527-9673-33353b54dc60"
      },
      "execution_count": null,
      "outputs": [
        {
          "output_type": "stream",
          "name": "stdout",
          "text": [
            "Точность на обучающей выборке = 0.8619471744471745\n",
            "Ошибка на обучающей выборке = 0.1380528255528255\n",
            "=================================================\n",
            "Точность на тестовой выборке = 0.8409335175802242\n",
            "Ошибка на тестовой выборке = 0.15906648241977583\n"
          ]
        }
      ]
    },
    {
      "cell_type": "markdown",
      "source": [
        "### **7.4. Ada Boost**"
      ],
      "metadata": {
        "id": "D1FDZIgTEHIZ"
      }
    },
    {
      "cell_type": "code",
      "source": [
        "from sklearn.ensemble import AdaBoostClassifier"
      ],
      "metadata": {
        "id": "8WHjz1VmEdkP"
      },
      "execution_count": null,
      "outputs": []
    },
    {
      "cell_type": "markdown",
      "source": [
        "Выполним подбор параметра ***n_estimators*** (*число деревьев*) для того, чтобы выбрать наиболее лучший вариант"
      ],
      "metadata": {
        "id": "-iii6KhgCI6m"
      }
    },
    {
      "cell_type": "code",
      "source": [
        "# scores = []\n",
        "\n",
        "# for i in range(100, 1100, 100):\n",
        "#     ada = AdaBoostClassifier(n_estimators=i)\n",
        "#     ada.fit(X_train, y_train)\n",
        "#     score = ada.score(X_test, y_test)\n",
        "#     result = [i, score]\n",
        "#     scores.append(result)\n",
        "\n",
        "# scores"
      ],
      "metadata": {
        "colab": {
          "base_uri": "https://localhost:8080/"
        },
        "id": "aTHzPUENIzvn",
        "outputId": "54d03035-1e63-4688-ce94-f89eb20cf1a3"
      },
      "execution_count": null,
      "outputs": [
        {
          "output_type": "execute_result",
          "data": {
            "text/plain": [
              "[[100, 0.833256563795486],\n",
              " [200, 0.8337171810225702],\n",
              " [300, 0.8346384154767388],\n",
              " [400, 0.8352525717795178],\n",
              " [500, 0.8355596499309074],\n",
              " [600, 0.8358667280822969],\n",
              " [700, 0.8357131890066022],\n",
              " [800, 0.8350990327038231],\n",
              " [900, 0.8347919545524336],\n",
              " [1000, 0.8344848764010441]]"
            ]
          },
          "metadata": {},
          "execution_count": 71
        }
      ]
    },
    {
      "cell_type": "code",
      "source": [
        "# max(scores, key=lambda x: x[1])"
      ],
      "metadata": {
        "colab": {
          "base_uri": "https://localhost:8080/"
        },
        "id": "XWV4odwyItBn",
        "outputId": "83236f73-7e86-44e6-a95b-a4595e8bdf16"
      },
      "execution_count": null,
      "outputs": [
        {
          "output_type": "execute_result",
          "data": {
            "text/plain": [
              "[600, 0.8358667280822969]"
            ]
          },
          "metadata": {},
          "execution_count": 72
        }
      ]
    },
    {
      "cell_type": "code",
      "source": [
        "# ada = AdaBoostClassifier(n_estimators=max(scores, key=lambda x: x[1])[0])\n",
        "ada = AdaBoostClassifier(n_estimators=600)\n",
        "ada.fit(X_train, y_train)"
      ],
      "metadata": {
        "colab": {
          "base_uri": "https://localhost:8080/"
        },
        "id": "y8E4UrQqEf4H",
        "outputId": "99e89a1b-7c1d-4c06-8765-9c2eb01b67e0"
      },
      "execution_count": null,
      "outputs": [
        {
          "output_type": "execute_result",
          "data": {
            "text/plain": [
              "AdaBoostClassifier(n_estimators=600)"
            ]
          },
          "metadata": {},
          "execution_count": 73
        }
      ]
    },
    {
      "cell_type": "code",
      "source": [
        "ada_accuracy_train = np.mean(y_train == ada.predict(X_train))\n",
        "ada_err_train = 1 - ada_accuracy_train\n",
        "print(\"Точность на обучающей выборке =\", ada_accuracy_train)\n",
        "print(\"Ошибка на обучающей выборке =\", ada_err_train)\n",
        "print(\"=================================================\")\n",
        "ada_accuracy_test = np.mean(y_test == ada.predict(X_test))\n",
        "ada_err_test = 1 - ada_accuracy_test\n",
        "print(\"Точность на тестовой выборке =\", ada_accuracy_test)\n",
        "print(\"Ошибка на тестовой выборке =\", ada_err_test)"
      ],
      "metadata": {
        "colab": {
          "base_uri": "https://localhost:8080/"
        },
        "id": "OkqcUktwEkNH",
        "outputId": "e99ccdde-6bcb-4e4f-b8dd-2acfe5d3cb89"
      },
      "execution_count": null,
      "outputs": [
        {
          "output_type": "stream",
          "name": "stdout",
          "text": [
            "Точность на обучающей выборке = 0.8409474815724816\n",
            "Ошибка на обучающей выборке = 0.15905251842751844\n",
            "=================================================\n",
            "Точность на тестовой выборке = 0.8358667280822969\n",
            "Ошибка на тестовой выборке = 0.1641332719177031\n"
          ]
        }
      ]
    },
    {
      "cell_type": "markdown",
      "source": [
        "### **7.5. Extra Trees**"
      ],
      "metadata": {
        "id": "7lyLsmD6EP7O"
      }
    },
    {
      "cell_type": "code",
      "source": [
        "from sklearn.ensemble import ExtraTreesClassifier"
      ],
      "metadata": {
        "id": "-LOhXcSVFPBh"
      },
      "execution_count": null,
      "outputs": []
    },
    {
      "cell_type": "markdown",
      "source": [
        "Выполним подбор параметра ***n_estimators*** (*число деревьев*) для того, чтобы выбрать наиболее лучший вариант"
      ],
      "metadata": {
        "id": "IDYQ7RBxCKhW"
      }
    },
    {
      "cell_type": "code",
      "source": [
        "# scores = []\n",
        "\n",
        "# for i in range(100, 1100, 100):\n",
        "#     et = AdaBoostClassifier(n_estimators=i)\n",
        "#     et.fit(X_train, y_train)\n",
        "#     score = et.score(X_test, y_test)\n",
        "#     result = [i, score]\n",
        "#     scores.append(result)\n",
        "\n",
        "# scores"
      ],
      "metadata": {
        "colab": {
          "base_uri": "https://localhost:8080/"
        },
        "id": "o9jxw3VrI8m3",
        "outputId": "fee5c883-eb05-4d4f-da12-948c737621f9"
      },
      "execution_count": null,
      "outputs": [
        {
          "output_type": "execute_result",
          "data": {
            "text/plain": [
              "[[100, 0.833256563795486],\n",
              " [200, 0.8337171810225702],\n",
              " [300, 0.8346384154767388],\n",
              " [400, 0.8352525717795178],\n",
              " [500, 0.8355596499309074],\n",
              " [600, 0.8358667280822969],\n",
              " [700, 0.8357131890066022],\n",
              " [800, 0.8350990327038231],\n",
              " [900, 0.8347919545524336],\n",
              " [1000, 0.8344848764010441]]"
            ]
          },
          "metadata": {},
          "execution_count": 76
        }
      ]
    },
    {
      "cell_type": "code",
      "source": [
        "# max(scores, key=lambda x: x[1])"
      ],
      "metadata": {
        "colab": {
          "base_uri": "https://localhost:8080/"
        },
        "id": "pZnfyHcqIvan",
        "outputId": "0ad1f0cf-6e6b-4a47-e165-afce62310387"
      },
      "execution_count": null,
      "outputs": [
        {
          "output_type": "execute_result",
          "data": {
            "text/plain": [
              "[600, 0.8358667280822969]"
            ]
          },
          "metadata": {},
          "execution_count": 77
        }
      ]
    },
    {
      "cell_type": "code",
      "source": [
        "# et = AdaBoostClassifier(n_estimators=max(scores, key=lambda x: x[1])[0])\n",
        "et = AdaBoostClassifier(n_estimators=600)\n",
        "et.fit(X_train, y_train)"
      ],
      "metadata": {
        "colab": {
          "base_uri": "https://localhost:8080/"
        },
        "id": "FxiK1xFuFX-Q",
        "outputId": "64a48927-d55d-4d8c-b999-910d5c72d2cd"
      },
      "execution_count": null,
      "outputs": [
        {
          "output_type": "execute_result",
          "data": {
            "text/plain": [
              "AdaBoostClassifier(n_estimators=600)"
            ]
          },
          "metadata": {},
          "execution_count": 78
        }
      ]
    },
    {
      "cell_type": "code",
      "source": [
        "et_accuracy_train = np.mean(y_train == et.predict(X_train))\n",
        "et_err_train = 1 - et_accuracy_train\n",
        "print(\"Точность на обучающей выборке =\", et_accuracy_train)\n",
        "print(\"Ошибка на обучающей выборке =\", et_err_train)\n",
        "print(\"=================================================\")\n",
        "et_accuracy_test = np.mean(y_test == et.predict(X_test))\n",
        "et_err_test = 1 - et_accuracy_test\n",
        "print(\"Точность на тестовой выборке =\", et_accuracy_test)\n",
        "print(\"Ошибка на тестовой выборке =\", et_err_test)"
      ],
      "metadata": {
        "colab": {
          "base_uri": "https://localhost:8080/"
        },
        "id": "s3JlfTSzFc9X",
        "outputId": "3f0c3394-1a89-4b68-c7e0-ed913998482d"
      },
      "execution_count": null,
      "outputs": [
        {
          "output_type": "stream",
          "name": "stdout",
          "text": [
            "Точность на обучающей выборке = 0.8409474815724816\n",
            "Ошибка на обучающей выборке = 0.15905251842751844\n",
            "=================================================\n",
            "Точность на тестовой выборке = 0.8358667280822969\n",
            "Ошибка на тестовой выборке = 0.1641332719177031\n"
          ]
        }
      ]
    },
    {
      "cell_type": "markdown",
      "source": [
        "### Итоговая таблица"
      ],
      "metadata": {
        "id": "4zRJzMUKJaBZ"
      }
    },
    {
      "cell_type": "markdown",
      "source": [
        "Соберём полученные характеристики точности и ошибки предсказания в итоговую таблицу"
      ],
      "metadata": {
        "id": "aU7Fp9y5DhpQ"
      }
    },
    {
      "cell_type": "code",
      "source": [
        "index = ['KNeighborsClassifier', 'RandomForestClassifier', 'GradientBoostingClassifier', 'AdaBoostClassifier', 'ExtraTreesClassifier']\n",
        "\n",
        "train_acc_arr = [knn_accuracy_train, rf_accuracy_train, gb_accuracy_train, ada_accuracy_train, et_accuracy_train]\n",
        "test_acc_arr = [knn_accuracy_test, rf_accuracy_test, gb_accuracy_test, ada_accuracy_test, et_accuracy_test]\n",
        "train_err_arr = [knn_err_train, rf_err_train, gb_err_train, ada_err_train, et_err_train]\n",
        "test_err_arr = [knn_err_test, rf_err_test, gb_err_test, ada_err_test, et_err_test]\n",
        "\n",
        "train_acc = pd.Series(train_acc_arr, index, name='Train_Accuracy')\n",
        "test_acc = pd.Series(test_acc_arr, index, name='Test_Accuracy')\n",
        "train_err = pd.Series(train_err_arr, index, name='Train_Error')\n",
        "test_err = pd.Series(test_err_arr, index, name='Test_Error')\n",
        "\n",
        "pd.concat([train_acc, train_err, test_acc, test_err], axis=1).sort_values(by=['Test_Error'])"
      ],
      "metadata": {
        "colab": {
          "base_uri": "https://localhost:8080/"
        },
        "outputId": "30eb833e-b4dc-45db-9a75-a7e37658eccc",
        "id": "3b0ZeiDS_-gd"
      },
      "execution_count": null,
      "outputs": [
        {
          "output_type": "execute_result",
          "data": {
            "text/plain": [
              "                            Train_Accuracy  Train_Error  Test_Accuracy  \\\n",
              "GradientBoostingClassifier        0.861947     0.138053       0.840934   \n",
              "AdaBoostClassifier                0.840947     0.159053       0.835867   \n",
              "ExtraTreesClassifier              0.840947     0.159053       0.835867   \n",
              "KNeighborsClassifier              0.844595     0.155405       0.830953   \n",
              "RandomForestClassifier            0.969902     0.030098       0.812375   \n",
              "\n",
              "                            Test_Error  \n",
              "GradientBoostingClassifier    0.159066  \n",
              "AdaBoostClassifier            0.164133  \n",
              "ExtraTreesClassifier          0.164133  \n",
              "KNeighborsClassifier          0.169047  \n",
              "RandomForestClassifier        0.187625  "
            ],
            "text/html": [
              "\n",
              "  <div id=\"df-b36a816c-4af7-4b3c-9764-9df84a6a8e5c\">\n",
              "    <div class=\"colab-df-container\">\n",
              "      <div>\n",
              "<style scoped>\n",
              "    .dataframe tbody tr th:only-of-type {\n",
              "        vertical-align: middle;\n",
              "    }\n",
              "\n",
              "    .dataframe tbody tr th {\n",
              "        vertical-align: top;\n",
              "    }\n",
              "\n",
              "    .dataframe thead th {\n",
              "        text-align: right;\n",
              "    }\n",
              "</style>\n",
              "<table border=\"1\" class=\"dataframe\">\n",
              "  <thead>\n",
              "    <tr style=\"text-align: right;\">\n",
              "      <th></th>\n",
              "      <th>Train_Accuracy</th>\n",
              "      <th>Train_Error</th>\n",
              "      <th>Test_Accuracy</th>\n",
              "      <th>Test_Error</th>\n",
              "    </tr>\n",
              "  </thead>\n",
              "  <tbody>\n",
              "    <tr>\n",
              "      <th>GradientBoostingClassifier</th>\n",
              "      <td>0.861947</td>\n",
              "      <td>0.138053</td>\n",
              "      <td>0.840934</td>\n",
              "      <td>0.159066</td>\n",
              "    </tr>\n",
              "    <tr>\n",
              "      <th>AdaBoostClassifier</th>\n",
              "      <td>0.840947</td>\n",
              "      <td>0.159053</td>\n",
              "      <td>0.835867</td>\n",
              "      <td>0.164133</td>\n",
              "    </tr>\n",
              "    <tr>\n",
              "      <th>ExtraTreesClassifier</th>\n",
              "      <td>0.840947</td>\n",
              "      <td>0.159053</td>\n",
              "      <td>0.835867</td>\n",
              "      <td>0.164133</td>\n",
              "    </tr>\n",
              "    <tr>\n",
              "      <th>KNeighborsClassifier</th>\n",
              "      <td>0.844595</td>\n",
              "      <td>0.155405</td>\n",
              "      <td>0.830953</td>\n",
              "      <td>0.169047</td>\n",
              "    </tr>\n",
              "    <tr>\n",
              "      <th>RandomForestClassifier</th>\n",
              "      <td>0.969902</td>\n",
              "      <td>0.030098</td>\n",
              "      <td>0.812375</td>\n",
              "      <td>0.187625</td>\n",
              "    </tr>\n",
              "  </tbody>\n",
              "</table>\n",
              "</div>\n",
              "      <button class=\"colab-df-convert\" onclick=\"convertToInteractive('df-b36a816c-4af7-4b3c-9764-9df84a6a8e5c')\"\n",
              "              title=\"Convert this dataframe to an interactive table.\"\n",
              "              style=\"display:none;\">\n",
              "        \n",
              "  <svg xmlns=\"http://www.w3.org/2000/svg\" height=\"24px\"viewBox=\"0 0 24 24\"\n",
              "       width=\"24px\">\n",
              "    <path d=\"M0 0h24v24H0V0z\" fill=\"none\"/>\n",
              "    <path d=\"M18.56 5.44l.94 2.06.94-2.06 2.06-.94-2.06-.94-.94-2.06-.94 2.06-2.06.94zm-11 1L8.5 8.5l.94-2.06 2.06-.94-2.06-.94L8.5 2.5l-.94 2.06-2.06.94zm10 10l.94 2.06.94-2.06 2.06-.94-2.06-.94-.94-2.06-.94 2.06-2.06.94z\"/><path d=\"M17.41 7.96l-1.37-1.37c-.4-.4-.92-.59-1.43-.59-.52 0-1.04.2-1.43.59L10.3 9.45l-7.72 7.72c-.78.78-.78 2.05 0 2.83L4 21.41c.39.39.9.59 1.41.59.51 0 1.02-.2 1.41-.59l7.78-7.78 2.81-2.81c.8-.78.8-2.07 0-2.86zM5.41 20L4 18.59l7.72-7.72 1.47 1.35L5.41 20z\"/>\n",
              "  </svg>\n",
              "      </button>\n",
              "      \n",
              "  <style>\n",
              "    .colab-df-container {\n",
              "      display:flex;\n",
              "      flex-wrap:wrap;\n",
              "      gap: 12px;\n",
              "    }\n",
              "\n",
              "    .colab-df-convert {\n",
              "      background-color: #E8F0FE;\n",
              "      border: none;\n",
              "      border-radius: 50%;\n",
              "      cursor: pointer;\n",
              "      display: none;\n",
              "      fill: #1967D2;\n",
              "      height: 32px;\n",
              "      padding: 0 0 0 0;\n",
              "      width: 32px;\n",
              "    }\n",
              "\n",
              "    .colab-df-convert:hover {\n",
              "      background-color: #E2EBFA;\n",
              "      box-shadow: 0px 1px 2px rgba(60, 64, 67, 0.3), 0px 1px 3px 1px rgba(60, 64, 67, 0.15);\n",
              "      fill: #174EA6;\n",
              "    }\n",
              "\n",
              "    [theme=dark] .colab-df-convert {\n",
              "      background-color: #3B4455;\n",
              "      fill: #D2E3FC;\n",
              "    }\n",
              "\n",
              "    [theme=dark] .colab-df-convert:hover {\n",
              "      background-color: #434B5C;\n",
              "      box-shadow: 0px 1px 3px 1px rgba(0, 0, 0, 0.15);\n",
              "      filter: drop-shadow(0px 1px 2px rgba(0, 0, 0, 0.3));\n",
              "      fill: #FFFFFF;\n",
              "    }\n",
              "  </style>\n",
              "\n",
              "      <script>\n",
              "        const buttonEl =\n",
              "          document.querySelector('#df-b36a816c-4af7-4b3c-9764-9df84a6a8e5c button.colab-df-convert');\n",
              "        buttonEl.style.display =\n",
              "          google.colab.kernel.accessAllowed ? 'block' : 'none';\n",
              "\n",
              "        async function convertToInteractive(key) {\n",
              "          const element = document.querySelector('#df-b36a816c-4af7-4b3c-9764-9df84a6a8e5c');\n",
              "          const dataTable =\n",
              "            await google.colab.kernel.invokeFunction('convertToInteractive',\n",
              "                                                     [key], {});\n",
              "          if (!dataTable) return;\n",
              "\n",
              "          const docLinkHtml = 'Like what you see? Visit the ' +\n",
              "            '<a target=\"_blank\" href=https://colab.research.google.com/notebooks/data_table.ipynb>data table notebook</a>'\n",
              "            + ' to learn more about interactive tables.';\n",
              "          element.innerHTML = '';\n",
              "          dataTable['output_type'] = 'display_data';\n",
              "          await google.colab.output.renderOutput(dataTable, element);\n",
              "          const docLink = document.createElement('div');\n",
              "          docLink.innerHTML = docLinkHtml;\n",
              "          element.appendChild(docLink);\n",
              "        }\n",
              "      </script>\n",
              "    </div>\n",
              "  </div>\n",
              "  "
            ]
          },
          "metadata": {},
          "execution_count": 80
        }
      ]
    },
    {
      "cell_type": "markdown",
      "source": [
        "##  **Выводы**"
      ],
      "metadata": {
        "id": "UlvxiHX1C77Z"
      }
    },
    {
      "cell_type": "markdown",
      "source": [
        "В результате проделанной работы можно сделать вывод о том, что классификатор `GradientBoostingClassifier` показал самую высокую точность предсказания — около 84% на тестовой выборке. Также стоит отметить, что классификаторы `AdaBoostClassifier` и `ExtraTreesClassifier` показали абсолютно одинаковые результаты как на обучающей, так и на тестовой выборке. Абсолютным лидером предсказания на обучающей выборке является `RandomForestClassifier`c ошибкой около 3%. Показатели всех классификаторов на тестовой выборке особо сильно не различаются, улучшить результаты предсказания не помог даже подбор лучшего параметра. Скорее всего полученные результаты можно улучшить, если мы будем иметь гораздо больше данных, что позволит обучить модель классификатора гораздо лучше."
      ],
      "metadata": {
        "id": "mNuJK9AzDKgp"
      }
    }
  ]
}